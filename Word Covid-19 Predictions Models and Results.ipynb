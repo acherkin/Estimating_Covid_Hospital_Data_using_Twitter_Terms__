{
 "cells": [
  {
   "cell_type": "code",
   "execution_count": 52,
   "id": "d41d6d2e",
   "metadata": {},
   "outputs": [],
   "source": [
    "from sklearn.preprocessing import StandardScaler\n",
    "import pandas as pd\n",
    "import numpy as np\n",
    "\n",
    "\n",
    "PredictorScaler=StandardScaler()\n",
    "TargetVarScaler=StandardScaler()\n",
    "\n",
    "def data_standard(X, y, PredictorScaler, TargetVarScaler):\n",
    "    PredictorScalerFit=PredictorScaler.fit(X)\n",
    "    TargetVarScalerFit=TargetVarScaler.fit(y)\n",
    "    X=PredictorScalerFit.transform(X)\n",
    "    y=TargetVarScalerFit.transform(y)\n",
    "    return X, y, PredictorScalerFit, TargetVarScalerFit\n",
    "\n",
    "    "
   ]
  },
  {
   "cell_type": "code",
   "execution_count": 3,
   "id": "af37878a",
   "metadata": {},
   "outputs": [
    {
     "name": "stderr",
     "output_type": "stream",
     "text": [
      "C:\\Users\\annac\\anaconda\\lib\\site-packages\\tensorflow_addons\\utils\\tfa_eol_msg.py:23: UserWarning: \n",
      "\n",
      "TensorFlow Addons (TFA) has ended development and introduction of new features.\n",
      "TFA has entered a minimal maintenance and release mode until a planned end of life in May 2024.\n",
      "Please modify downstream libraries to take dependencies from other repositories in our TensorFlow community (e.g. Keras, Keras-CV, and Keras-NLP). \n",
      "\n",
      "For more information see: https://github.com/tensorflow/addons/issues/2807 \n",
      "\n",
      "  warnings.warn(\n"
     ]
    }
   ],
   "source": [
    "import tensorflow as tf\n",
    "import tensorflow_addons as tfa"
   ]
  },
  {
   "cell_type": "code",
   "execution_count": 4,
   "id": "2f235b4e",
   "metadata": {},
   "outputs": [],
   "source": [
    "#CNN Model Descition\n",
    "from keras.models import Sequential\n",
    "from keras.layers import Dense, Dropout\n",
    "#from keras.metrics import mean_squared_error\n",
    "\n",
    "\n",
    "def findBestANNParams(X_train, y_train, X_test, y_test, dim):\n",
    "    \n",
    "    # Defining the list of hyper parameters to try\n",
    "    batch_size_list=[5, 10, 15, 20]\n",
    "    epoch_list  =   [5, 10, 50, 100]\n",
    "    \n",
    "    SearchResultsData=pd.DataFrame(columns=['TrialNumber', 'Parameters', 'MSE'])\n",
    "    \n",
    "    # initializing the trials\n",
    "    TrialNumber=0\n",
    "    for batch_size_trial in batch_size_list:\n",
    "        for epochs_trial in epoch_list:\n",
    "            TrialNumber+=1\n",
    "            # create ANN model\n",
    "            model = Sequential()\n",
    " \n",
    "            # Defining the Input layer and FIRST hidden layer, both are same!\n",
    "            model.add(Dense(units=8, input_dim=dim, kernel_initializer='normal', activation='relu'))\n",
    "\n",
    "            model.add(Dropout(0.2))\n",
    " \n",
    "            # Defining the Second layer of the model\n",
    "            # after the first layer we don't have to specify input_dim as keras configure it automatically\n",
    "            model.add(Dense(units=32, kernel_initializer='normal', activation='relu'))\n",
    "\n",
    "            model.add(Dropout(0.2))\n",
    "\n",
    "            model.add(Dense(units=16, kernel_initializer='normal', activation='relu'))\n",
    "    \n",
    " \n",
    "            # The output neuron is a single fully connected node \n",
    "            # Since we will be predicting a single number\n",
    "            model.add(Dense(1, kernel_initializer='normal', activation='linear'))\n",
    " \n",
    "            # Compiling the model\n",
    "            model.compile(loss='mean_squared_error', optimizer='adam')\n",
    "            # Fitting the ANN to the Training set\n",
    "            model.fit(X_train, y_train ,batch_size = batch_size_trial, epochs = epochs_trial, verbose=0)\n",
    " \n",
    "            #MAPE = np.mean(100 * (np.abs(y_test-model.predict(X_test))/y_test))\n",
    "            y_pred = model.predict(X_test)\n",
    "            MSE = np.mean(np.square(y_test - y_pred))\n",
    "    \n",
    "            \n",
    "            # printing the results of the current iteration\n",
    "            #print(TrialNumber, 'Parameters:','batch_size:', batch_size_trial,'-', 'epochs:',epochs_trial, 'Accuracy:', 100-MAPE)\n",
    "            \n",
    "            SearchResultsData=SearchResultsData.append(pd.DataFrame(data=[[TrialNumber, batch_size_trial, epochs_trial, MSE]],\n",
    "                                                                    columns=['TrialNumber', 'Batch', 'Epochs', 'MSE'] ))\n",
    "            \n",
    "    print(SearchResultsData)\n",
    "            \n",
    "    return(SearchResultsData)"
   ]
  },
  {
   "cell_type": "code",
   "execution_count": 5,
   "id": "1916e6f4",
   "metadata": {},
   "outputs": [],
   "source": [
    "from sklearn.metrics import mean_squared_error, accuracy_score\n",
    "\n",
    "from tensorflow.keras.metrics import MeanSquaredError\n",
    "\n",
    "def get_scores(model, model_type, TargetVarScalerFit, PredictorScalerFit, X_test, y_test):\n",
    "    predictions=model.predict(X_test)\n",
    "    \n",
    "    score = 0\n",
    "    mse = 0\n",
    "    if(model_type == 's'):\n",
    "        metric = tfa.metrics.r_square.RSquare()\n",
    "        metric.update_state(y_test, predictions)\n",
    "        r = metric.result()\n",
    "        score = r.numpy()\n",
    "        \n",
    "        metric_mse = MeanSquaredError()\n",
    "        metric_mse.update_state(y_test, predictions)\n",
    "        mse = metric_mse.result().numpy()\n",
    "        #acc = accuracy_score(y_test, predictions, normalize = True)\n",
    "    else:\n",
    "        mse = mean_squared_error(y_test, predictions)\n",
    "        score = model.score(X_test,y_test)\n",
    "        #acc = accuracy_score(y_test, predictions, normalize = True)\n",
    "    predictions=TargetVarScalerFit.inverse_transform(predictions)\n",
    "    y_test_orig=TargetVarScalerFit.inverse_transform(y_test)\n",
    "    Test_Data=PredictorScalerFit.inverse_transform(X_test)\n",
    "    TestingData=pd.DataFrame(data=y_test_orig, columns=['ActualValue'])\n",
    "    TestingData['Predicted']=predictions\n",
    "    TestingData['Diff']=TestingData['ActualValue']-TestingData['Predicted']\n",
    "    TestingData['Diff'] = TestingData['Diff'].abs()\n",
    "    APE=100*TestingData['Diff']/TestingData['ActualValue']\n",
    "    \n",
    "    scores = pd.DataFrame()\n",
    "    \n",
    "    print(\"R-squared:\", score)\n",
    "   \n",
    "    #acc = 100-np.mean(APE)\n",
    "    print(\"MSE:\", mse)\n",
    "    #print('The Accuracy of the following model is:', acc)\n",
    "    \n",
    "    #sc_arr = [score, mse, acc]\n",
    "    sc_pd = pd.DataFrame({'R^2': [score], 'MSE': [mse]})\n",
    "    \n",
    "    return sc_pd, TestingData\n",
    "    \n",
    "    \n",
    "    \n",
    "    "
   ]
  },
  {
   "cell_type": "code",
   "execution_count": 24,
   "id": "5037d2a8",
   "metadata": {},
   "outputs": [],
   "source": [
    "targets = pd.read_csv('C:/Users/annac/avr_hosp_data.csv')"
   ]
  },
  {
   "cell_type": "code",
   "execution_count": null,
   "id": "33aff4f7",
   "metadata": {},
   "outputs": [],
   "source": []
  },
  {
   "cell_type": "code",
   "execution_count": 6,
   "id": "85410d44",
   "metadata": {},
   "outputs": [],
   "source": [
    "from sklearn.model_selection import train_test_split"
   ]
  },
  {
   "cell_type": "code",
   "execution_count": 7,
   "id": "73a70ebe",
   "metadata": {},
   "outputs": [],
   "source": [
    "def ANN_model(targets,target_name, file_name):\n",
    "    df_pd = pd.read_csv(file_name+'.csv') #target_name\n",
    "    X=df_pd.values\n",
    "    y = targets[[target_name]].values\n",
    "    dim = len(df_pd.columns)\n",
    "    \n",
    "    X, y, PredictorScalerFit, TargetVarScalerFit = data_standard(X, y, PredictorScaler, TargetVarScaler)\n",
    "    X_train, X_test, y_train, y_test = train_test_split(X, y, test_size=0.2, random_state=42)\n",
    "    \n",
    "    ResultsData=findBestANNParams(X_train, y_train, X_test, y_test, dim)\n",
    "    \n",
    "    mses = list(ResultsData['MSE'])\n",
    "    index_m = 0\n",
    "    \n",
    "    for i in range(0, len(mses)):\n",
    "        if mses[i] < mses[index_m]:\n",
    "            index_m = i\n",
    "    \n",
    "    \n",
    "    #index_acc = acc_l.index(max_a)\n",
    "    print(\"index_m:\"+str(index_m))\n",
    "    \n",
    "    epochs = ResultsData.iloc[index_m]['Epochs']\n",
    "    \n",
    "    epochs = int(epochs)\n",
    "    \n",
    "    batch = ResultsData.iloc[index_m]['Batch']\n",
    "    \n",
    "    batch = int(batch)\n",
    "    \n",
    "    \n",
    "    \n",
    "   # print(ResultsData)\n",
    "    \n",
    "    \n",
    "    model = Sequential()\n",
    " \n",
    "\n",
    "    model.add(Dense(units=8, input_dim=dim, kernel_initializer='normal', activation='relu'))\n",
    "\n",
    "    model.add(Dropout(0.2))\n",
    " \n",
    "    model.add(Dense(units=32, kernel_initializer='normal', activation='relu'))\n",
    "\n",
    "    model.add(Dropout(0.2))\n",
    "\n",
    "    model.add(Dense(units=16, kernel_initializer='normal', activation='relu'))\n",
    "    \n",
    "    model.add(Dense(1, kernel_initializer='normal', activation='linear'))\n",
    "\n",
    "    model.compile(loss='mean_squared_error', optimizer='adam')\n",
    "    \n",
    "    model.fit(X_train, y_train ,batch_size = batch, epochs = epochs, verbose=1)\n",
    "    \n",
    "    \n",
    "    scores, predictions = get_scores(model, 's', TargetVarScalerFit, PredictorScalerFit, X_test, y_test)\n",
    "    \n",
    "    print(predictions.head(50))\n",
    "    print(scores)\n",
    "    \n",
    "    return scores, predictions\n",
    "    \n",
    "    \n",
    "    \n",
    "    \n",
    "    "
   ]
  },
  {
   "cell_type": "code",
   "execution_count": 8,
   "id": "6a8c8834",
   "metadata": {},
   "outputs": [],
   "source": [
    "from sklearn.svm import SVR\n",
    "\n",
    "def SVM_model(targets,target_name, file_name):\n",
    "    df_pd = pd.read_csv(file_name+'.csv') #target_name\n",
    "    X=df_pd.values\n",
    "    y = targets[[target_name]].values\n",
    "    \n",
    "    X, y, PredictorScalerFit, TargetVarScalerFit = data_standard(X, y, PredictorScaler, TargetVarScaler)\n",
    "    X_train, X_test, y_train, y_test = train_test_split(X, y, test_size=0.2, random_state=42)\n",
    "    \n",
    "    model = SVR(kernel = 'rbf')\n",
    "    model.fit(X_train, y_train)\n",
    "    scores, predictions = get_scores(model, 'ml', TargetVarScalerFit, PredictorScalerFit, X_test, y_test)\n",
    "    \n",
    "    return scores, predictions\n",
    "    "
   ]
  },
  {
   "cell_type": "code",
   "execution_count": 9,
   "id": "d1dfa968",
   "metadata": {},
   "outputs": [],
   "source": [
    "from sklearn.neighbors import KNeighborsRegressor\n",
    "\n",
    "def KNN_model(targets,target_name, file_name):\n",
    "    df_pd = pd.read_csv(file_name+'.csv') #target_name\n",
    "    X=df_pd.values\n",
    "    y = targets[[target_name]].values\n",
    "    \n",
    "    X, y, PredictorScalerFit, TargetVarScalerFit = data_standard(X, y, PredictorScaler, TargetVarScaler)\n",
    "    X_train, X_test, y_train, y_test = train_test_split(X, y, test_size=0.2, random_state=42)\n",
    "    \n",
    "    mses = []\n",
    "\n",
    "    for k in range(2, 11):\n",
    "\n",
    "        model = KNeighborsRegressor(n_neighbors=k)\n",
    "        model.fit(X_train, y_train)\n",
    "        \n",
    "        y_pred = model.predict(X_test)\n",
    "        \n",
    "\n",
    "        #score = model.score(X_test, y_test)\n",
    "       \n",
    "        MSE = mean_squared_error(y_test, y_pred)\n",
    "        print(\"K=%d, val_mse=%.2f%%\" % (k, MSE))\n",
    "        mses.append(MSE)\n",
    "        \n",
    "    index_m = 0\n",
    "\n",
    "    for i in range(0, len(mses)):\n",
    "        if mses[i] < mses[index_m]:\n",
    "            index_m = i\n",
    "    \n",
    "    #min_mse = min(mses)\n",
    "    \n",
    "    #print(min_mse)\n",
    "    \n",
    "    \n",
    "    #index_m = mses.index(min_mse)\n",
    "    print(\"index_mse:\"+str(index_m))\n",
    "        \n",
    "    model = KNeighborsRegressor(n_neighbors=index_m+2)\n",
    "    model.fit(X_train, y_train)\n",
    "    \n",
    "    scores, predictions = get_scores(model, 'ml', TargetVarScalerFit, PredictorScalerFit, X_test, y_test)\n",
    "    \n",
    "    return scores, predictions\n"
   ]
  },
  {
   "cell_type": "code",
   "execution_count": 10,
   "id": "3520b8b6",
   "metadata": {},
   "outputs": [],
   "source": [
    "from sklearn.linear_model import LinearRegression\n",
    "#https://scikit-learn.org/stable/modules/generated/sklearn.linear_model.LinearRegression.html\n",
    "def LR_model(targets,target_name, file_name):\n",
    "    df_pd = pd.read_csv(file_name+'.csv') #target_name\n",
    "    X=df_pd.values\n",
    "    y = targets[[target_name]].values\n",
    "    \n",
    "    X, y, PredictorScalerFit, TargetVarScalerFit = data_standard(X, y, PredictorScaler, TargetVarScaler)\n",
    "    X_train, X_test, y_train, y_test = train_test_split(X, y, test_size=0.2, random_state=42)\n",
    "    model = LinearRegression()\n",
    "    reg = model.fit(X_train, y_train)\n",
    "    print(reg.score(X_train, y_train))\n",
    "    print(reg.intercept_)\n",
    "    scores, predictions = get_scores(model, 'ml', TargetVarScalerFit, PredictorScalerFit, X_test, y_test)\n",
    "    \n",
    "    return scores, predictions\n",
    "    "
   ]
  },
  {
   "cell_type": "code",
   "execution_count": 121,
   "id": "c8a74af7",
   "metadata": {},
   "outputs": [
    {
     "name": "stdout",
     "output_type": "stream",
     "text": [
      "2/2 [==============================] - 1s 256ms/step\n"
     ]
    },
    {
     "name": "stderr",
     "output_type": "stream",
     "text": [
      "C:\\Users\\annac\\AppData\\Local\\Temp/ipykernel_1956/695762972.py:54: FutureWarning: The frame.append method is deprecated and will be removed from pandas in a future version. Use pandas.concat instead.\n",
      "  SearchResultsData=SearchResultsData.append(pd.DataFrame(data=[[TrialNumber, batch_size_trial, epochs_trial, MSE]],\n"
     ]
    },
    {
     "name": "stdout",
     "output_type": "stream",
     "text": [
      "2/2 [==============================] - 0s 115ms/step\n"
     ]
    },
    {
     "name": "stderr",
     "output_type": "stream",
     "text": [
      "C:\\Users\\annac\\AppData\\Local\\Temp/ipykernel_1956/695762972.py:54: FutureWarning: The frame.append method is deprecated and will be removed from pandas in a future version. Use pandas.concat instead.\n",
      "  SearchResultsData=SearchResultsData.append(pd.DataFrame(data=[[TrialNumber, batch_size_trial, epochs_trial, MSE]],\n"
     ]
    },
    {
     "name": "stdout",
     "output_type": "stream",
     "text": [
      "2/2 [==============================] - 0s 55ms/step\n"
     ]
    },
    {
     "name": "stderr",
     "output_type": "stream",
     "text": [
      "C:\\Users\\annac\\AppData\\Local\\Temp/ipykernel_1956/695762972.py:54: FutureWarning: The frame.append method is deprecated and will be removed from pandas in a future version. Use pandas.concat instead.\n",
      "  SearchResultsData=SearchResultsData.append(pd.DataFrame(data=[[TrialNumber, batch_size_trial, epochs_trial, MSE]],\n"
     ]
    },
    {
     "name": "stdout",
     "output_type": "stream",
     "text": [
      "2/2 [==============================] - 0s 3ms/step\n"
     ]
    },
    {
     "name": "stderr",
     "output_type": "stream",
     "text": [
      "C:\\Users\\annac\\AppData\\Local\\Temp/ipykernel_1956/695762972.py:54: FutureWarning: The frame.append method is deprecated and will be removed from pandas in a future version. Use pandas.concat instead.\n",
      "  SearchResultsData=SearchResultsData.append(pd.DataFrame(data=[[TrialNumber, batch_size_trial, epochs_trial, MSE]],\n"
     ]
    },
    {
     "name": "stdout",
     "output_type": "stream",
     "text": [
      "2/2 [==============================] - 0s 4ms/step\n"
     ]
    },
    {
     "name": "stderr",
     "output_type": "stream",
     "text": [
      "C:\\Users\\annac\\AppData\\Local\\Temp/ipykernel_1956/695762972.py:54: FutureWarning: The frame.append method is deprecated and will be removed from pandas in a future version. Use pandas.concat instead.\n",
      "  SearchResultsData=SearchResultsData.append(pd.DataFrame(data=[[TrialNumber, batch_size_trial, epochs_trial, MSE]],\n"
     ]
    },
    {
     "name": "stdout",
     "output_type": "stream",
     "text": [
      "2/2 [==============================] - 0s 3ms/step\n"
     ]
    },
    {
     "name": "stderr",
     "output_type": "stream",
     "text": [
      "C:\\Users\\annac\\AppData\\Local\\Temp/ipykernel_1956/695762972.py:54: FutureWarning: The frame.append method is deprecated and will be removed from pandas in a future version. Use pandas.concat instead.\n",
      "  SearchResultsData=SearchResultsData.append(pd.DataFrame(data=[[TrialNumber, batch_size_trial, epochs_trial, MSE]],\n"
     ]
    },
    {
     "name": "stdout",
     "output_type": "stream",
     "text": [
      "2/2 [==============================] - 0s 2ms/step\n"
     ]
    },
    {
     "name": "stderr",
     "output_type": "stream",
     "text": [
      "C:\\Users\\annac\\AppData\\Local\\Temp/ipykernel_1956/695762972.py:54: FutureWarning: The frame.append method is deprecated and will be removed from pandas in a future version. Use pandas.concat instead.\n",
      "  SearchResultsData=SearchResultsData.append(pd.DataFrame(data=[[TrialNumber, batch_size_trial, epochs_trial, MSE]],\n"
     ]
    },
    {
     "name": "stdout",
     "output_type": "stream",
     "text": [
      "2/2 [==============================] - 0s 3ms/step\n"
     ]
    },
    {
     "name": "stderr",
     "output_type": "stream",
     "text": [
      "C:\\Users\\annac\\AppData\\Local\\Temp/ipykernel_1956/695762972.py:54: FutureWarning: The frame.append method is deprecated and will be removed from pandas in a future version. Use pandas.concat instead.\n",
      "  SearchResultsData=SearchResultsData.append(pd.DataFrame(data=[[TrialNumber, batch_size_trial, epochs_trial, MSE]],\n"
     ]
    },
    {
     "name": "stdout",
     "output_type": "stream",
     "text": [
      "2/2 [==============================] - 0s 3ms/step\n"
     ]
    },
    {
     "name": "stderr",
     "output_type": "stream",
     "text": [
      "C:\\Users\\annac\\AppData\\Local\\Temp/ipykernel_1956/695762972.py:54: FutureWarning: The frame.append method is deprecated and will be removed from pandas in a future version. Use pandas.concat instead.\n",
      "  SearchResultsData=SearchResultsData.append(pd.DataFrame(data=[[TrialNumber, batch_size_trial, epochs_trial, MSE]],\n"
     ]
    },
    {
     "name": "stdout",
     "output_type": "stream",
     "text": [
      "2/2 [==============================] - 0s 3ms/step\n"
     ]
    },
    {
     "name": "stderr",
     "output_type": "stream",
     "text": [
      "C:\\Users\\annac\\AppData\\Local\\Temp/ipykernel_1956/695762972.py:54: FutureWarning: The frame.append method is deprecated and will be removed from pandas in a future version. Use pandas.concat instead.\n",
      "  SearchResultsData=SearchResultsData.append(pd.DataFrame(data=[[TrialNumber, batch_size_trial, epochs_trial, MSE]],\n"
     ]
    },
    {
     "name": "stdout",
     "output_type": "stream",
     "text": [
      "2/2 [==============================] - 0s 3ms/step\n"
     ]
    },
    {
     "name": "stderr",
     "output_type": "stream",
     "text": [
      "C:\\Users\\annac\\AppData\\Local\\Temp/ipykernel_1956/695762972.py:54: FutureWarning: The frame.append method is deprecated and will be removed from pandas in a future version. Use pandas.concat instead.\n",
      "  SearchResultsData=SearchResultsData.append(pd.DataFrame(data=[[TrialNumber, batch_size_trial, epochs_trial, MSE]],\n"
     ]
    },
    {
     "name": "stdout",
     "output_type": "stream",
     "text": [
      "2/2 [==============================] - 0s 3ms/step\n"
     ]
    },
    {
     "name": "stderr",
     "output_type": "stream",
     "text": [
      "C:\\Users\\annac\\AppData\\Local\\Temp/ipykernel_1956/695762972.py:54: FutureWarning: The frame.append method is deprecated and will be removed from pandas in a future version. Use pandas.concat instead.\n",
      "  SearchResultsData=SearchResultsData.append(pd.DataFrame(data=[[TrialNumber, batch_size_trial, epochs_trial, MSE]],\n"
     ]
    },
    {
     "name": "stdout",
     "output_type": "stream",
     "text": [
      "2/2 [==============================] - 0s 2ms/step\n"
     ]
    },
    {
     "name": "stderr",
     "output_type": "stream",
     "text": [
      "C:\\Users\\annac\\AppData\\Local\\Temp/ipykernel_1956/695762972.py:54: FutureWarning: The frame.append method is deprecated and will be removed from pandas in a future version. Use pandas.concat instead.\n",
      "  SearchResultsData=SearchResultsData.append(pd.DataFrame(data=[[TrialNumber, batch_size_trial, epochs_trial, MSE]],\n"
     ]
    },
    {
     "name": "stdout",
     "output_type": "stream",
     "text": [
      "2/2 [==============================] - 0s 2ms/step\n"
     ]
    },
    {
     "name": "stderr",
     "output_type": "stream",
     "text": [
      "C:\\Users\\annac\\AppData\\Local\\Temp/ipykernel_1956/695762972.py:54: FutureWarning: The frame.append method is deprecated and will be removed from pandas in a future version. Use pandas.concat instead.\n",
      "  SearchResultsData=SearchResultsData.append(pd.DataFrame(data=[[TrialNumber, batch_size_trial, epochs_trial, MSE]],\n"
     ]
    },
    {
     "name": "stdout",
     "output_type": "stream",
     "text": [
      "2/2 [==============================] - 0s 3ms/step\n"
     ]
    },
    {
     "name": "stderr",
     "output_type": "stream",
     "text": [
      "C:\\Users\\annac\\AppData\\Local\\Temp/ipykernel_1956/695762972.py:54: FutureWarning: The frame.append method is deprecated and will be removed from pandas in a future version. Use pandas.concat instead.\n",
      "  SearchResultsData=SearchResultsData.append(pd.DataFrame(data=[[TrialNumber, batch_size_trial, epochs_trial, MSE]],\n"
     ]
    },
    {
     "name": "stdout",
     "output_type": "stream",
     "text": [
      "2/2 [==============================] - 0s 2ms/step\n",
      "  TrialNumber Parameters       MSE  Batch  Epochs\n",
      "0           1        NaN  0.214579    5.0     5.0\n",
      "0           2        NaN  0.173281    5.0    10.0\n",
      "0           3        NaN  0.127805    5.0    50.0\n",
      "0           4        NaN  0.148269    5.0   100.0\n",
      "0           5        NaN  0.374397   10.0     5.0\n",
      "0           6        NaN  0.189859   10.0    10.0\n",
      "0           7        NaN  0.145021   10.0    50.0\n",
      "0           8        NaN  0.140420   10.0   100.0\n",
      "0           9        NaN  0.691336   15.0     5.0\n",
      "0          10        NaN  0.236065   15.0    10.0\n",
      "0          11        NaN  0.162831   15.0    50.0\n",
      "0          12        NaN  0.124696   15.0   100.0\n",
      "0          13        NaN  0.886194   20.0     5.0\n",
      "0          14        NaN  0.467219   20.0    10.0\n",
      "0          15        NaN  0.148765   20.0    50.0\n",
      "0          16        NaN  0.142185   20.0   100.0\n",
      "index_m:11\n",
      "Epoch 1/100\n"
     ]
    },
    {
     "name": "stderr",
     "output_type": "stream",
     "text": [
      "C:\\Users\\annac\\AppData\\Local\\Temp/ipykernel_1956/695762972.py:54: FutureWarning: The frame.append method is deprecated and will be removed from pandas in a future version. Use pandas.concat instead.\n",
      "  SearchResultsData=SearchResultsData.append(pd.DataFrame(data=[[TrialNumber, batch_size_trial, epochs_trial, MSE]],\n"
     ]
    },
    {
     "name": "stdout",
     "output_type": "stream",
     "text": [
      "11/11 [==============================] - 0s 2ms/step - loss: 0.9677\n",
      "Epoch 2/100\n",
      "11/11 [==============================] - 0s 2ms/step - loss: 0.9637\n",
      "Epoch 3/100\n",
      "11/11 [==============================] - 0s 1ms/step - loss: 0.9495\n",
      "Epoch 4/100\n",
      "11/11 [==============================] - 0s 2ms/step - loss: 0.9089\n",
      "Epoch 5/100\n",
      "11/11 [==============================] - 0s 2ms/step - loss: 0.7893\n",
      "Epoch 6/100\n",
      "11/11 [==============================] - 0s 2ms/step - loss: 0.5788\n",
      "Epoch 7/100\n",
      "11/11 [==============================] - 0s 2ms/step - loss: 0.4262\n",
      "Epoch 8/100\n",
      "11/11 [==============================] - 0s 2ms/step - loss: 0.3407\n",
      "Epoch 9/100\n",
      "11/11 [==============================] - 0s 2ms/step - loss: 0.3540\n",
      "Epoch 10/100\n",
      "11/11 [==============================] - 0s 2ms/step - loss: 0.2979\n",
      "Epoch 11/100\n",
      "11/11 [==============================] - 0s 2ms/step - loss: 0.3526\n",
      "Epoch 12/100\n",
      "11/11 [==============================] - 0s 2ms/step - loss: 0.3505\n",
      "Epoch 13/100\n",
      "11/11 [==============================] - 0s 2ms/step - loss: 0.3145\n",
      "Epoch 14/100\n",
      "11/11 [==============================] - 0s 2ms/step - loss: 0.2967\n",
      "Epoch 15/100\n",
      "11/11 [==============================] - 0s 2ms/step - loss: 0.3138\n",
      "Epoch 16/100\n",
      "11/11 [==============================] - 0s 2ms/step - loss: 0.2761\n",
      "Epoch 17/100\n",
      "11/11 [==============================] - 0s 2ms/step - loss: 0.2767\n",
      "Epoch 18/100\n",
      "11/11 [==============================] - 0s 2ms/step - loss: 0.2842\n",
      "Epoch 19/100\n",
      "11/11 [==============================] - 0s 2ms/step - loss: 0.2770\n",
      "Epoch 20/100\n",
      "11/11 [==============================] - 0s 2ms/step - loss: 0.2470\n",
      "Epoch 21/100\n",
      "11/11 [==============================] - 0s 2ms/step - loss: 0.2431\n",
      "Epoch 22/100\n",
      "11/11 [==============================] - 0s 2ms/step - loss: 0.2575\n",
      "Epoch 23/100\n",
      "11/11 [==============================] - 0s 2ms/step - loss: 0.2765\n",
      "Epoch 24/100\n",
      "11/11 [==============================] - 0s 2ms/step - loss: 0.2139\n",
      "Epoch 25/100\n",
      "11/11 [==============================] - 0s 2ms/step - loss: 0.2496\n",
      "Epoch 26/100\n",
      "11/11 [==============================] - 0s 2ms/step - loss: 0.2229\n",
      "Epoch 27/100\n",
      "11/11 [==============================] - 0s 2ms/step - loss: 0.2372\n",
      "Epoch 28/100\n",
      "11/11 [==============================] - 0s 2ms/step - loss: 0.2449\n",
      "Epoch 29/100\n",
      "11/11 [==============================] - 0s 2ms/step - loss: 0.2310\n",
      "Epoch 30/100\n",
      "11/11 [==============================] - 0s 2ms/step - loss: 0.2243\n",
      "Epoch 31/100\n",
      "11/11 [==============================] - 0s 2ms/step - loss: 0.2274\n",
      "Epoch 32/100\n",
      "11/11 [==============================] - 0s 2ms/step - loss: 0.2319\n",
      "Epoch 33/100\n",
      "11/11 [==============================] - 0s 2ms/step - loss: 0.2240\n",
      "Epoch 34/100\n",
      "11/11 [==============================] - 0s 2ms/step - loss: 0.2273\n",
      "Epoch 35/100\n",
      "11/11 [==============================] - 0s 2ms/step - loss: 0.2301\n",
      "Epoch 36/100\n",
      "11/11 [==============================] - 0s 2ms/step - loss: 0.2253\n",
      "Epoch 37/100\n",
      "11/11 [==============================] - 0s 2ms/step - loss: 0.2107\n",
      "Epoch 38/100\n",
      "11/11 [==============================] - 0s 2ms/step - loss: 0.2122\n",
      "Epoch 39/100\n",
      "11/11 [==============================] - 0s 2ms/step - loss: 0.2194\n",
      "Epoch 40/100\n",
      "11/11 [==============================] - 0s 2ms/step - loss: 0.2036\n",
      "Epoch 41/100\n",
      "11/11 [==============================] - 0s 2ms/step - loss: 0.2122\n",
      "Epoch 42/100\n",
      "11/11 [==============================] - 0s 2ms/step - loss: 0.1813\n",
      "Epoch 43/100\n",
      "11/11 [==============================] - 0s 2ms/step - loss: 0.1902\n",
      "Epoch 44/100\n",
      "11/11 [==============================] - 0s 2ms/step - loss: 0.1976\n",
      "Epoch 45/100\n",
      "11/11 [==============================] - 0s 2ms/step - loss: 0.1740\n",
      "Epoch 46/100\n",
      "11/11 [==============================] - 0s 2ms/step - loss: 0.1835\n",
      "Epoch 47/100\n",
      "11/11 [==============================] - 0s 2ms/step - loss: 0.1815\n",
      "Epoch 48/100\n",
      "11/11 [==============================] - 0s 2ms/step - loss: 0.1677\n",
      "Epoch 49/100\n",
      "11/11 [==============================] - 0s 2ms/step - loss: 0.1637\n",
      "Epoch 50/100\n",
      "11/11 [==============================] - 0s 2ms/step - loss: 0.1733\n",
      "Epoch 51/100\n",
      "11/11 [==============================] - 0s 2ms/step - loss: 0.1675\n",
      "Epoch 52/100\n",
      "11/11 [==============================] - 0s 2ms/step - loss: 0.1791\n",
      "Epoch 53/100\n",
      "11/11 [==============================] - 0s 2ms/step - loss: 0.1978\n",
      "Epoch 54/100\n",
      "11/11 [==============================] - 0s 2ms/step - loss: 0.1572\n",
      "Epoch 55/100\n",
      "11/11 [==============================] - 0s 2ms/step - loss: 0.1671\n",
      "Epoch 56/100\n",
      "11/11 [==============================] - 0s 2ms/step - loss: 0.1664\n",
      "Epoch 57/100\n",
      "11/11 [==============================] - 0s 2ms/step - loss: 0.1768\n",
      "Epoch 58/100\n",
      "11/11 [==============================] - 0s 2ms/step - loss: 0.1825\n",
      "Epoch 59/100\n",
      "11/11 [==============================] - 0s 2ms/step - loss: 0.1900\n",
      "Epoch 60/100\n",
      "11/11 [==============================] - 0s 2ms/step - loss: 0.1597\n",
      "Epoch 61/100\n",
      "11/11 [==============================] - 0s 2ms/step - loss: 0.1609\n",
      "Epoch 62/100\n",
      "11/11 [==============================] - 0s 2ms/step - loss: 0.1613\n",
      "Epoch 63/100\n",
      "11/11 [==============================] - 0s 2ms/step - loss: 0.1784\n",
      "Epoch 64/100\n",
      "11/11 [==============================] - 0s 2ms/step - loss: 0.1774\n",
      "Epoch 65/100\n",
      "11/11 [==============================] - 0s 2ms/step - loss: 0.1762\n",
      "Epoch 66/100\n",
      "11/11 [==============================] - 0s 2ms/step - loss: 0.1657\n",
      "Epoch 67/100\n",
      "11/11 [==============================] - 0s 2ms/step - loss: 0.1877\n",
      "Epoch 68/100\n",
      "11/11 [==============================] - 0s 2ms/step - loss: 0.1516\n",
      "Epoch 69/100\n",
      "11/11 [==============================] - 0s 2ms/step - loss: 0.1332\n",
      "Epoch 70/100\n",
      "11/11 [==============================] - 0s 2ms/step - loss: 0.1509\n",
      "Epoch 71/100\n",
      "11/11 [==============================] - 0s 2ms/step - loss: 0.1527\n",
      "Epoch 72/100\n",
      "11/11 [==============================] - 0s 2ms/step - loss: 0.1452\n",
      "Epoch 73/100\n",
      "11/11 [==============================] - 0s 2ms/step - loss: 0.1347\n",
      "Epoch 74/100\n",
      "11/11 [==============================] - 0s 2ms/step - loss: 0.1295\n",
      "Epoch 75/100\n",
      "11/11 [==============================] - 0s 2ms/step - loss: 0.1695\n",
      "Epoch 76/100\n",
      "11/11 [==============================] - 0s 2ms/step - loss: 0.1548\n",
      "Epoch 77/100\n",
      "11/11 [==============================] - 0s 2ms/step - loss: 0.1690\n",
      "Epoch 78/100\n",
      "11/11 [==============================] - 0s 2ms/step - loss: 0.1361\n",
      "Epoch 79/100\n",
      "11/11 [==============================] - 0s 2ms/step - loss: 0.1486\n",
      "Epoch 80/100\n",
      "11/11 [==============================] - 0s 2ms/step - loss: 0.1348\n",
      "Epoch 81/100\n",
      "11/11 [==============================] - 0s 2ms/step - loss: 0.1837\n",
      "Epoch 82/100\n",
      "11/11 [==============================] - 0s 2ms/step - loss: 0.1476\n",
      "Epoch 83/100\n",
      "11/11 [==============================] - 0s 2ms/step - loss: 0.1431\n",
      "Epoch 84/100\n",
      "11/11 [==============================] - 0s 2ms/step - loss: 0.1466\n",
      "Epoch 85/100\n",
      "11/11 [==============================] - 0s 2ms/step - loss: 0.1547\n",
      "Epoch 86/100\n",
      "11/11 [==============================] - 0s 2ms/step - loss: 0.1585\n",
      "Epoch 87/100\n",
      "11/11 [==============================] - 0s 2ms/step - loss: 0.1276\n",
      "Epoch 88/100\n",
      "11/11 [==============================] - 0s 2ms/step - loss: 0.1514\n",
      "Epoch 89/100\n",
      "11/11 [==============================] - 0s 2ms/step - loss: 0.1403\n",
      "Epoch 90/100\n",
      "11/11 [==============================] - 0s 2ms/step - loss: 0.1322\n",
      "Epoch 91/100\n",
      "11/11 [==============================] - 0s 2ms/step - loss: 0.1617\n",
      "Epoch 92/100\n",
      "11/11 [==============================] - 0s 2ms/step - loss: 0.1552\n",
      "Epoch 93/100\n",
      "11/11 [==============================] - 0s 2ms/step - loss: 0.1178\n",
      "Epoch 94/100\n",
      "11/11 [==============================] - 0s 2ms/step - loss: 0.1357\n",
      "Epoch 95/100\n",
      "11/11 [==============================] - 0s 2ms/step - loss: 0.1244\n",
      "Epoch 96/100\n",
      "11/11 [==============================] - 0s 2ms/step - loss: 0.1075\n",
      "Epoch 97/100\n",
      "11/11 [==============================] - 0s 2ms/step - loss: 0.1360\n",
      "Epoch 98/100\n",
      "11/11 [==============================] - 0s 2ms/step - loss: 0.1255\n",
      "Epoch 99/100\n",
      "11/11 [==============================] - 0s 2ms/step - loss: 0.1249\n",
      "Epoch 100/100\n",
      "11/11 [==============================] - 0s 2ms/step - loss: 0.1256\n",
      "2/2 [==============================] - 0s 3ms/step\n",
      "R-squared: 0.88011646\n",
      "MSE: 0.13330139\n",
      "    ActualValue    Predicted        Diff\n",
      "0   4153.500000  3675.518311  477.981689\n",
      "1   3952.400000  3523.473633  428.926367\n",
      "2    943.076923   993.796936   50.720013\n",
      "3   2945.370370  2303.484131  641.886240\n",
      "4   1464.148148  1128.923218  335.224930\n",
      "5    932.038462   654.268982  277.769480\n",
      "6   1989.379310  2250.594971  261.215660\n",
      "7   1969.655172  2303.484131  333.828958\n",
      "8   2280.000000  2158.261963  121.738037\n",
      "9   1980.689655  2303.484131  322.794476\n",
      "10  2251.178571  2303.484131   52.305559\n",
      "11  1942.375000  2232.690674  290.315674\n",
      "12  1626.777778  1556.584595   70.193183\n",
      "13  1932.586207  2303.484131  370.897924\n",
      "14  1468.000000  1330.248169  137.751831\n",
      "15  2110.758621  2178.297363   67.538743\n",
      "16  4251.291667  3720.615479  530.676188\n",
      "17  1069.370370  1132.476685   63.106314\n",
      "18  1018.037037   991.807434   26.229603\n",
      "19  2359.093750  2303.484131   55.609619\n",
      "20  1796.142857  1988.082397  191.939540\n",
      "21   968.266667   932.052063   36.214604\n",
      "22   896.962963  1245.710449  348.747486\n",
      "23  3614.629630  3701.306396   86.676767\n",
      "24  3990.961538  3867.744873  123.216665\n",
      "25  4185.833333  3899.873291  285.960042\n",
      "26  1915.931034  2010.994141   95.063106\n",
      "27  2356.000000  2303.484131   52.515869\n",
      "28   947.000000   774.113831  172.886169\n",
      "29  2193.758621  2303.484131  109.725510\n",
      "30  1514.481481  2303.484131  789.002649\n",
      "31  2367.428571  1920.907593  446.520979\n",
      "32  2105.586207  2303.484131  197.897924\n",
      "33  2872.222222  2303.484131  568.738091\n",
      "34  1180.222222  2058.620117  878.397895\n",
      "35  1435.296296  1303.898315  131.397981\n",
      "36  2285.413793  2303.484131   18.070338\n",
      "37  1966.259259  1684.108765  282.150495\n",
      "38  2895.862069  2430.789551  465.072518\n",
      "39  1021.892857  1304.202637  282.309780\n",
      "40  2392.148148  2289.443115  102.705033\n",
      "        R^2       MSE\n",
      "0  0.880116  0.133301\n"
     ]
    }
   ],
   "source": [
    "scores_ANN, pred_ANN = ANN_model(targets,'Daily hospital occupancy', 'avr_Daily_hospital_occupancy')"
   ]
  },
  {
   "cell_type": "code",
   "execution_count": 132,
   "id": "72cf0879",
   "metadata": {},
   "outputs": [
    {
     "name": "stdout",
     "output_type": "stream",
     "text": [
      "2/2 [==============================] - 1s 99ms/step\n"
     ]
    },
    {
     "name": "stderr",
     "output_type": "stream",
     "text": [
      "C:\\Users\\annac\\AppData\\Local\\Temp/ipykernel_1956/695762972.py:54: FutureWarning: The frame.append method is deprecated and will be removed from pandas in a future version. Use pandas.concat instead.\n",
      "  SearchResultsData=SearchResultsData.append(pd.DataFrame(data=[[TrialNumber, batch_size_trial, epochs_trial, MSE]],\n"
     ]
    },
    {
     "name": "stdout",
     "output_type": "stream",
     "text": [
      "2/2 [==============================] - 0s 8ms/step\n"
     ]
    },
    {
     "name": "stderr",
     "output_type": "stream",
     "text": [
      "C:\\Users\\annac\\AppData\\Local\\Temp/ipykernel_1956/695762972.py:54: FutureWarning: The frame.append method is deprecated and will be removed from pandas in a future version. Use pandas.concat instead.\n",
      "  SearchResultsData=SearchResultsData.append(pd.DataFrame(data=[[TrialNumber, batch_size_trial, epochs_trial, MSE]],\n"
     ]
    },
    {
     "name": "stdout",
     "output_type": "stream",
     "text": [
      "2/2 [==============================] - 0s 3ms/step\n"
     ]
    },
    {
     "name": "stderr",
     "output_type": "stream",
     "text": [
      "C:\\Users\\annac\\AppData\\Local\\Temp/ipykernel_1956/695762972.py:54: FutureWarning: The frame.append method is deprecated and will be removed from pandas in a future version. Use pandas.concat instead.\n",
      "  SearchResultsData=SearchResultsData.append(pd.DataFrame(data=[[TrialNumber, batch_size_trial, epochs_trial, MSE]],\n"
     ]
    },
    {
     "name": "stdout",
     "output_type": "stream",
     "text": [
      "2/2 [==============================] - 0s 3ms/step\n"
     ]
    },
    {
     "name": "stderr",
     "output_type": "stream",
     "text": [
      "C:\\Users\\annac\\AppData\\Local\\Temp/ipykernel_1956/695762972.py:54: FutureWarning: The frame.append method is deprecated and will be removed from pandas in a future version. Use pandas.concat instead.\n",
      "  SearchResultsData=SearchResultsData.append(pd.DataFrame(data=[[TrialNumber, batch_size_trial, epochs_trial, MSE]],\n"
     ]
    },
    {
     "name": "stdout",
     "output_type": "stream",
     "text": [
      "2/2 [==============================] - 0s 3ms/step\n"
     ]
    },
    {
     "name": "stderr",
     "output_type": "stream",
     "text": [
      "C:\\Users\\annac\\AppData\\Local\\Temp/ipykernel_1956/695762972.py:54: FutureWarning: The frame.append method is deprecated and will be removed from pandas in a future version. Use pandas.concat instead.\n",
      "  SearchResultsData=SearchResultsData.append(pd.DataFrame(data=[[TrialNumber, batch_size_trial, epochs_trial, MSE]],\n"
     ]
    },
    {
     "name": "stdout",
     "output_type": "stream",
     "text": [
      "2/2 [==============================] - 0s 4ms/step\n"
     ]
    },
    {
     "name": "stderr",
     "output_type": "stream",
     "text": [
      "C:\\Users\\annac\\AppData\\Local\\Temp/ipykernel_1956/695762972.py:54: FutureWarning: The frame.append method is deprecated and will be removed from pandas in a future version. Use pandas.concat instead.\n",
      "  SearchResultsData=SearchResultsData.append(pd.DataFrame(data=[[TrialNumber, batch_size_trial, epochs_trial, MSE]],\n"
     ]
    },
    {
     "name": "stdout",
     "output_type": "stream",
     "text": [
      "2/2 [==============================] - 0s 3ms/step\n"
     ]
    },
    {
     "name": "stderr",
     "output_type": "stream",
     "text": [
      "C:\\Users\\annac\\AppData\\Local\\Temp/ipykernel_1956/695762972.py:54: FutureWarning: The frame.append method is deprecated and will be removed from pandas in a future version. Use pandas.concat instead.\n",
      "  SearchResultsData=SearchResultsData.append(pd.DataFrame(data=[[TrialNumber, batch_size_trial, epochs_trial, MSE]],\n"
     ]
    },
    {
     "name": "stdout",
     "output_type": "stream",
     "text": [
      "2/2 [==============================] - 0s 3ms/step\n"
     ]
    },
    {
     "name": "stderr",
     "output_type": "stream",
     "text": [
      "C:\\Users\\annac\\AppData\\Local\\Temp/ipykernel_1956/695762972.py:54: FutureWarning: The frame.append method is deprecated and will be removed from pandas in a future version. Use pandas.concat instead.\n",
      "  SearchResultsData=SearchResultsData.append(pd.DataFrame(data=[[TrialNumber, batch_size_trial, epochs_trial, MSE]],\n"
     ]
    },
    {
     "name": "stdout",
     "output_type": "stream",
     "text": [
      "2/2 [==============================] - 0s 3ms/step\n"
     ]
    },
    {
     "name": "stderr",
     "output_type": "stream",
     "text": [
      "C:\\Users\\annac\\AppData\\Local\\Temp/ipykernel_1956/695762972.py:54: FutureWarning: The frame.append method is deprecated and will be removed from pandas in a future version. Use pandas.concat instead.\n",
      "  SearchResultsData=SearchResultsData.append(pd.DataFrame(data=[[TrialNumber, batch_size_trial, epochs_trial, MSE]],\n"
     ]
    },
    {
     "name": "stdout",
     "output_type": "stream",
     "text": [
      "2/2 [==============================] - 0s 3ms/step\n"
     ]
    },
    {
     "name": "stderr",
     "output_type": "stream",
     "text": [
      "C:\\Users\\annac\\AppData\\Local\\Temp/ipykernel_1956/695762972.py:54: FutureWarning: The frame.append method is deprecated and will be removed from pandas in a future version. Use pandas.concat instead.\n",
      "  SearchResultsData=SearchResultsData.append(pd.DataFrame(data=[[TrialNumber, batch_size_trial, epochs_trial, MSE]],\n"
     ]
    },
    {
     "name": "stdout",
     "output_type": "stream",
     "text": [
      "2/2 [==============================] - 0s 3ms/step\n"
     ]
    },
    {
     "name": "stderr",
     "output_type": "stream",
     "text": [
      "C:\\Users\\annac\\AppData\\Local\\Temp/ipykernel_1956/695762972.py:54: FutureWarning: The frame.append method is deprecated and will be removed from pandas in a future version. Use pandas.concat instead.\n",
      "  SearchResultsData=SearchResultsData.append(pd.DataFrame(data=[[TrialNumber, batch_size_trial, epochs_trial, MSE]],\n"
     ]
    },
    {
     "name": "stdout",
     "output_type": "stream",
     "text": [
      "2/2 [==============================] - 0s 3ms/step\n"
     ]
    },
    {
     "name": "stderr",
     "output_type": "stream",
     "text": [
      "C:\\Users\\annac\\AppData\\Local\\Temp/ipykernel_1956/695762972.py:54: FutureWarning: The frame.append method is deprecated and will be removed from pandas in a future version. Use pandas.concat instead.\n",
      "  SearchResultsData=SearchResultsData.append(pd.DataFrame(data=[[TrialNumber, batch_size_trial, epochs_trial, MSE]],\n"
     ]
    },
    {
     "name": "stdout",
     "output_type": "stream",
     "text": [
      "2/2 [==============================] - 0s 2ms/step\n"
     ]
    },
    {
     "name": "stderr",
     "output_type": "stream",
     "text": [
      "C:\\Users\\annac\\AppData\\Local\\Temp/ipykernel_1956/695762972.py:54: FutureWarning: The frame.append method is deprecated and will be removed from pandas in a future version. Use pandas.concat instead.\n",
      "  SearchResultsData=SearchResultsData.append(pd.DataFrame(data=[[TrialNumber, batch_size_trial, epochs_trial, MSE]],\n"
     ]
    },
    {
     "name": "stdout",
     "output_type": "stream",
     "text": [
      "2/2 [==============================] - 0s 2ms/step\n"
     ]
    },
    {
     "name": "stderr",
     "output_type": "stream",
     "text": [
      "C:\\Users\\annac\\AppData\\Local\\Temp/ipykernel_1956/695762972.py:54: FutureWarning: The frame.append method is deprecated and will be removed from pandas in a future version. Use pandas.concat instead.\n",
      "  SearchResultsData=SearchResultsData.append(pd.DataFrame(data=[[TrialNumber, batch_size_trial, epochs_trial, MSE]],\n"
     ]
    },
    {
     "name": "stdout",
     "output_type": "stream",
     "text": [
      "2/2 [==============================] - 0s 3ms/step\n"
     ]
    },
    {
     "name": "stderr",
     "output_type": "stream",
     "text": [
      "C:\\Users\\annac\\AppData\\Local\\Temp/ipykernel_1956/695762972.py:54: FutureWarning: The frame.append method is deprecated and will be removed from pandas in a future version. Use pandas.concat instead.\n",
      "  SearchResultsData=SearchResultsData.append(pd.DataFrame(data=[[TrialNumber, batch_size_trial, epochs_trial, MSE]],\n"
     ]
    },
    {
     "name": "stdout",
     "output_type": "stream",
     "text": [
      "2/2 [==============================] - 0s 4ms/step\n",
      "  TrialNumber Parameters       MSE  Batch  Epochs\n",
      "0           1        NaN  0.204605    5.0     5.0\n",
      "0           2        NaN  0.166586    5.0    10.0\n",
      "0           3        NaN  0.109987    5.0    50.0\n",
      "0           4        NaN  0.138601    5.0   100.0\n",
      "0           5        NaN  0.553746   10.0     5.0\n",
      "0           6        NaN  0.200868   10.0    10.0\n",
      "0           7        NaN  0.134876   10.0    50.0\n",
      "0           8        NaN  0.135752   10.0   100.0\n",
      "0           9        NaN  0.874699   15.0     5.0\n",
      "0          10        NaN  0.205723   15.0    10.0\n",
      "0          11        NaN  0.128917   15.0    50.0\n",
      "0          12        NaN  0.132713   15.0   100.0\n",
      "0          13        NaN  0.818151   20.0     5.0\n",
      "0          14        NaN  0.550420   20.0    10.0\n",
      "0          15        NaN  0.150285   20.0    50.0\n",
      "0          16        NaN  0.127900   20.0   100.0\n",
      "index_m:2\n",
      "Epoch 1/50\n"
     ]
    },
    {
     "name": "stderr",
     "output_type": "stream",
     "text": [
      "C:\\Users\\annac\\AppData\\Local\\Temp/ipykernel_1956/695762972.py:54: FutureWarning: The frame.append method is deprecated and will be removed from pandas in a future version. Use pandas.concat instead.\n",
      "  SearchResultsData=SearchResultsData.append(pd.DataFrame(data=[[TrialNumber, batch_size_trial, epochs_trial, MSE]],\n"
     ]
    },
    {
     "name": "stdout",
     "output_type": "stream",
     "text": [
      "33/33 [==============================] - 1s 1ms/step - loss: 0.9670\n",
      "Epoch 2/50\n",
      "33/33 [==============================] - 0s 1ms/step - loss: 0.9320\n",
      "Epoch 3/50\n",
      "33/33 [==============================] - 0s 1ms/step - loss: 0.6570\n",
      "Epoch 4/50\n",
      "33/33 [==============================] - 0s 2ms/step - loss: 0.3828\n",
      "Epoch 5/50\n",
      "33/33 [==============================] - 0s 2ms/step - loss: 0.3416\n",
      "Epoch 6/50\n",
      "33/33 [==============================] - 0s 2ms/step - loss: 0.3669\n",
      "Epoch 7/50\n",
      "33/33 [==============================] - 0s 2ms/step - loss: 0.3780\n",
      "Epoch 8/50\n",
      "33/33 [==============================] - 0s 2ms/step - loss: 0.3177\n",
      "Epoch 9/50\n",
      "33/33 [==============================] - 0s 2ms/step - loss: 0.3107\n",
      "Epoch 10/50\n",
      "33/33 [==============================] - 0s 2ms/step - loss: 0.2355\n",
      "Epoch 11/50\n",
      "33/33 [==============================] - 0s 2ms/step - loss: 0.2755\n",
      "Epoch 12/50\n",
      "33/33 [==============================] - 0s 2ms/step - loss: 0.3026\n",
      "Epoch 13/50\n",
      "33/33 [==============================] - 0s 2ms/step - loss: 0.2465\n",
      "Epoch 14/50\n",
      "33/33 [==============================] - 0s 2ms/step - loss: 0.2345\n",
      "Epoch 15/50\n",
      "33/33 [==============================] - 0s 2ms/step - loss: 0.2440\n",
      "Epoch 16/50\n",
      "33/33 [==============================] - 0s 2ms/step - loss: 0.2485\n",
      "Epoch 17/50\n",
      "33/33 [==============================] - 0s 2ms/step - loss: 0.2324\n",
      "Epoch 18/50\n",
      "33/33 [==============================] - 0s 2ms/step - loss: 0.2382\n",
      "Epoch 19/50\n",
      "33/33 [==============================] - 0s 2ms/step - loss: 0.2276\n",
      "Epoch 20/50\n",
      "33/33 [==============================] - 0s 2ms/step - loss: 0.2206\n",
      "Epoch 21/50\n",
      "33/33 [==============================] - 0s 2ms/step - loss: 0.2223\n",
      "Epoch 22/50\n",
      "33/33 [==============================] - 0s 2ms/step - loss: 0.1869\n",
      "Epoch 23/50\n",
      "33/33 [==============================] - 0s 3ms/step - loss: 0.1909\n",
      "Epoch 24/50\n",
      "33/33 [==============================] - 0s 2ms/step - loss: 0.2014\n",
      "Epoch 25/50\n",
      "33/33 [==============================] - 0s 2ms/step - loss: 0.1776\n",
      "Epoch 26/50\n",
      "33/33 [==============================] - 0s 2ms/step - loss: 0.1922\n",
      "Epoch 27/50\n",
      "33/33 [==============================] - 0s 2ms/step - loss: 0.1662\n",
      "Epoch 28/50\n",
      "33/33 [==============================] - 0s 2ms/step - loss: 0.2351\n",
      "Epoch 29/50\n",
      "33/33 [==============================] - 0s 2ms/step - loss: 0.2029\n",
      "Epoch 30/50\n",
      "33/33 [==============================] - 0s 2ms/step - loss: 0.1826\n",
      "Epoch 31/50\n",
      "33/33 [==============================] - 0s 2ms/step - loss: 0.1748\n",
      "Epoch 32/50\n",
      "33/33 [==============================] - 0s 2ms/step - loss: 0.1589\n",
      "Epoch 33/50\n",
      "33/33 [==============================] - 0s 2ms/step - loss: 0.1500\n",
      "Epoch 34/50\n",
      "33/33 [==============================] - 0s 2ms/step - loss: 0.1706\n",
      "Epoch 35/50\n",
      "33/33 [==============================] - 0s 2ms/step - loss: 0.2025\n",
      "Epoch 36/50\n",
      "33/33 [==============================] - 0s 2ms/step - loss: 0.1787\n",
      "Epoch 37/50\n",
      "33/33 [==============================] - 0s 2ms/step - loss: 0.1528\n",
      "Epoch 38/50\n",
      "33/33 [==============================] - 0s 2ms/step - loss: 0.1591\n",
      "Epoch 39/50\n",
      "33/33 [==============================] - 0s 2ms/step - loss: 0.1565\n",
      "Epoch 40/50\n",
      "33/33 [==============================] - 0s 2ms/step - loss: 0.1616\n",
      "Epoch 41/50\n",
      "33/33 [==============================] - 0s 2ms/step - loss: 0.1402\n",
      "Epoch 42/50\n",
      "33/33 [==============================] - 0s 2ms/step - loss: 0.1417\n",
      "Epoch 43/50\n",
      "33/33 [==============================] - 0s 2ms/step - loss: 0.1666\n",
      "Epoch 44/50\n",
      "33/33 [==============================] - 0s 2ms/step - loss: 0.1500\n",
      "Epoch 45/50\n",
      "33/33 [==============================] - 0s 2ms/step - loss: 0.1433\n",
      "Epoch 46/50\n",
      "33/33 [==============================] - 0s 2ms/step - loss: 0.1373\n",
      "Epoch 47/50\n",
      "33/33 [==============================] - 0s 2ms/step - loss: 0.1262\n",
      "Epoch 48/50\n",
      "33/33 [==============================] - 0s 2ms/step - loss: 0.1501\n",
      "Epoch 49/50\n",
      "33/33 [==============================] - 0s 2ms/step - loss: 0.1677\n",
      "Epoch 50/50\n",
      "33/33 [==============================] - 0s 2ms/step - loss: 0.1395\n",
      "2/2 [==============================] - 0s 2ms/step\n",
      "R-squared: 0.8594182\n",
      "MSE: 0.15631627\n",
      "    ActualValue    Predicted         Diff\n",
      "0   4153.500000  3553.663086   599.836914\n",
      "1   3952.400000  3428.925293   523.474707\n",
      "2    943.076923  1095.281372   152.204449\n",
      "3   2945.370370  2312.398682   632.971689\n",
      "4   1464.148148  1236.161865   227.986283\n",
      "5    932.038462   798.931091   133.107370\n",
      "6   1989.379310  2302.583008   313.203697\n",
      "7   1969.655172  2296.594238   326.939066\n",
      "8   2280.000000  2246.602783    33.397217\n",
      "9   1980.689655  2315.367920   334.678265\n",
      "10  2251.178571  2288.830078    37.651507\n",
      "11  1942.375000  2285.955811   343.580811\n",
      "12  1626.777778  1614.416138    12.361640\n",
      "13  1932.586207  2303.055664   370.469457\n",
      "14  1468.000000  1411.133179    56.866821\n",
      "15  2110.758621  2260.152832   149.394211\n",
      "16  4251.291667  3570.654053   680.637614\n",
      "17  1069.370370  1117.369263    47.998892\n",
      "18  1018.037037  1122.211548   104.174511\n",
      "19  2359.093750  2303.972900    55.120850\n",
      "20  1796.142857  2271.218506   475.075649\n",
      "21   968.266667   962.995056     5.271611\n",
      "22   896.962963  1224.311035   327.348072\n",
      "23  3614.629630  3537.788330    76.841300\n",
      "24  3990.961538  3657.396973   333.564566\n",
      "25  4185.833333  3704.398682   481.434652\n",
      "26  1915.931034  1823.753418    92.177617\n",
      "27  2356.000000  2351.310791     4.689209\n",
      "28   947.000000   860.386902    86.613098\n",
      "29  2193.758621  2369.352295   175.593674\n",
      "30  1514.481481  2327.679199   813.197718\n",
      "31  2367.428571  2180.934082   186.494489\n",
      "32  2105.586207  2328.537842   222.951635\n",
      "33  2872.222222  2303.647461   568.574761\n",
      "34  1180.222222  2273.601074  1093.378852\n",
      "35  1435.296296  1367.485229    67.811067\n",
      "36  2285.413793  2295.165771     9.751978\n",
      "37  1966.259259  1809.290039   156.969220\n",
      "38  2895.862069  2828.133301    67.728768\n",
      "39  1021.892857  1291.716431   269.823574\n",
      "40  2392.148148  2285.823975   106.324174\n",
      "        R^2       MSE\n",
      "0  0.859418  0.156316\n"
     ]
    },
    {
     "data": {
      "text/plain": [
       "(        R^2       MSE\n",
       " 0  0.859418  0.156316,\n",
       "     ActualValue    Predicted         Diff\n",
       " 0   4153.500000  3553.663086   599.836914\n",
       " 1   3952.400000  3428.925293   523.474707\n",
       " 2    943.076923  1095.281372   152.204449\n",
       " 3   2945.370370  2312.398682   632.971689\n",
       " 4   1464.148148  1236.161865   227.986283\n",
       " 5    932.038462   798.931091   133.107370\n",
       " 6   1989.379310  2302.583008   313.203697\n",
       " 7   1969.655172  2296.594238   326.939066\n",
       " 8   2280.000000  2246.602783    33.397217\n",
       " 9   1980.689655  2315.367920   334.678265\n",
       " 10  2251.178571  2288.830078    37.651507\n",
       " 11  1942.375000  2285.955811   343.580811\n",
       " 12  1626.777778  1614.416138    12.361640\n",
       " 13  1932.586207  2303.055664   370.469457\n",
       " 14  1468.000000  1411.133179    56.866821\n",
       " 15  2110.758621  2260.152832   149.394211\n",
       " 16  4251.291667  3570.654053   680.637614\n",
       " 17  1069.370370  1117.369263    47.998892\n",
       " 18  1018.037037  1122.211548   104.174511\n",
       " 19  2359.093750  2303.972900    55.120850\n",
       " 20  1796.142857  2271.218506   475.075649\n",
       " 21   968.266667   962.995056     5.271611\n",
       " 22   896.962963  1224.311035   327.348072\n",
       " 23  3614.629630  3537.788330    76.841300\n",
       " 24  3990.961538  3657.396973   333.564566\n",
       " 25  4185.833333  3704.398682   481.434652\n",
       " 26  1915.931034  1823.753418    92.177617\n",
       " 27  2356.000000  2351.310791     4.689209\n",
       " 28   947.000000   860.386902    86.613098\n",
       " 29  2193.758621  2369.352295   175.593674\n",
       " 30  1514.481481  2327.679199   813.197718\n",
       " 31  2367.428571  2180.934082   186.494489\n",
       " 32  2105.586207  2328.537842   222.951635\n",
       " 33  2872.222222  2303.647461   568.574761\n",
       " 34  1180.222222  2273.601074  1093.378852\n",
       " 35  1435.296296  1367.485229    67.811067\n",
       " 36  2285.413793  2295.165771     9.751978\n",
       " 37  1966.259259  1809.290039   156.969220\n",
       " 38  2895.862069  2828.133301    67.728768\n",
       " 39  1021.892857  1291.716431   269.823574\n",
       " 40  2392.148148  2285.823975   106.324174)"
      ]
     },
     "execution_count": 132,
     "metadata": {},
     "output_type": "execute_result"
    }
   ],
   "source": [
    "ANN_model(targets,'Daily hospital occupancy', 'avr_Daily_hospital_occupancy')"
   ]
  },
  {
   "cell_type": "code",
   "execution_count": 120,
   "id": "b70208b4",
   "metadata": {},
   "outputs": [
    {
     "name": "stdout",
     "output_type": "stream",
     "text": [
      "R-squared: 0.8832559246655615\n",
      "MSE: 0.1298105363987145\n"
     ]
    },
    {
     "name": "stderr",
     "output_type": "stream",
     "text": [
      "C:\\Users\\annac\\anaconda\\lib\\site-packages\\sklearn\\utils\\validation.py:63: DataConversionWarning: A column-vector y was passed when a 1d array was expected. Please change the shape of y to (n_samples, ), for example using ravel().\n",
      "  return f(*args, **kwargs)\n"
     ]
    }
   ],
   "source": [
    "scores_SVM, pred_SVM = SVM_model(targets,'Daily hospital occupancy', 'avr_Daily_hospital_occupancy')"
   ]
  },
  {
   "cell_type": "code",
   "execution_count": 83,
   "id": "003ff87e",
   "metadata": {},
   "outputs": [
    {
     "name": "stdout",
     "output_type": "stream",
     "text": [
      "R-squared: 0.8832559246655615\n",
      "MSE: 0.1298105363987145\n"
     ]
    },
    {
     "name": "stderr",
     "output_type": "stream",
     "text": [
      "C:\\Users\\annac\\anaconda\\lib\\site-packages\\sklearn\\utils\\validation.py:63: DataConversionWarning: A column-vector y was passed when a 1d array was expected. Please change the shape of y to (n_samples, ), for example using ravel().\n",
      "  return f(*args, **kwargs)\n"
     ]
    },
    {
     "data": {
      "text/html": [
       "<div>\n",
       "<style scoped>\n",
       "    .dataframe tbody tr th:only-of-type {\n",
       "        vertical-align: middle;\n",
       "    }\n",
       "\n",
       "    .dataframe tbody tr th {\n",
       "        vertical-align: top;\n",
       "    }\n",
       "\n",
       "    .dataframe thead th {\n",
       "        text-align: right;\n",
       "    }\n",
       "</style>\n",
       "<table border=\"1\" class=\"dataframe\">\n",
       "  <thead>\n",
       "    <tr style=\"text-align: right;\">\n",
       "      <th></th>\n",
       "      <th>R^2</th>\n",
       "      <th>MSE</th>\n",
       "    </tr>\n",
       "  </thead>\n",
       "  <tbody>\n",
       "    <tr>\n",
       "      <th>0</th>\n",
       "      <td>0.883256</td>\n",
       "      <td>0.129811</td>\n",
       "    </tr>\n",
       "  </tbody>\n",
       "</table>\n",
       "</div>"
      ],
      "text/plain": [
       "        R^2       MSE\n",
       "0  0.883256  0.129811"
      ]
     },
     "execution_count": 83,
     "metadata": {},
     "output_type": "execute_result"
    }
   ],
   "source": [
    "SVM_model(targets,'Daily hospital occupancy', 'avr_Daily_hospital_occupancy')"
   ]
  },
  {
   "cell_type": "code",
   "execution_count": 128,
   "id": "b9901aff",
   "metadata": {},
   "outputs": [
    {
     "name": "stdout",
     "output_type": "stream",
     "text": [
      "K=2, val_mse=0.17%\n",
      "K=3, val_mse=0.16%\n",
      "K=4, val_mse=0.15%\n",
      "K=5, val_mse=0.15%\n",
      "K=6, val_mse=0.13%\n",
      "K=7, val_mse=0.13%\n",
      "K=8, val_mse=0.13%\n",
      "K=9, val_mse=0.13%\n",
      "K=10, val_mse=0.14%\n",
      "index_mse:5\n",
      "R-squared: 0.8838588989845667\n",
      "MSE: 0.12914007479661185\n"
     ]
    }
   ],
   "source": [
    "scores_KNN, pred_KNN = KNN_model(targets,'Daily hospital occupancy', 'avr_Daily_hospital_occupancy')"
   ]
  },
  {
   "cell_type": "code",
   "execution_count": 84,
   "id": "7b9717ee",
   "metadata": {},
   "outputs": [
    {
     "name": "stdout",
     "output_type": "stream",
     "text": [
      "K=2, val_mse=0.17%\n",
      "K=3, val_mse=0.16%\n",
      "K=4, val_mse=0.15%\n",
      "K=5, val_mse=0.15%\n",
      "K=6, val_mse=0.13%\n",
      "K=7, val_mse=0.13%\n",
      "K=8, val_mse=0.13%\n",
      "K=9, val_mse=0.13%\n",
      "K=10, val_mse=0.14%\n",
      "index_mse:5\n",
      "R-squared: 0.8838588989845667\n",
      "MSE: 0.12914007479661185\n"
     ]
    },
    {
     "data": {
      "text/html": [
       "<div>\n",
       "<style scoped>\n",
       "    .dataframe tbody tr th:only-of-type {\n",
       "        vertical-align: middle;\n",
       "    }\n",
       "\n",
       "    .dataframe tbody tr th {\n",
       "        vertical-align: top;\n",
       "    }\n",
       "\n",
       "    .dataframe thead th {\n",
       "        text-align: right;\n",
       "    }\n",
       "</style>\n",
       "<table border=\"1\" class=\"dataframe\">\n",
       "  <thead>\n",
       "    <tr style=\"text-align: right;\">\n",
       "      <th></th>\n",
       "      <th>R^2</th>\n",
       "      <th>MSE</th>\n",
       "    </tr>\n",
       "  </thead>\n",
       "  <tbody>\n",
       "    <tr>\n",
       "      <th>0</th>\n",
       "      <td>0.883859</td>\n",
       "      <td>0.12914</td>\n",
       "    </tr>\n",
       "  </tbody>\n",
       "</table>\n",
       "</div>"
      ],
      "text/plain": [
       "        R^2      MSE\n",
       "0  0.883859  0.12914"
      ]
     },
     "execution_count": 84,
     "metadata": {},
     "output_type": "execute_result"
    }
   ],
   "source": [
    "KNN_model(targets,'Daily hospital occupancy', 'avr_Daily_hospital_occupancy')"
   ]
  },
  {
   "cell_type": "code",
   "execution_count": 130,
   "id": "da88d30c",
   "metadata": {},
   "outputs": [
    {
     "name": "stdout",
     "output_type": "stream",
     "text": [
      "0.8873392424089649\n",
      "[0.01818173]\n",
      "R-squared: 0.7952064186572096\n",
      "MSE: 0.22771489318806754\n"
     ]
    }
   ],
   "source": [
    "scores_LR, pred_LR = LR_model(targets,'Daily hospital occupancy', 'avr_Daily_hospital_occupancy')"
   ]
  },
  {
   "cell_type": "code",
   "execution_count": 131,
   "id": "172de9ca",
   "metadata": {},
   "outputs": [
    {
     "name": "stdout",
     "output_type": "stream",
     "text": [
      "0.8873392424089649\n",
      "[0.01818173]\n",
      "R-squared: 0.7952064186572096\n",
      "MSE: 0.22771489318806754\n"
     ]
    },
    {
     "data": {
      "text/plain": [
       "(        R^2       MSE\n",
       " 0  0.795206  0.227715,\n",
       "     ActualValue    Predicted         Diff\n",
       " 0   4153.500000  3770.619310   382.880690\n",
       " 1   3952.400000  3612.725721   339.674279\n",
       " 2    943.076923  1047.457526   104.380603\n",
       " 3   2945.370370  2459.880698   485.489673\n",
       " 4   1464.148148   924.915671   539.232477\n",
       " 5    932.038462  1380.108650   448.070189\n",
       " 6   1989.379310  2277.393814   288.014503\n",
       " 7   1969.655172  2337.695100   368.039927\n",
       " 8   2280.000000  2032.601954   247.398046\n",
       " 9   1980.689655  2271.118864   290.429209\n",
       " 10  2251.178571  2178.731118    72.447454\n",
       " 11  1942.375000  2094.353300   151.978300\n",
       " 12  1626.777778  1643.144624    16.366847\n",
       " 13  1932.586207  2062.599703   130.013496\n",
       " 14  1468.000000  1371.857542    96.142458\n",
       " 15  2110.758621  2045.380131    65.378490\n",
       " 16  4251.291667  4117.400274   133.891392\n",
       " 17  1069.370370  1171.762460   102.392089\n",
       " 18  1018.037037  1159.125845   141.088808\n",
       " 19  2359.093750  3024.592051   665.498301\n",
       " 20  1796.142857  2252.376388   456.233531\n",
       " 21   968.266667  1102.348340   134.081674\n",
       " 22   896.962963  1373.672805   476.709842\n",
       " 23  3614.629630  3868.925682   254.296053\n",
       " 24  3990.961538  4408.123797   417.162259\n",
       " 25  4185.833333  4115.232434    70.600899\n",
       " 26  1915.931034  1763.968486   151.962548\n",
       " 27  2356.000000  3187.953068   831.953068\n",
       " 28   947.000000   941.060091     5.939909\n",
       " 29  2193.758621  3352.390884  1158.632263\n",
       " 30  1514.481481  2318.682726   804.201244\n",
       " 31  2367.428571  1692.300461   675.128110\n",
       " 32  2105.586207  2209.726896   104.140689\n",
       " 33  2872.222222  2389.300300   482.921922\n",
       " 34  1180.222222  2039.824306   859.602084\n",
       " 35  1435.296296  1264.435147   170.861150\n",
       " 36  2285.413793  2224.100340    61.313453\n",
       " 37  1966.259259  1989.279957    23.020698\n",
       " 38  2895.862069  2001.265292   894.596777\n",
       " 39  1021.892857  1325.897069   304.004212\n",
       " 40  2392.148148  2133.114008   259.034140)"
      ]
     },
     "execution_count": 131,
     "metadata": {},
     "output_type": "execute_result"
    }
   ],
   "source": [
    "LR_model(targets,'Daily hospital occupancy', 'avr_Daily_hospital_occupancy')"
   ]
  },
  {
   "cell_type": "code",
   "execution_count": null,
   "id": "079fe23e",
   "metadata": {},
   "outputs": [],
   "source": []
  },
  {
   "cell_type": "code",
   "execution_count": 85,
   "id": "68535cb0",
   "metadata": {},
   "outputs": [],
   "source": [
    "targets_USA = pd.read_csv('hosp_data_USA.csv')"
   ]
  },
  {
   "cell_type": "code",
   "execution_count": 86,
   "id": "68145711",
   "metadata": {},
   "outputs": [],
   "source": [
    "usa_filter = targets_USA[['Daily ICU occupancy']].loc[targets_USA['Daily ICU occupancy']>= 0.0]"
   ]
  },
  {
   "cell_type": "code",
   "execution_count": 87,
   "id": "5dc5f900",
   "metadata": {},
   "outputs": [
    {
     "name": "stdout",
     "output_type": "stream",
     "text": [
      "1/1 [==============================] - 0s 79ms/step\n"
     ]
    },
    {
     "name": "stderr",
     "output_type": "stream",
     "text": [
      "C:\\Users\\annac\\AppData\\Local\\Temp/ipykernel_1956/695762972.py:54: FutureWarning: The frame.append method is deprecated and will be removed from pandas in a future version. Use pandas.concat instead.\n",
      "  SearchResultsData=SearchResultsData.append(pd.DataFrame(data=[[TrialNumber, batch_size_trial, epochs_trial, MSE]],\n"
     ]
    },
    {
     "name": "stdout",
     "output_type": "stream",
     "text": [
      "1/1 [==============================] - 0s 80ms/step\n"
     ]
    },
    {
     "name": "stderr",
     "output_type": "stream",
     "text": [
      "C:\\Users\\annac\\AppData\\Local\\Temp/ipykernel_1956/695762972.py:54: FutureWarning: The frame.append method is deprecated and will be removed from pandas in a future version. Use pandas.concat instead.\n",
      "  SearchResultsData=SearchResultsData.append(pd.DataFrame(data=[[TrialNumber, batch_size_trial, epochs_trial, MSE]],\n"
     ]
    },
    {
     "name": "stdout",
     "output_type": "stream",
     "text": [
      "1/1 [==============================] - 0s 78ms/step\n"
     ]
    },
    {
     "name": "stderr",
     "output_type": "stream",
     "text": [
      "C:\\Users\\annac\\AppData\\Local\\Temp/ipykernel_1956/695762972.py:54: FutureWarning: The frame.append method is deprecated and will be removed from pandas in a future version. Use pandas.concat instead.\n",
      "  SearchResultsData=SearchResultsData.append(pd.DataFrame(data=[[TrialNumber, batch_size_trial, epochs_trial, MSE]],\n"
     ]
    },
    {
     "name": "stdout",
     "output_type": "stream",
     "text": [
      "1/1 [==============================] - 0s 81ms/step\n"
     ]
    },
    {
     "name": "stderr",
     "output_type": "stream",
     "text": [
      "C:\\Users\\annac\\AppData\\Local\\Temp/ipykernel_1956/695762972.py:54: FutureWarning: The frame.append method is deprecated and will be removed from pandas in a future version. Use pandas.concat instead.\n",
      "  SearchResultsData=SearchResultsData.append(pd.DataFrame(data=[[TrialNumber, batch_size_trial, epochs_trial, MSE]],\n"
     ]
    },
    {
     "name": "stdout",
     "output_type": "stream",
     "text": [
      "1/1 [==============================] - 0s 79ms/step\n"
     ]
    },
    {
     "name": "stderr",
     "output_type": "stream",
     "text": [
      "C:\\Users\\annac\\AppData\\Local\\Temp/ipykernel_1956/695762972.py:54: FutureWarning: The frame.append method is deprecated and will be removed from pandas in a future version. Use pandas.concat instead.\n",
      "  SearchResultsData=SearchResultsData.append(pd.DataFrame(data=[[TrialNumber, batch_size_trial, epochs_trial, MSE]],\n"
     ]
    },
    {
     "name": "stdout",
     "output_type": "stream",
     "text": [
      "1/1 [==============================] - 0s 79ms/step\n"
     ]
    },
    {
     "name": "stderr",
     "output_type": "stream",
     "text": [
      "C:\\Users\\annac\\AppData\\Local\\Temp/ipykernel_1956/695762972.py:54: FutureWarning: The frame.append method is deprecated and will be removed from pandas in a future version. Use pandas.concat instead.\n",
      "  SearchResultsData=SearchResultsData.append(pd.DataFrame(data=[[TrialNumber, batch_size_trial, epochs_trial, MSE]],\n"
     ]
    },
    {
     "name": "stdout",
     "output_type": "stream",
     "text": [
      "1/1 [==============================] - 0s 79ms/step\n"
     ]
    },
    {
     "name": "stderr",
     "output_type": "stream",
     "text": [
      "C:\\Users\\annac\\AppData\\Local\\Temp/ipykernel_1956/695762972.py:54: FutureWarning: The frame.append method is deprecated and will be removed from pandas in a future version. Use pandas.concat instead.\n",
      "  SearchResultsData=SearchResultsData.append(pd.DataFrame(data=[[TrialNumber, batch_size_trial, epochs_trial, MSE]],\n"
     ]
    },
    {
     "name": "stdout",
     "output_type": "stream",
     "text": [
      "1/1 [==============================] - 0s 48ms/step\n"
     ]
    },
    {
     "name": "stderr",
     "output_type": "stream",
     "text": [
      "C:\\Users\\annac\\AppData\\Local\\Temp/ipykernel_1956/695762972.py:54: FutureWarning: The frame.append method is deprecated and will be removed from pandas in a future version. Use pandas.concat instead.\n",
      "  SearchResultsData=SearchResultsData.append(pd.DataFrame(data=[[TrialNumber, batch_size_trial, epochs_trial, MSE]],\n"
     ]
    },
    {
     "name": "stdout",
     "output_type": "stream",
     "text": [
      "1/1 [==============================] - 0s 77ms/step\n"
     ]
    },
    {
     "name": "stderr",
     "output_type": "stream",
     "text": [
      "C:\\Users\\annac\\AppData\\Local\\Temp/ipykernel_1956/695762972.py:54: FutureWarning: The frame.append method is deprecated and will be removed from pandas in a future version. Use pandas.concat instead.\n",
      "  SearchResultsData=SearchResultsData.append(pd.DataFrame(data=[[TrialNumber, batch_size_trial, epochs_trial, MSE]],\n"
     ]
    },
    {
     "name": "stdout",
     "output_type": "stream",
     "text": [
      "1/1 [==============================] - 0s 83ms/step\n"
     ]
    },
    {
     "name": "stderr",
     "output_type": "stream",
     "text": [
      "C:\\Users\\annac\\AppData\\Local\\Temp/ipykernel_1956/695762972.py:54: FutureWarning: The frame.append method is deprecated and will be removed from pandas in a future version. Use pandas.concat instead.\n",
      "  SearchResultsData=SearchResultsData.append(pd.DataFrame(data=[[TrialNumber, batch_size_trial, epochs_trial, MSE]],\n"
     ]
    },
    {
     "name": "stdout",
     "output_type": "stream",
     "text": [
      "1/1 [==============================] - 0s 78ms/step\n"
     ]
    },
    {
     "name": "stderr",
     "output_type": "stream",
     "text": [
      "C:\\Users\\annac\\AppData\\Local\\Temp/ipykernel_1956/695762972.py:54: FutureWarning: The frame.append method is deprecated and will be removed from pandas in a future version. Use pandas.concat instead.\n",
      "  SearchResultsData=SearchResultsData.append(pd.DataFrame(data=[[TrialNumber, batch_size_trial, epochs_trial, MSE]],\n"
     ]
    },
    {
     "name": "stdout",
     "output_type": "stream",
     "text": [
      "1/1 [==============================] - 0s 78ms/step\n"
     ]
    },
    {
     "name": "stderr",
     "output_type": "stream",
     "text": [
      "C:\\Users\\annac\\AppData\\Local\\Temp/ipykernel_1956/695762972.py:54: FutureWarning: The frame.append method is deprecated and will be removed from pandas in a future version. Use pandas.concat instead.\n",
      "  SearchResultsData=SearchResultsData.append(pd.DataFrame(data=[[TrialNumber, batch_size_trial, epochs_trial, MSE]],\n"
     ]
    },
    {
     "name": "stdout",
     "output_type": "stream",
     "text": [
      "1/1 [==============================] - 0s 79ms/step\n"
     ]
    },
    {
     "name": "stderr",
     "output_type": "stream",
     "text": [
      "C:\\Users\\annac\\AppData\\Local\\Temp/ipykernel_1956/695762972.py:54: FutureWarning: The frame.append method is deprecated and will be removed from pandas in a future version. Use pandas.concat instead.\n",
      "  SearchResultsData=SearchResultsData.append(pd.DataFrame(data=[[TrialNumber, batch_size_trial, epochs_trial, MSE]],\n"
     ]
    },
    {
     "name": "stdout",
     "output_type": "stream",
     "text": [
      "1/1 [==============================] - 0s 78ms/step\n"
     ]
    },
    {
     "name": "stderr",
     "output_type": "stream",
     "text": [
      "C:\\Users\\annac\\AppData\\Local\\Temp/ipykernel_1956/695762972.py:54: FutureWarning: The frame.append method is deprecated and will be removed from pandas in a future version. Use pandas.concat instead.\n",
      "  SearchResultsData=SearchResultsData.append(pd.DataFrame(data=[[TrialNumber, batch_size_trial, epochs_trial, MSE]],\n"
     ]
    },
    {
     "name": "stdout",
     "output_type": "stream",
     "text": [
      "1/1 [==============================] - 0s 80ms/step\n"
     ]
    },
    {
     "name": "stderr",
     "output_type": "stream",
     "text": [
      "C:\\Users\\annac\\AppData\\Local\\Temp/ipykernel_1956/695762972.py:54: FutureWarning: The frame.append method is deprecated and will be removed from pandas in a future version. Use pandas.concat instead.\n",
      "  SearchResultsData=SearchResultsData.append(pd.DataFrame(data=[[TrialNumber, batch_size_trial, epochs_trial, MSE]],\n"
     ]
    },
    {
     "name": "stdout",
     "output_type": "stream",
     "text": [
      "1/1 [==============================] - 0s 80ms/step\n",
      "  TrialNumber Parameters       MSE  Batch  Epochs\n",
      "0           1        NaN  0.590352    5.0     5.0\n",
      "0           2        NaN  0.416494    5.0    10.0\n",
      "0           3        NaN  0.357739    5.0    50.0\n",
      "0           4        NaN  0.293072    5.0   100.0\n",
      "0           5        NaN  0.967775   10.0     5.0\n",
      "0           6        NaN  0.453973   10.0    10.0\n",
      "0           7        NaN  0.339280   10.0    50.0\n",
      "0           8        NaN  0.351169   10.0   100.0\n",
      "0           9        NaN  1.013895   15.0     5.0\n",
      "0          10        NaN  0.830807   15.0    10.0\n",
      "0          11        NaN  0.370101   15.0    50.0\n",
      "0          12        NaN  0.327254   15.0   100.0\n",
      "0          13        NaN  1.021962   20.0     5.0\n",
      "0          14        NaN  0.927231   20.0    10.0\n",
      "0          15        NaN  0.348495   20.0    50.0\n",
      "0          16        NaN  0.346984   20.0   100.0\n",
      "index_m:3\n",
      "Epoch 1/100\n"
     ]
    },
    {
     "name": "stderr",
     "output_type": "stream",
     "text": [
      "C:\\Users\\annac\\AppData\\Local\\Temp/ipykernel_1956/695762972.py:54: FutureWarning: The frame.append method is deprecated and will be removed from pandas in a future version. Use pandas.concat instead.\n",
      "  SearchResultsData=SearchResultsData.append(pd.DataFrame(data=[[TrialNumber, batch_size_trial, epochs_trial, MSE]],\n"
     ]
    },
    {
     "name": "stdout",
     "output_type": "stream",
     "text": [
      "15/15 [==============================] - 0s 2ms/step - loss: 0.9889\n",
      "Epoch 2/100\n",
      "15/15 [==============================] - 0s 2ms/step - loss: 0.9802\n",
      "Epoch 3/100\n",
      "15/15 [==============================] - 0s 2ms/step - loss: 0.9496\n",
      "Epoch 4/100\n",
      "15/15 [==============================] - 0s 2ms/step - loss: 0.8627\n",
      "Epoch 5/100\n",
      "15/15 [==============================] - 0s 2ms/step - loss: 0.6942\n",
      "Epoch 6/100\n",
      "15/15 [==============================] - 0s 2ms/step - loss: 0.5014\n",
      "Epoch 7/100\n",
      "15/15 [==============================] - 0s 2ms/step - loss: 0.3803\n",
      "Epoch 8/100\n",
      "15/15 [==============================] - 0s 2ms/step - loss: 0.3200\n",
      "Epoch 9/100\n",
      "15/15 [==============================] - 0s 2ms/step - loss: 0.2418\n",
      "Epoch 10/100\n",
      "15/15 [==============================] - 0s 2ms/step - loss: 0.2486\n",
      "Epoch 11/100\n",
      "15/15 [==============================] - 0s 2ms/step - loss: 0.2328\n",
      "Epoch 12/100\n",
      "15/15 [==============================] - 0s 2ms/step - loss: 0.2216\n",
      "Epoch 13/100\n",
      "15/15 [==============================] - 0s 2ms/step - loss: 0.2296\n",
      "Epoch 14/100\n",
      "15/15 [==============================] - 0s 2ms/step - loss: 0.2421\n",
      "Epoch 15/100\n",
      "15/15 [==============================] - 0s 2ms/step - loss: 0.2883\n",
      "Epoch 16/100\n",
      "15/15 [==============================] - 0s 2ms/step - loss: 0.2235\n",
      "Epoch 17/100\n",
      "15/15 [==============================] - 0s 2ms/step - loss: 0.2218\n",
      "Epoch 18/100\n",
      "15/15 [==============================] - 0s 2ms/step - loss: 0.2455\n",
      "Epoch 19/100\n",
      "15/15 [==============================] - 0s 2ms/step - loss: 0.2203\n",
      "Epoch 20/100\n",
      "15/15 [==============================] - 0s 2ms/step - loss: 0.2446\n",
      "Epoch 21/100\n",
      "15/15 [==============================] - 0s 2ms/step - loss: 0.2679\n",
      "Epoch 22/100\n",
      "15/15 [==============================] - 0s 2ms/step - loss: 0.2320\n",
      "Epoch 23/100\n",
      "15/15 [==============================] - 0s 2ms/step - loss: 0.1936\n",
      "Epoch 24/100\n",
      "15/15 [==============================] - 0s 2ms/step - loss: 0.2159\n",
      "Epoch 25/100\n",
      "15/15 [==============================] - 0s 2ms/step - loss: 0.2038\n",
      "Epoch 26/100\n",
      "15/15 [==============================] - 0s 2ms/step - loss: 0.2031\n",
      "Epoch 27/100\n",
      "15/15 [==============================] - 0s 2ms/step - loss: 0.1778\n",
      "Epoch 28/100\n",
      "15/15 [==============================] - 0s 2ms/step - loss: 0.2025\n",
      "Epoch 29/100\n",
      "15/15 [==============================] - 0s 2ms/step - loss: 0.1986\n",
      "Epoch 30/100\n",
      "15/15 [==============================] - 0s 2ms/step - loss: 0.1662\n",
      "Epoch 31/100\n",
      "15/15 [==============================] - 0s 2ms/step - loss: 0.1501\n",
      "Epoch 32/100\n",
      "15/15 [==============================] - 0s 2ms/step - loss: 0.2016\n",
      "Epoch 33/100\n",
      "15/15 [==============================] - 0s 2ms/step - loss: 0.1579\n",
      "Epoch 34/100\n",
      "15/15 [==============================] - 0s 2ms/step - loss: 0.1698\n",
      "Epoch 35/100\n",
      "15/15 [==============================] - 0s 2ms/step - loss: 0.2188\n",
      "Epoch 36/100\n",
      "15/15 [==============================] - 0s 2ms/step - loss: 0.1957\n",
      "Epoch 37/100\n",
      "15/15 [==============================] - 0s 2ms/step - loss: 0.1408\n",
      "Epoch 38/100\n",
      "15/15 [==============================] - 0s 2ms/step - loss: 0.1828\n",
      "Epoch 39/100\n",
      "15/15 [==============================] - 0s 2ms/step - loss: 0.2142\n",
      "Epoch 40/100\n",
      "15/15 [==============================] - 0s 2ms/step - loss: 0.1883\n",
      "Epoch 41/100\n",
      "15/15 [==============================] - 0s 2ms/step - loss: 0.1517\n",
      "Epoch 42/100\n",
      "15/15 [==============================] - 0s 2ms/step - loss: 0.1395\n",
      "Epoch 43/100\n",
      "15/15 [==============================] - 0s 2ms/step - loss: 0.1712\n",
      "Epoch 44/100\n",
      "15/15 [==============================] - 0s 2ms/step - loss: 0.2241\n",
      "Epoch 45/100\n",
      "15/15 [==============================] - 0s 2ms/step - loss: 0.1522\n",
      "Epoch 46/100\n",
      "15/15 [==============================] - 0s 2ms/step - loss: 0.1454\n",
      "Epoch 47/100\n",
      "15/15 [==============================] - 0s 2ms/step - loss: 0.1489\n",
      "Epoch 48/100\n",
      "15/15 [==============================] - 0s 2ms/step - loss: 0.1816\n",
      "Epoch 49/100\n",
      "15/15 [==============================] - 0s 2ms/step - loss: 0.1848\n",
      "Epoch 50/100\n",
      "15/15 [==============================] - 0s 2ms/step - loss: 0.1227\n",
      "Epoch 51/100\n",
      "15/15 [==============================] - 0s 2ms/step - loss: 0.1618\n",
      "Epoch 52/100\n",
      "15/15 [==============================] - 0s 2ms/step - loss: 0.1364\n",
      "Epoch 53/100\n",
      "15/15 [==============================] - 0s 2ms/step - loss: 0.1526\n",
      "Epoch 54/100\n",
      "15/15 [==============================] - 0s 2ms/step - loss: 0.1809\n",
      "Epoch 55/100\n",
      "15/15 [==============================] - 0s 2ms/step - loss: 0.1561\n",
      "Epoch 56/100\n",
      "15/15 [==============================] - 0s 2ms/step - loss: 0.1383\n",
      "Epoch 57/100\n",
      "15/15 [==============================] - 0s 2ms/step - loss: 0.1222\n",
      "Epoch 58/100\n",
      "15/15 [==============================] - 0s 2ms/step - loss: 0.1360\n",
      "Epoch 59/100\n",
      "15/15 [==============================] - 0s 2ms/step - loss: 0.1334\n",
      "Epoch 60/100\n",
      "15/15 [==============================] - 0s 2ms/step - loss: 0.1320\n",
      "Epoch 61/100\n",
      "15/15 [==============================] - 0s 2ms/step - loss: 0.1630\n",
      "Epoch 62/100\n",
      "15/15 [==============================] - 0s 2ms/step - loss: 0.1450\n",
      "Epoch 63/100\n",
      "15/15 [==============================] - 0s 2ms/step - loss: 0.1833\n",
      "Epoch 64/100\n",
      "15/15 [==============================] - 0s 2ms/step - loss: 0.1440\n",
      "Epoch 65/100\n",
      "15/15 [==============================] - 0s 2ms/step - loss: 0.1532\n",
      "Epoch 66/100\n",
      "15/15 [==============================] - 0s 2ms/step - loss: 0.1477\n",
      "Epoch 67/100\n",
      "15/15 [==============================] - 0s 2ms/step - loss: 0.1286\n",
      "Epoch 68/100\n",
      "15/15 [==============================] - 0s 2ms/step - loss: 0.1599\n",
      "Epoch 69/100\n",
      "15/15 [==============================] - 0s 2ms/step - loss: 0.1530\n",
      "Epoch 70/100\n",
      "15/15 [==============================] - 0s 2ms/step - loss: 0.1302\n",
      "Epoch 71/100\n",
      "15/15 [==============================] - 0s 2ms/step - loss: 0.1543\n",
      "Epoch 72/100\n",
      "15/15 [==============================] - 0s 2ms/step - loss: 0.1300\n",
      "Epoch 73/100\n",
      "15/15 [==============================] - 0s 2ms/step - loss: 0.1298\n",
      "Epoch 74/100\n",
      "15/15 [==============================] - 0s 2ms/step - loss: 0.1179\n",
      "Epoch 75/100\n",
      "15/15 [==============================] - 0s 2ms/step - loss: 0.1226\n",
      "Epoch 76/100\n",
      "15/15 [==============================] - 0s 2ms/step - loss: 0.1636\n",
      "Epoch 77/100\n",
      "15/15 [==============================] - 0s 2ms/step - loss: 0.1444\n",
      "Epoch 78/100\n",
      "15/15 [==============================] - 0s 2ms/step - loss: 0.0982\n",
      "Epoch 79/100\n",
      "15/15 [==============================] - 0s 2ms/step - loss: 0.1288\n",
      "Epoch 80/100\n",
      "15/15 [==============================] - 0s 2ms/step - loss: 0.1417\n",
      "Epoch 81/100\n",
      "15/15 [==============================] - 0s 2ms/step - loss: 0.1311\n",
      "Epoch 82/100\n",
      "15/15 [==============================] - 0s 2ms/step - loss: 0.1097\n",
      "Epoch 83/100\n",
      "15/15 [==============================] - 0s 2ms/step - loss: 0.1097\n",
      "Epoch 84/100\n",
      "15/15 [==============================] - 0s 2ms/step - loss: 0.1062\n",
      "Epoch 85/100\n",
      "15/15 [==============================] - 0s 2ms/step - loss: 0.1230\n",
      "Epoch 86/100\n",
      "15/15 [==============================] - 0s 2ms/step - loss: 0.1269\n",
      "Epoch 87/100\n",
      "15/15 [==============================] - 0s 3ms/step - loss: 0.1151\n",
      "Epoch 88/100\n",
      "15/15 [==============================] - 0s 2ms/step - loss: 0.1184\n",
      "Epoch 89/100\n",
      "15/15 [==============================] - 0s 3ms/step - loss: 0.0997\n",
      "Epoch 90/100\n",
      "15/15 [==============================] - 0s 2ms/step - loss: 0.1250\n",
      "Epoch 91/100\n",
      "15/15 [==============================] - 0s 2ms/step - loss: 0.1098\n",
      "Epoch 92/100\n",
      "15/15 [==============================] - 0s 3ms/step - loss: 0.1141\n",
      "Epoch 93/100\n",
      "15/15 [==============================] - 0s 2ms/step - loss: 0.0727\n",
      "Epoch 94/100\n",
      "15/15 [==============================] - 0s 2ms/step - loss: 0.1094\n",
      "Epoch 95/100\n",
      "15/15 [==============================] - 0s 2ms/step - loss: 0.1026\n",
      "Epoch 96/100\n",
      "15/15 [==============================] - 0s 3ms/step - loss: 0.1018\n",
      "Epoch 97/100\n",
      "15/15 [==============================] - 0s 3ms/step - loss: 0.0842\n",
      "Epoch 98/100\n",
      "15/15 [==============================] - 0s 3ms/step - loss: 0.1186\n",
      "Epoch 99/100\n",
      "15/15 [==============================] - 0s 3ms/step - loss: 0.0707\n",
      "Epoch 100/100\n",
      "15/15 [==============================] - 0s 2ms/step - loss: 0.1144\n",
      "1/1 [==============================] - 0s 105ms/step\n",
      "R-squared: 0.6500838\n",
      "MSE: 0.3521454\n",
      "    ActualValue     Predicted         Diff\n",
      "0       10691.0  12117.006836  1426.006836\n",
      "1       13885.0  12095.258789  1789.741211\n",
      "2        8971.0   9339.916992   368.916992\n",
      "3        7861.0   9001.118164  1140.118164\n",
      "4        9245.0  11731.004883  2486.004883\n",
      "5       13181.0  13020.001953   160.998047\n",
      "6       10738.0   9270.145508  1467.854492\n",
      "7        7970.0   8897.887695   927.887695\n",
      "8       14402.0  12612.253906  1789.746094\n",
      "9        9883.0  12606.562500  2723.562500\n",
      "10       8119.0   8523.787109   404.787109\n",
      "11      11571.0  12945.008789  1374.008789\n",
      "12       8784.0   8654.216797   129.783203\n",
      "13       8723.0   8714.278320     8.721680\n",
      "14      14230.0  14021.604492   208.395508\n",
      "15      10267.0  11595.909180  1328.909180\n",
      "16      14053.0  12467.501953  1585.498047\n",
      "17      12868.0  13238.256836   370.256836\n",
      "        R^2       MSE\n",
      "0  0.650084  0.352145\n"
     ]
    },
    {
     "data": {
      "text/html": [
       "<div>\n",
       "<style scoped>\n",
       "    .dataframe tbody tr th:only-of-type {\n",
       "        vertical-align: middle;\n",
       "    }\n",
       "\n",
       "    .dataframe tbody tr th {\n",
       "        vertical-align: top;\n",
       "    }\n",
       "\n",
       "    .dataframe thead th {\n",
       "        text-align: right;\n",
       "    }\n",
       "</style>\n",
       "<table border=\"1\" class=\"dataframe\">\n",
       "  <thead>\n",
       "    <tr style=\"text-align: right;\">\n",
       "      <th></th>\n",
       "      <th>R^2</th>\n",
       "      <th>MSE</th>\n",
       "    </tr>\n",
       "  </thead>\n",
       "  <tbody>\n",
       "    <tr>\n",
       "      <th>0</th>\n",
       "      <td>0.650084</td>\n",
       "      <td>0.352145</td>\n",
       "    </tr>\n",
       "  </tbody>\n",
       "</table>\n",
       "</div>"
      ],
      "text/plain": [
       "        R^2       MSE\n",
       "0  0.650084  0.352145"
      ]
     },
     "execution_count": 87,
     "metadata": {},
     "output_type": "execute_result"
    }
   ],
   "source": [
    "ANN_model(usa_filter,'Daily ICU occupancy', 'small_usa_data')"
   ]
  },
  {
   "cell_type": "code",
   "execution_count": 88,
   "id": "af53bb65",
   "metadata": {},
   "outputs": [
    {
     "name": "stdout",
     "output_type": "stream",
     "text": [
      "R-squared: 0.6928569628387606\n",
      "MSE: 0.3090997627489058\n"
     ]
    },
    {
     "name": "stderr",
     "output_type": "stream",
     "text": [
      "C:\\Users\\annac\\anaconda\\lib\\site-packages\\sklearn\\utils\\validation.py:63: DataConversionWarning: A column-vector y was passed when a 1d array was expected. Please change the shape of y to (n_samples, ), for example using ravel().\n",
      "  return f(*args, **kwargs)\n"
     ]
    },
    {
     "data": {
      "text/html": [
       "<div>\n",
       "<style scoped>\n",
       "    .dataframe tbody tr th:only-of-type {\n",
       "        vertical-align: middle;\n",
       "    }\n",
       "\n",
       "    .dataframe tbody tr th {\n",
       "        vertical-align: top;\n",
       "    }\n",
       "\n",
       "    .dataframe thead th {\n",
       "        text-align: right;\n",
       "    }\n",
       "</style>\n",
       "<table border=\"1\" class=\"dataframe\">\n",
       "  <thead>\n",
       "    <tr style=\"text-align: right;\">\n",
       "      <th></th>\n",
       "      <th>R^2</th>\n",
       "      <th>MSE</th>\n",
       "    </tr>\n",
       "  </thead>\n",
       "  <tbody>\n",
       "    <tr>\n",
       "      <th>0</th>\n",
       "      <td>0.692857</td>\n",
       "      <td>0.3091</td>\n",
       "    </tr>\n",
       "  </tbody>\n",
       "</table>\n",
       "</div>"
      ],
      "text/plain": [
       "        R^2     MSE\n",
       "0  0.692857  0.3091"
      ]
     },
     "execution_count": 88,
     "metadata": {},
     "output_type": "execute_result"
    }
   ],
   "source": [
    "SVM_model(usa_filter,'Daily ICU occupancy', 'small_usa_data')"
   ]
  },
  {
   "cell_type": "code",
   "execution_count": 89,
   "id": "5556816d",
   "metadata": {},
   "outputs": [
    {
     "name": "stdout",
     "output_type": "stream",
     "text": [
      "K=2, val_mse=0.37%\n",
      "K=3, val_mse=0.35%\n",
      "K=4, val_mse=0.34%\n",
      "K=5, val_mse=0.30%\n",
      "K=6, val_mse=0.33%\n",
      "K=7, val_mse=0.31%\n",
      "K=8, val_mse=0.35%\n",
      "K=9, val_mse=0.34%\n",
      "K=10, val_mse=0.34%\n",
      "index_mse:3\n",
      "R-squared: 0.6988506035907236\n",
      "MSE: 0.3030679381255745\n"
     ]
    },
    {
     "data": {
      "text/html": [
       "<div>\n",
       "<style scoped>\n",
       "    .dataframe tbody tr th:only-of-type {\n",
       "        vertical-align: middle;\n",
       "    }\n",
       "\n",
       "    .dataframe tbody tr th {\n",
       "        vertical-align: top;\n",
       "    }\n",
       "\n",
       "    .dataframe thead th {\n",
       "        text-align: right;\n",
       "    }\n",
       "</style>\n",
       "<table border=\"1\" class=\"dataframe\">\n",
       "  <thead>\n",
       "    <tr style=\"text-align: right;\">\n",
       "      <th></th>\n",
       "      <th>R^2</th>\n",
       "      <th>MSE</th>\n",
       "    </tr>\n",
       "  </thead>\n",
       "  <tbody>\n",
       "    <tr>\n",
       "      <th>0</th>\n",
       "      <td>0.698851</td>\n",
       "      <td>0.303068</td>\n",
       "    </tr>\n",
       "  </tbody>\n",
       "</table>\n",
       "</div>"
      ],
      "text/plain": [
       "        R^2       MSE\n",
       "0  0.698851  0.303068"
      ]
     },
     "execution_count": 89,
     "metadata": {},
     "output_type": "execute_result"
    }
   ],
   "source": [
    "KNN_model(usa_filter,'Daily ICU occupancy', 'small_usa_data')"
   ]
  },
  {
   "cell_type": "code",
   "execution_count": 107,
   "id": "ec770cd2",
   "metadata": {},
   "outputs": [
    {
     "name": "stdout",
     "output_type": "stream",
     "text": [
      "0.8515215135267227\n",
      "[0.01091072]\n",
      "R-squared: 0.6246181142570044\n",
      "MSE: 0.3777733426608165\n"
     ]
    },
    {
     "data": {
      "text/html": [
       "<div>\n",
       "<style scoped>\n",
       "    .dataframe tbody tr th:only-of-type {\n",
       "        vertical-align: middle;\n",
       "    }\n",
       "\n",
       "    .dataframe tbody tr th {\n",
       "        vertical-align: top;\n",
       "    }\n",
       "\n",
       "    .dataframe thead th {\n",
       "        text-align: right;\n",
       "    }\n",
       "</style>\n",
       "<table border=\"1\" class=\"dataframe\">\n",
       "  <thead>\n",
       "    <tr style=\"text-align: right;\">\n",
       "      <th></th>\n",
       "      <th>R^2</th>\n",
       "      <th>MSE</th>\n",
       "    </tr>\n",
       "  </thead>\n",
       "  <tbody>\n",
       "    <tr>\n",
       "      <th>0</th>\n",
       "      <td>0.624618</td>\n",
       "      <td>0.377773</td>\n",
       "    </tr>\n",
       "  </tbody>\n",
       "</table>\n",
       "</div>"
      ],
      "text/plain": [
       "        R^2       MSE\n",
       "0  0.624618  0.377773"
      ]
     },
     "execution_count": 107,
     "metadata": {},
     "output_type": "execute_result"
    }
   ],
   "source": [
    "LR_model(usa_filter,'Daily ICU occupancy', 'small_usa_data')"
   ]
  },
  {
   "cell_type": "code",
   "execution_count": null,
   "id": "a113f91d",
   "metadata": {},
   "outputs": [],
   "source": []
  },
  {
   "cell_type": "code",
   "execution_count": 90,
   "id": "9b77955f",
   "metadata": {},
   "outputs": [],
   "source": [
    "targets_Eng = pd.read_csv('hosp_data_Eng.csv')\n",
    "eng_filter = targets_Eng[['Daily ICU occupancy']].loc[targets_Eng['Daily ICU occupancy']>= 0.0]"
   ]
  },
  {
   "cell_type": "code",
   "execution_count": 91,
   "id": "f9c038c0",
   "metadata": {},
   "outputs": [
    {
     "name": "stdout",
     "output_type": "stream",
     "text": [
      "2/2 [==============================] - 0s 3ms/step\n"
     ]
    },
    {
     "name": "stderr",
     "output_type": "stream",
     "text": [
      "C:\\Users\\annac\\AppData\\Local\\Temp/ipykernel_1956/695762972.py:54: FutureWarning: The frame.append method is deprecated and will be removed from pandas in a future version. Use pandas.concat instead.\n",
      "  SearchResultsData=SearchResultsData.append(pd.DataFrame(data=[[TrialNumber, batch_size_trial, epochs_trial, MSE]],\n"
     ]
    },
    {
     "name": "stdout",
     "output_type": "stream",
     "text": [
      "2/2 [==============================] - 0s 4ms/step\n"
     ]
    },
    {
     "name": "stderr",
     "output_type": "stream",
     "text": [
      "C:\\Users\\annac\\AppData\\Local\\Temp/ipykernel_1956/695762972.py:54: FutureWarning: The frame.append method is deprecated and will be removed from pandas in a future version. Use pandas.concat instead.\n",
      "  SearchResultsData=SearchResultsData.append(pd.DataFrame(data=[[TrialNumber, batch_size_trial, epochs_trial, MSE]],\n"
     ]
    },
    {
     "name": "stdout",
     "output_type": "stream",
     "text": [
      "2/2 [==============================] - 0s 3ms/step\n"
     ]
    },
    {
     "name": "stderr",
     "output_type": "stream",
     "text": [
      "C:\\Users\\annac\\AppData\\Local\\Temp/ipykernel_1956/695762972.py:54: FutureWarning: The frame.append method is deprecated and will be removed from pandas in a future version. Use pandas.concat instead.\n",
      "  SearchResultsData=SearchResultsData.append(pd.DataFrame(data=[[TrialNumber, batch_size_trial, epochs_trial, MSE]],\n"
     ]
    },
    {
     "name": "stdout",
     "output_type": "stream",
     "text": [
      "2/2 [==============================] - 0s 3ms/step\n"
     ]
    },
    {
     "name": "stderr",
     "output_type": "stream",
     "text": [
      "C:\\Users\\annac\\AppData\\Local\\Temp/ipykernel_1956/695762972.py:54: FutureWarning: The frame.append method is deprecated and will be removed from pandas in a future version. Use pandas.concat instead.\n",
      "  SearchResultsData=SearchResultsData.append(pd.DataFrame(data=[[TrialNumber, batch_size_trial, epochs_trial, MSE]],\n"
     ]
    },
    {
     "name": "stdout",
     "output_type": "stream",
     "text": [
      "2/2 [==============================] - 0s 2ms/step\n"
     ]
    },
    {
     "name": "stderr",
     "output_type": "stream",
     "text": [
      "C:\\Users\\annac\\AppData\\Local\\Temp/ipykernel_1956/695762972.py:54: FutureWarning: The frame.append method is deprecated and will be removed from pandas in a future version. Use pandas.concat instead.\n",
      "  SearchResultsData=SearchResultsData.append(pd.DataFrame(data=[[TrialNumber, batch_size_trial, epochs_trial, MSE]],\n"
     ]
    },
    {
     "name": "stdout",
     "output_type": "stream",
     "text": [
      "2/2 [==============================] - 0s 3ms/step\n"
     ]
    },
    {
     "name": "stderr",
     "output_type": "stream",
     "text": [
      "C:\\Users\\annac\\AppData\\Local\\Temp/ipykernel_1956/695762972.py:54: FutureWarning: The frame.append method is deprecated and will be removed from pandas in a future version. Use pandas.concat instead.\n",
      "  SearchResultsData=SearchResultsData.append(pd.DataFrame(data=[[TrialNumber, batch_size_trial, epochs_trial, MSE]],\n"
     ]
    },
    {
     "name": "stdout",
     "output_type": "stream",
     "text": [
      "2/2 [==============================] - 0s 3ms/step\n"
     ]
    },
    {
     "name": "stderr",
     "output_type": "stream",
     "text": [
      "C:\\Users\\annac\\AppData\\Local\\Temp/ipykernel_1956/695762972.py:54: FutureWarning: The frame.append method is deprecated and will be removed from pandas in a future version. Use pandas.concat instead.\n",
      "  SearchResultsData=SearchResultsData.append(pd.DataFrame(data=[[TrialNumber, batch_size_trial, epochs_trial, MSE]],\n"
     ]
    },
    {
     "name": "stdout",
     "output_type": "stream",
     "text": [
      "2/2 [==============================] - 0s 3ms/step\n"
     ]
    },
    {
     "name": "stderr",
     "output_type": "stream",
     "text": [
      "C:\\Users\\annac\\AppData\\Local\\Temp/ipykernel_1956/695762972.py:54: FutureWarning: The frame.append method is deprecated and will be removed from pandas in a future version. Use pandas.concat instead.\n",
      "  SearchResultsData=SearchResultsData.append(pd.DataFrame(data=[[TrialNumber, batch_size_trial, epochs_trial, MSE]],\n"
     ]
    },
    {
     "name": "stdout",
     "output_type": "stream",
     "text": [
      "2/2 [==============================] - 0s 2ms/step\n"
     ]
    },
    {
     "name": "stderr",
     "output_type": "stream",
     "text": [
      "C:\\Users\\annac\\AppData\\Local\\Temp/ipykernel_1956/695762972.py:54: FutureWarning: The frame.append method is deprecated and will be removed from pandas in a future version. Use pandas.concat instead.\n",
      "  SearchResultsData=SearchResultsData.append(pd.DataFrame(data=[[TrialNumber, batch_size_trial, epochs_trial, MSE]],\n"
     ]
    },
    {
     "name": "stdout",
     "output_type": "stream",
     "text": [
      "2/2 [==============================] - 0s 2ms/step\n"
     ]
    },
    {
     "name": "stderr",
     "output_type": "stream",
     "text": [
      "C:\\Users\\annac\\AppData\\Local\\Temp/ipykernel_1956/695762972.py:54: FutureWarning: The frame.append method is deprecated and will be removed from pandas in a future version. Use pandas.concat instead.\n",
      "  SearchResultsData=SearchResultsData.append(pd.DataFrame(data=[[TrialNumber, batch_size_trial, epochs_trial, MSE]],\n"
     ]
    },
    {
     "name": "stdout",
     "output_type": "stream",
     "text": [
      "2/2 [==============================] - 0s 3ms/step\n"
     ]
    },
    {
     "name": "stderr",
     "output_type": "stream",
     "text": [
      "C:\\Users\\annac\\AppData\\Local\\Temp/ipykernel_1956/695762972.py:54: FutureWarning: The frame.append method is deprecated and will be removed from pandas in a future version. Use pandas.concat instead.\n",
      "  SearchResultsData=SearchResultsData.append(pd.DataFrame(data=[[TrialNumber, batch_size_trial, epochs_trial, MSE]],\n"
     ]
    },
    {
     "name": "stdout",
     "output_type": "stream",
     "text": [
      "2/2 [==============================] - 0s 2ms/step\n"
     ]
    },
    {
     "name": "stderr",
     "output_type": "stream",
     "text": [
      "C:\\Users\\annac\\AppData\\Local\\Temp/ipykernel_1956/695762972.py:54: FutureWarning: The frame.append method is deprecated and will be removed from pandas in a future version. Use pandas.concat instead.\n",
      "  SearchResultsData=SearchResultsData.append(pd.DataFrame(data=[[TrialNumber, batch_size_trial, epochs_trial, MSE]],\n"
     ]
    },
    {
     "name": "stdout",
     "output_type": "stream",
     "text": [
      "2/2 [==============================] - 0s 3ms/step\n"
     ]
    },
    {
     "name": "stderr",
     "output_type": "stream",
     "text": [
      "C:\\Users\\annac\\AppData\\Local\\Temp/ipykernel_1956/695762972.py:54: FutureWarning: The frame.append method is deprecated and will be removed from pandas in a future version. Use pandas.concat instead.\n",
      "  SearchResultsData=SearchResultsData.append(pd.DataFrame(data=[[TrialNumber, batch_size_trial, epochs_trial, MSE]],\n"
     ]
    },
    {
     "name": "stdout",
     "output_type": "stream",
     "text": [
      "2/2 [==============================] - 0s 3ms/step\n"
     ]
    },
    {
     "name": "stderr",
     "output_type": "stream",
     "text": [
      "C:\\Users\\annac\\AppData\\Local\\Temp/ipykernel_1956/695762972.py:54: FutureWarning: The frame.append method is deprecated and will be removed from pandas in a future version. Use pandas.concat instead.\n",
      "  SearchResultsData=SearchResultsData.append(pd.DataFrame(data=[[TrialNumber, batch_size_trial, epochs_trial, MSE]],\n"
     ]
    },
    {
     "name": "stdout",
     "output_type": "stream",
     "text": [
      "2/2 [==============================] - 0s 2ms/step\n"
     ]
    },
    {
     "name": "stderr",
     "output_type": "stream",
     "text": [
      "C:\\Users\\annac\\AppData\\Local\\Temp/ipykernel_1956/695762972.py:54: FutureWarning: The frame.append method is deprecated and will be removed from pandas in a future version. Use pandas.concat instead.\n",
      "  SearchResultsData=SearchResultsData.append(pd.DataFrame(data=[[TrialNumber, batch_size_trial, epochs_trial, MSE]],\n"
     ]
    },
    {
     "name": "stdout",
     "output_type": "stream",
     "text": [
      "2/2 [==============================] - 0s 3ms/step\n",
      "  TrialNumber Parameters       MSE  Batch  Epochs\n",
      "0           1        NaN  0.094304    5.0     5.0\n",
      "0           2        NaN  0.081076    5.0    10.0\n",
      "0           3        NaN  0.082912    5.0    50.0\n",
      "0           4        NaN  0.095514    5.0   100.0\n",
      "0           5        NaN  0.129350   10.0     5.0\n",
      "0           6        NaN  0.064545   10.0    10.0\n",
      "0           7        NaN  0.089847   10.0    50.0\n",
      "0           8        NaN  0.074304   10.0   100.0\n",
      "0           9        NaN  0.846437   15.0     5.0\n",
      "0          10        NaN  0.135449   15.0    10.0\n",
      "0          11        NaN  0.087616   15.0    50.0\n",
      "0          12        NaN  0.070274   15.0   100.0\n",
      "0          13        NaN  1.019457   20.0     5.0\n",
      "0          14        NaN  0.403600   20.0    10.0\n",
      "0          15        NaN  0.073666   20.0    50.0\n",
      "0          16        NaN  0.095212   20.0   100.0\n",
      "index_m:5\n",
      "Epoch 1/10\n"
     ]
    },
    {
     "name": "stderr",
     "output_type": "stream",
     "text": [
      "C:\\Users\\annac\\AppData\\Local\\Temp/ipykernel_1956/695762972.py:54: FutureWarning: The frame.append method is deprecated and will be removed from pandas in a future version. Use pandas.concat instead.\n",
      "  SearchResultsData=SearchResultsData.append(pd.DataFrame(data=[[TrialNumber, batch_size_trial, epochs_trial, MSE]],\n"
     ]
    },
    {
     "name": "stdout",
     "output_type": "stream",
     "text": [
      "16/16 [==============================] - 0s 2ms/step - loss: 0.9442\n",
      "Epoch 2/10\n",
      "16/16 [==============================] - 0s 2ms/step - loss: 0.9162\n",
      "Epoch 3/10\n",
      "16/16 [==============================] - 0s 2ms/step - loss: 0.8470\n",
      "Epoch 4/10\n",
      "16/16 [==============================] - 0s 2ms/step - loss: 0.6091\n",
      "Epoch 5/10\n",
      "16/16 [==============================] - 0s 2ms/step - loss: 0.2758\n",
      "Epoch 6/10\n",
      "16/16 [==============================] - 0s 2ms/step - loss: 0.0834\n",
      "Epoch 7/10\n",
      "16/16 [==============================] - 0s 2ms/step - loss: 0.1038\n",
      "Epoch 8/10\n",
      "16/16 [==============================] - 0s 2ms/step - loss: 0.1135\n",
      "Epoch 9/10\n",
      "16/16 [==============================] - 0s 2ms/step - loss: 0.0839\n",
      "Epoch 10/10\n",
      "16/16 [==============================] - 0s 2ms/step - loss: 0.0824\n",
      "2/2 [==============================] - 0s 3ms/step\n",
      "R-squared: 0.953734\n",
      "MSE: 0.055295307\n",
      "    ActualValue    Predicted        Diff\n",
      "0          64.0   176.164734  112.164734\n",
      "1        2868.0  2705.579834  162.420166\n",
      "2          54.0   179.686188  125.686188\n",
      "3         178.0   258.538940   80.538940\n",
      "4         427.0   267.833618  159.166382\n",
      "5          59.0   279.803894  220.803894\n",
      "6         696.0   635.589600   60.410400\n",
      "7        2780.0  2505.478271  274.521729\n",
      "8         101.0   252.986755  151.986755\n",
      "9          97.0   274.449463  177.449463\n",
      "10        307.0   189.525360  117.474640\n",
      "11       2780.0  2227.210938  552.789062\n",
      "12        266.0   233.349213   32.650787\n",
      "13       2865.0  2406.412598  458.587402\n",
      "14         74.0   170.703674   96.703674\n",
      "15         78.0   374.587311  296.587311\n",
      "16        384.0   282.278809  101.721191\n",
      "17         92.0   236.382111  144.382111\n",
      "18        396.0   180.285614  215.714386\n",
      "19         70.0   197.576080  127.576080\n",
      "20         67.0   205.938049  138.938049\n",
      "21         62.0   185.189423  123.189423\n",
      "22        448.0   351.307739   96.692261\n",
      "23       1064.0  1433.616333  369.616333\n",
      "24         62.0   165.122925  103.122925\n",
      "25         81.0   235.179596  154.179596\n",
      "26        443.0   389.890961   53.109039\n",
      "27        186.0   357.455414  171.455414\n",
      "28       1844.0  2158.342041  314.342041\n",
      "29        139.0   330.869324  191.869324\n",
      "30         72.0   215.727600  143.727600\n",
      "31        327.0   245.715332   81.284668\n",
      "32       2309.0  2210.023682   98.976318\n",
      "33        154.0   196.524841   42.524841\n",
      "34         57.0   236.229614  179.229614\n",
      "35        115.0   201.064575   86.064575\n",
      "36       2701.0  2325.371094  375.628906\n",
      "37        108.0   189.347168   81.347168\n",
      "38        343.0   262.800415   80.199585\n",
      "        R^2       MSE\n",
      "0  0.953734  0.055295\n"
     ]
    },
    {
     "data": {
      "text/html": [
       "<div>\n",
       "<style scoped>\n",
       "    .dataframe tbody tr th:only-of-type {\n",
       "        vertical-align: middle;\n",
       "    }\n",
       "\n",
       "    .dataframe tbody tr th {\n",
       "        vertical-align: top;\n",
       "    }\n",
       "\n",
       "    .dataframe thead th {\n",
       "        text-align: right;\n",
       "    }\n",
       "</style>\n",
       "<table border=\"1\" class=\"dataframe\">\n",
       "  <thead>\n",
       "    <tr style=\"text-align: right;\">\n",
       "      <th></th>\n",
       "      <th>R^2</th>\n",
       "      <th>MSE</th>\n",
       "    </tr>\n",
       "  </thead>\n",
       "  <tbody>\n",
       "    <tr>\n",
       "      <th>0</th>\n",
       "      <td>0.953734</td>\n",
       "      <td>0.055295</td>\n",
       "    </tr>\n",
       "  </tbody>\n",
       "</table>\n",
       "</div>"
      ],
      "text/plain": [
       "        R^2       MSE\n",
       "0  0.953734  0.055295"
      ]
     },
     "execution_count": 91,
     "metadata": {},
     "output_type": "execute_result"
    }
   ],
   "source": [
    "ANN_model(eng_filter,'Daily ICU occupancy', 'small_eng_data')"
   ]
  },
  {
   "cell_type": "code",
   "execution_count": 92,
   "id": "d739838a",
   "metadata": {},
   "outputs": [
    {
     "name": "stdout",
     "output_type": "stream",
     "text": [
      "R-squared: 0.936415288652074\n",
      "MSE: 0.07599393276949498\n"
     ]
    },
    {
     "name": "stderr",
     "output_type": "stream",
     "text": [
      "C:\\Users\\annac\\anaconda\\lib\\site-packages\\sklearn\\utils\\validation.py:63: DataConversionWarning: A column-vector y was passed when a 1d array was expected. Please change the shape of y to (n_samples, ), for example using ravel().\n",
      "  return f(*args, **kwargs)\n"
     ]
    },
    {
     "data": {
      "text/html": [
       "<div>\n",
       "<style scoped>\n",
       "    .dataframe tbody tr th:only-of-type {\n",
       "        vertical-align: middle;\n",
       "    }\n",
       "\n",
       "    .dataframe tbody tr th {\n",
       "        vertical-align: top;\n",
       "    }\n",
       "\n",
       "    .dataframe thead th {\n",
       "        text-align: right;\n",
       "    }\n",
       "</style>\n",
       "<table border=\"1\" class=\"dataframe\">\n",
       "  <thead>\n",
       "    <tr style=\"text-align: right;\">\n",
       "      <th></th>\n",
       "      <th>R^2</th>\n",
       "      <th>MSE</th>\n",
       "    </tr>\n",
       "  </thead>\n",
       "  <tbody>\n",
       "    <tr>\n",
       "      <th>0</th>\n",
       "      <td>0.936415</td>\n",
       "      <td>0.075994</td>\n",
       "    </tr>\n",
       "  </tbody>\n",
       "</table>\n",
       "</div>"
      ],
      "text/plain": [
       "        R^2       MSE\n",
       "0  0.936415  0.075994"
      ]
     },
     "execution_count": 92,
     "metadata": {},
     "output_type": "execute_result"
    }
   ],
   "source": [
    "SVM_model(eng_filter,'Daily ICU occupancy', 'small_eng_data')"
   ]
  },
  {
   "cell_type": "code",
   "execution_count": 108,
   "id": "1fe63641",
   "metadata": {},
   "outputs": [
    {
     "name": "stdout",
     "output_type": "stream",
     "text": [
      "K=2, val_mse=0.04%\n",
      "K=3, val_mse=0.03%\n",
      "K=4, val_mse=0.03%\n",
      "K=5, val_mse=0.02%\n",
      "K=6, val_mse=0.03%\n",
      "K=7, val_mse=0.03%\n",
      "K=8, val_mse=0.03%\n",
      "K=9, val_mse=0.03%\n",
      "K=10, val_mse=0.03%\n",
      "index_mse:3\n",
      "R-squared: 0.979725443070786\n",
      "MSE: 0.024231348755823875\n"
     ]
    },
    {
     "data": {
      "text/html": [
       "<div>\n",
       "<style scoped>\n",
       "    .dataframe tbody tr th:only-of-type {\n",
       "        vertical-align: middle;\n",
       "    }\n",
       "\n",
       "    .dataframe tbody tr th {\n",
       "        vertical-align: top;\n",
       "    }\n",
       "\n",
       "    .dataframe thead th {\n",
       "        text-align: right;\n",
       "    }\n",
       "</style>\n",
       "<table border=\"1\" class=\"dataframe\">\n",
       "  <thead>\n",
       "    <tr style=\"text-align: right;\">\n",
       "      <th></th>\n",
       "      <th>R^2</th>\n",
       "      <th>MSE</th>\n",
       "    </tr>\n",
       "  </thead>\n",
       "  <tbody>\n",
       "    <tr>\n",
       "      <th>0</th>\n",
       "      <td>0.979725</td>\n",
       "      <td>0.024231</td>\n",
       "    </tr>\n",
       "  </tbody>\n",
       "</table>\n",
       "</div>"
      ],
      "text/plain": [
       "        R^2       MSE\n",
       "0  0.979725  0.024231"
      ]
     },
     "execution_count": 108,
     "metadata": {},
     "output_type": "execute_result"
    }
   ],
   "source": [
    "KNN_model(eng_filter,'Daily ICU occupancy', 'small_eng_data')"
   ]
  },
  {
   "cell_type": "code",
   "execution_count": 109,
   "id": "3c29bde2",
   "metadata": {},
   "outputs": [
    {
     "name": "stdout",
     "output_type": "stream",
     "text": [
      "0.9627402589374001\n",
      "[0.00329063]\n",
      "R-squared: 0.9433686780769691\n",
      "MSE: 0.06768351667616426\n"
     ]
    },
    {
     "data": {
      "text/html": [
       "<div>\n",
       "<style scoped>\n",
       "    .dataframe tbody tr th:only-of-type {\n",
       "        vertical-align: middle;\n",
       "    }\n",
       "\n",
       "    .dataframe tbody tr th {\n",
       "        vertical-align: top;\n",
       "    }\n",
       "\n",
       "    .dataframe thead th {\n",
       "        text-align: right;\n",
       "    }\n",
       "</style>\n",
       "<table border=\"1\" class=\"dataframe\">\n",
       "  <thead>\n",
       "    <tr style=\"text-align: right;\">\n",
       "      <th></th>\n",
       "      <th>R^2</th>\n",
       "      <th>MSE</th>\n",
       "    </tr>\n",
       "  </thead>\n",
       "  <tbody>\n",
       "    <tr>\n",
       "      <th>0</th>\n",
       "      <td>0.943369</td>\n",
       "      <td>0.067684</td>\n",
       "    </tr>\n",
       "  </tbody>\n",
       "</table>\n",
       "</div>"
      ],
      "text/plain": [
       "        R^2       MSE\n",
       "0  0.943369  0.067684"
      ]
     },
     "execution_count": 109,
     "metadata": {},
     "output_type": "execute_result"
    }
   ],
   "source": [
    "LR_model(eng_filter,'Daily ICU occupancy', 'small_eng_data')"
   ]
  },
  {
   "cell_type": "code",
   "execution_count": null,
   "id": "354ff64c",
   "metadata": {},
   "outputs": [],
   "source": []
  },
  {
   "cell_type": "code",
   "execution_count": 63,
   "id": "4e6552c2",
   "metadata": {},
   "outputs": [],
   "source": [
    "targets_Ger = pd.read_csv('hosp_data_Ger.csv')\n",
    "ger_filter = targets_Ger[['Daily ICU occupancy']].loc[targets_Ger['Daily ICU occupancy']>= 0.0]"
   ]
  },
  {
   "cell_type": "code",
   "execution_count": 94,
   "id": "20f3aaa3",
   "metadata": {},
   "outputs": [
    {
     "name": "stdout",
     "output_type": "stream",
     "text": [
      "2/2 [==============================] - 0s 2ms/step\n"
     ]
    },
    {
     "name": "stderr",
     "output_type": "stream",
     "text": [
      "C:\\Users\\annac\\AppData\\Local\\Temp/ipykernel_1956/695762972.py:54: FutureWarning: The frame.append method is deprecated and will be removed from pandas in a future version. Use pandas.concat instead.\n",
      "  SearchResultsData=SearchResultsData.append(pd.DataFrame(data=[[TrialNumber, batch_size_trial, epochs_trial, MSE]],\n"
     ]
    },
    {
     "name": "stdout",
     "output_type": "stream",
     "text": [
      "2/2 [==============================] - 0s 2ms/step\n"
     ]
    },
    {
     "name": "stderr",
     "output_type": "stream",
     "text": [
      "C:\\Users\\annac\\AppData\\Local\\Temp/ipykernel_1956/695762972.py:54: FutureWarning: The frame.append method is deprecated and will be removed from pandas in a future version. Use pandas.concat instead.\n",
      "  SearchResultsData=SearchResultsData.append(pd.DataFrame(data=[[TrialNumber, batch_size_trial, epochs_trial, MSE]],\n"
     ]
    },
    {
     "name": "stdout",
     "output_type": "stream",
     "text": [
      "2/2 [==============================] - 0s 3ms/step\n"
     ]
    },
    {
     "name": "stderr",
     "output_type": "stream",
     "text": [
      "C:\\Users\\annac\\AppData\\Local\\Temp/ipykernel_1956/695762972.py:54: FutureWarning: The frame.append method is deprecated and will be removed from pandas in a future version. Use pandas.concat instead.\n",
      "  SearchResultsData=SearchResultsData.append(pd.DataFrame(data=[[TrialNumber, batch_size_trial, epochs_trial, MSE]],\n"
     ]
    },
    {
     "name": "stdout",
     "output_type": "stream",
     "text": [
      "2/2 [==============================] - 0s 3ms/step\n"
     ]
    },
    {
     "name": "stderr",
     "output_type": "stream",
     "text": [
      "C:\\Users\\annac\\AppData\\Local\\Temp/ipykernel_1956/695762972.py:54: FutureWarning: The frame.append method is deprecated and will be removed from pandas in a future version. Use pandas.concat instead.\n",
      "  SearchResultsData=SearchResultsData.append(pd.DataFrame(data=[[TrialNumber, batch_size_trial, epochs_trial, MSE]],\n"
     ]
    },
    {
     "name": "stdout",
     "output_type": "stream",
     "text": [
      "2/2 [==============================] - 0s 2ms/step\n"
     ]
    },
    {
     "name": "stderr",
     "output_type": "stream",
     "text": [
      "C:\\Users\\annac\\AppData\\Local\\Temp/ipykernel_1956/695762972.py:54: FutureWarning: The frame.append method is deprecated and will be removed from pandas in a future version. Use pandas.concat instead.\n",
      "  SearchResultsData=SearchResultsData.append(pd.DataFrame(data=[[TrialNumber, batch_size_trial, epochs_trial, MSE]],\n"
     ]
    },
    {
     "name": "stdout",
     "output_type": "stream",
     "text": [
      "2/2 [==============================] - 0s 3ms/step\n"
     ]
    },
    {
     "name": "stderr",
     "output_type": "stream",
     "text": [
      "C:\\Users\\annac\\AppData\\Local\\Temp/ipykernel_1956/695762972.py:54: FutureWarning: The frame.append method is deprecated and will be removed from pandas in a future version. Use pandas.concat instead.\n",
      "  SearchResultsData=SearchResultsData.append(pd.DataFrame(data=[[TrialNumber, batch_size_trial, epochs_trial, MSE]],\n"
     ]
    },
    {
     "name": "stdout",
     "output_type": "stream",
     "text": [
      "2/2 [==============================] - 0s 3ms/step\n"
     ]
    },
    {
     "name": "stderr",
     "output_type": "stream",
     "text": [
      "C:\\Users\\annac\\AppData\\Local\\Temp/ipykernel_1956/695762972.py:54: FutureWarning: The frame.append method is deprecated and will be removed from pandas in a future version. Use pandas.concat instead.\n",
      "  SearchResultsData=SearchResultsData.append(pd.DataFrame(data=[[TrialNumber, batch_size_trial, epochs_trial, MSE]],\n"
     ]
    },
    {
     "name": "stdout",
     "output_type": "stream",
     "text": [
      "2/2 [==============================] - 0s 3ms/step\n"
     ]
    },
    {
     "name": "stderr",
     "output_type": "stream",
     "text": [
      "C:\\Users\\annac\\AppData\\Local\\Temp/ipykernel_1956/695762972.py:54: FutureWarning: The frame.append method is deprecated and will be removed from pandas in a future version. Use pandas.concat instead.\n",
      "  SearchResultsData=SearchResultsData.append(pd.DataFrame(data=[[TrialNumber, batch_size_trial, epochs_trial, MSE]],\n"
     ]
    },
    {
     "name": "stdout",
     "output_type": "stream",
     "text": [
      "2/2 [==============================] - 0s 3ms/step\n"
     ]
    },
    {
     "name": "stderr",
     "output_type": "stream",
     "text": [
      "C:\\Users\\annac\\AppData\\Local\\Temp/ipykernel_1956/695762972.py:54: FutureWarning: The frame.append method is deprecated and will be removed from pandas in a future version. Use pandas.concat instead.\n",
      "  SearchResultsData=SearchResultsData.append(pd.DataFrame(data=[[TrialNumber, batch_size_trial, epochs_trial, MSE]],\n"
     ]
    },
    {
     "name": "stdout",
     "output_type": "stream",
     "text": [
      "2/2 [==============================] - 0s 3ms/step\n"
     ]
    },
    {
     "name": "stderr",
     "output_type": "stream",
     "text": [
      "C:\\Users\\annac\\AppData\\Local\\Temp/ipykernel_1956/695762972.py:54: FutureWarning: The frame.append method is deprecated and will be removed from pandas in a future version. Use pandas.concat instead.\n",
      "  SearchResultsData=SearchResultsData.append(pd.DataFrame(data=[[TrialNumber, batch_size_trial, epochs_trial, MSE]],\n"
     ]
    },
    {
     "name": "stdout",
     "output_type": "stream",
     "text": [
      "2/2 [==============================] - 0s 2ms/step\n"
     ]
    },
    {
     "name": "stderr",
     "output_type": "stream",
     "text": [
      "C:\\Users\\annac\\AppData\\Local\\Temp/ipykernel_1956/695762972.py:54: FutureWarning: The frame.append method is deprecated and will be removed from pandas in a future version. Use pandas.concat instead.\n",
      "  SearchResultsData=SearchResultsData.append(pd.DataFrame(data=[[TrialNumber, batch_size_trial, epochs_trial, MSE]],\n"
     ]
    },
    {
     "name": "stdout",
     "output_type": "stream",
     "text": [
      "2/2 [==============================] - 0s 3ms/step\n"
     ]
    },
    {
     "name": "stderr",
     "output_type": "stream",
     "text": [
      "C:\\Users\\annac\\AppData\\Local\\Temp/ipykernel_1956/695762972.py:54: FutureWarning: The frame.append method is deprecated and will be removed from pandas in a future version. Use pandas.concat instead.\n",
      "  SearchResultsData=SearchResultsData.append(pd.DataFrame(data=[[TrialNumber, batch_size_trial, epochs_trial, MSE]],\n"
     ]
    },
    {
     "name": "stdout",
     "output_type": "stream",
     "text": [
      "2/2 [==============================] - 0s 3ms/step\n"
     ]
    },
    {
     "name": "stderr",
     "output_type": "stream",
     "text": [
      "C:\\Users\\annac\\AppData\\Local\\Temp/ipykernel_1956/695762972.py:54: FutureWarning: The frame.append method is deprecated and will be removed from pandas in a future version. Use pandas.concat instead.\n",
      "  SearchResultsData=SearchResultsData.append(pd.DataFrame(data=[[TrialNumber, batch_size_trial, epochs_trial, MSE]],\n"
     ]
    },
    {
     "name": "stdout",
     "output_type": "stream",
     "text": [
      "2/2 [==============================] - 0s 3ms/step\n"
     ]
    },
    {
     "name": "stderr",
     "output_type": "stream",
     "text": [
      "C:\\Users\\annac\\AppData\\Local\\Temp/ipykernel_1956/695762972.py:54: FutureWarning: The frame.append method is deprecated and will be removed from pandas in a future version. Use pandas.concat instead.\n",
      "  SearchResultsData=SearchResultsData.append(pd.DataFrame(data=[[TrialNumber, batch_size_trial, epochs_trial, MSE]],\n"
     ]
    },
    {
     "name": "stdout",
     "output_type": "stream",
     "text": [
      "2/2 [==============================] - 0s 3ms/step\n"
     ]
    },
    {
     "name": "stderr",
     "output_type": "stream",
     "text": [
      "C:\\Users\\annac\\AppData\\Local\\Temp/ipykernel_1956/695762972.py:54: FutureWarning: The frame.append method is deprecated and will be removed from pandas in a future version. Use pandas.concat instead.\n",
      "  SearchResultsData=SearchResultsData.append(pd.DataFrame(data=[[TrialNumber, batch_size_trial, epochs_trial, MSE]],\n"
     ]
    },
    {
     "name": "stdout",
     "output_type": "stream",
     "text": [
      "2/2 [==============================] - 0s 3ms/step\n",
      "  TrialNumber Parameters       MSE  Batch  Epochs\n",
      "0           1        NaN  0.054445    5.0     5.0\n",
      "0           2        NaN  0.054236    5.0    10.0\n",
      "0           3        NaN  0.057016    5.0    50.0\n",
      "0           4        NaN  0.041270    5.0   100.0\n",
      "0           5        NaN  0.065858   10.0     5.0\n",
      "0           6        NaN  0.069663   10.0    10.0\n",
      "0           7        NaN  0.053798   10.0    50.0\n",
      "0           8        NaN  0.056886   10.0   100.0\n",
      "0           9        NaN  0.547021   15.0     5.0\n",
      "0          10        NaN  0.063628   15.0    10.0\n",
      "0          11        NaN  0.047702   15.0    50.0\n",
      "0          12        NaN  0.049900   15.0   100.0\n",
      "0          13        NaN  0.375338   20.0     5.0\n",
      "0          14        NaN  0.098665   20.0    10.0\n",
      "0          15        NaN  0.050041   20.0    50.0\n",
      "0          16        NaN  0.083668   20.0   100.0\n",
      "index_m:3\n",
      "Epoch 1/100\n"
     ]
    },
    {
     "name": "stderr",
     "output_type": "stream",
     "text": [
      "C:\\Users\\annac\\AppData\\Local\\Temp/ipykernel_1956/695762972.py:54: FutureWarning: The frame.append method is deprecated and will be removed from pandas in a future version. Use pandas.concat instead.\n",
      "  SearchResultsData=SearchResultsData.append(pd.DataFrame(data=[[TrialNumber, batch_size_trial, epochs_trial, MSE]],\n"
     ]
    },
    {
     "name": "stdout",
     "output_type": "stream",
     "text": [
      "33/33 [==============================] - 1s 2ms/step - loss: 0.9811\n",
      "Epoch 2/100\n",
      "33/33 [==============================] - 0s 2ms/step - loss: 0.6348\n",
      "Epoch 3/100\n",
      "33/33 [==============================] - 0s 2ms/step - loss: 0.1768\n",
      "Epoch 4/100\n",
      "33/33 [==============================] - 0s 2ms/step - loss: 0.2549\n",
      "Epoch 5/100\n",
      "33/33 [==============================] - 0s 2ms/step - loss: 0.1708\n",
      "Epoch 6/100\n",
      "33/33 [==============================] - 0s 2ms/step - loss: 0.1877\n",
      "Epoch 7/100\n",
      "33/33 [==============================] - 0s 2ms/step - loss: 0.1483\n",
      "Epoch 8/100\n",
      "33/33 [==============================] - 0s 2ms/step - loss: 0.2021\n",
      "Epoch 9/100\n",
      "33/33 [==============================] - 0s 2ms/step - loss: 0.1527\n",
      "Epoch 10/100\n",
      "33/33 [==============================] - 0s 2ms/step - loss: 0.1513\n",
      "Epoch 11/100\n",
      "33/33 [==============================] - 0s 2ms/step - loss: 0.1194\n",
      "Epoch 12/100\n",
      "33/33 [==============================] - 0s 2ms/step - loss: 0.1369\n",
      "Epoch 13/100\n",
      "33/33 [==============================] - 0s 4ms/step - loss: 0.1410\n",
      "Epoch 14/100\n",
      "33/33 [==============================] - 0s 2ms/step - loss: 0.1718\n",
      "Epoch 15/100\n",
      "33/33 [==============================] - 0s 2ms/step - loss: 0.1318\n",
      "Epoch 16/100\n",
      "33/33 [==============================] - 0s 2ms/step - loss: 0.1451\n",
      "Epoch 17/100\n",
      "33/33 [==============================] - 0s 2ms/step - loss: 0.1050\n",
      "Epoch 18/100\n",
      "33/33 [==============================] - 0s 2ms/step - loss: 0.1113\n",
      "Epoch 19/100\n",
      "33/33 [==============================] - 0s 2ms/step - loss: 0.0902\n",
      "Epoch 20/100\n",
      "33/33 [==============================] - 0s 2ms/step - loss: 0.0930\n",
      "Epoch 21/100\n",
      "33/33 [==============================] - 0s 2ms/step - loss: 0.0749\n",
      "Epoch 22/100\n",
      "33/33 [==============================] - 0s 2ms/step - loss: 0.0689\n",
      "Epoch 23/100\n",
      "33/33 [==============================] - 0s 2ms/step - loss: 0.0795\n",
      "Epoch 24/100\n",
      "33/33 [==============================] - 0s 2ms/step - loss: 0.0827\n",
      "Epoch 25/100\n",
      "33/33 [==============================] - 0s 2ms/step - loss: 0.0622\n",
      "Epoch 26/100\n",
      "33/33 [==============================] - 0s 2ms/step - loss: 0.0668\n",
      "Epoch 27/100\n",
      "33/33 [==============================] - 0s 2ms/step - loss: 0.0494\n",
      "Epoch 28/100\n",
      "33/33 [==============================] - 0s 2ms/step - loss: 0.0670\n",
      "Epoch 29/100\n",
      "33/33 [==============================] - 0s 2ms/step - loss: 0.0504\n",
      "Epoch 30/100\n",
      "33/33 [==============================] - 0s 2ms/step - loss: 0.0489\n",
      "Epoch 31/100\n",
      "33/33 [==============================] - 0s 2ms/step - loss: 0.0671\n",
      "Epoch 32/100\n",
      "33/33 [==============================] - 0s 2ms/step - loss: 0.0538\n",
      "Epoch 33/100\n",
      "33/33 [==============================] - 0s 2ms/step - loss: 0.0940\n",
      "Epoch 34/100\n",
      "33/33 [==============================] - 0s 2ms/step - loss: 0.0684\n",
      "Epoch 35/100\n",
      "33/33 [==============================] - 0s 2ms/step - loss: 0.0398\n",
      "Epoch 36/100\n",
      "33/33 [==============================] - 0s 2ms/step - loss: 0.0605\n",
      "Epoch 37/100\n",
      "33/33 [==============================] - 0s 2ms/step - loss: 0.0857\n",
      "Epoch 38/100\n",
      "33/33 [==============================] - 0s 2ms/step - loss: 0.0823\n",
      "Epoch 39/100\n",
      "33/33 [==============================] - 0s 2ms/step - loss: 0.0620\n",
      "Epoch 40/100\n",
      "33/33 [==============================] - 0s 2ms/step - loss: 0.0469\n",
      "Epoch 41/100\n",
      "33/33 [==============================] - 0s 2ms/step - loss: 0.0850\n",
      "Epoch 42/100\n",
      "33/33 [==============================] - 0s 2ms/step - loss: 0.0677\n",
      "Epoch 43/100\n",
      "33/33 [==============================] - 0s 2ms/step - loss: 0.0584\n",
      "Epoch 44/100\n",
      "33/33 [==============================] - 0s 2ms/step - loss: 0.0606\n",
      "Epoch 45/100\n",
      "33/33 [==============================] - 0s 2ms/step - loss: 0.0439\n",
      "Epoch 46/100\n",
      "33/33 [==============================] - 0s 2ms/step - loss: 0.0647\n",
      "Epoch 47/100\n",
      "33/33 [==============================] - 0s 2ms/step - loss: 0.0444\n",
      "Epoch 48/100\n",
      "33/33 [==============================] - 0s 2ms/step - loss: 0.0534\n",
      "Epoch 49/100\n",
      "33/33 [==============================] - 0s 2ms/step - loss: 0.0626\n",
      "Epoch 50/100\n",
      "33/33 [==============================] - 0s 2ms/step - loss: 0.0480\n",
      "Epoch 51/100\n",
      "33/33 [==============================] - 0s 2ms/step - loss: 0.0451\n",
      "Epoch 52/100\n",
      "33/33 [==============================] - 0s 2ms/step - loss: 0.0467\n",
      "Epoch 53/100\n",
      "33/33 [==============================] - 0s 2ms/step - loss: 0.0632\n",
      "Epoch 54/100\n",
      "33/33 [==============================] - 0s 2ms/step - loss: 0.0394\n",
      "Epoch 55/100\n",
      "33/33 [==============================] - 0s 2ms/step - loss: 0.0452\n",
      "Epoch 56/100\n",
      "33/33 [==============================] - 0s 2ms/step - loss: 0.0865\n",
      "Epoch 57/100\n",
      "33/33 [==============================] - 0s 2ms/step - loss: 0.0518\n",
      "Epoch 58/100\n",
      "33/33 [==============================] - 0s 2ms/step - loss: 0.0330\n",
      "Epoch 59/100\n",
      "33/33 [==============================] - 0s 2ms/step - loss: 0.0391\n",
      "Epoch 60/100\n",
      "33/33 [==============================] - 0s 2ms/step - loss: 0.0341\n",
      "Epoch 61/100\n",
      "33/33 [==============================] - 0s 2ms/step - loss: 0.0441\n",
      "Epoch 62/100\n",
      "33/33 [==============================] - 0s 2ms/step - loss: 0.0382\n",
      "Epoch 63/100\n",
      "33/33 [==============================] - 0s 2ms/step - loss: 0.0377\n",
      "Epoch 64/100\n",
      "33/33 [==============================] - 0s 2ms/step - loss: 0.0354\n",
      "Epoch 65/100\n",
      "33/33 [==============================] - 0s 2ms/step - loss: 0.0391\n",
      "Epoch 66/100\n",
      "33/33 [==============================] - 0s 2ms/step - loss: 0.0329\n",
      "Epoch 67/100\n",
      "33/33 [==============================] - 0s 2ms/step - loss: 0.0549\n",
      "Epoch 68/100\n",
      "33/33 [==============================] - 0s 2ms/step - loss: 0.0851\n",
      "Epoch 69/100\n",
      "33/33 [==============================] - 0s 2ms/step - loss: 0.0345\n",
      "Epoch 70/100\n",
      "33/33 [==============================] - 0s 2ms/step - loss: 0.0514\n",
      "Epoch 71/100\n",
      "33/33 [==============================] - 0s 2ms/step - loss: 0.0425\n",
      "Epoch 72/100\n",
      "33/33 [==============================] - 0s 2ms/step - loss: 0.0378\n",
      "Epoch 73/100\n",
      "33/33 [==============================] - 0s 2ms/step - loss: 0.0550\n",
      "Epoch 74/100\n",
      "33/33 [==============================] - 0s 2ms/step - loss: 0.0359\n",
      "Epoch 75/100\n",
      "33/33 [==============================] - 0s 2ms/step - loss: 0.0515\n",
      "Epoch 76/100\n",
      "33/33 [==============================] - 0s 2ms/step - loss: 0.0677\n",
      "Epoch 77/100\n",
      "33/33 [==============================] - 0s 2ms/step - loss: 0.0313\n",
      "Epoch 78/100\n",
      "33/33 [==============================] - 0s 2ms/step - loss: 0.0440\n",
      "Epoch 79/100\n",
      "33/33 [==============================] - 0s 2ms/step - loss: 0.0457\n",
      "Epoch 80/100\n",
      "33/33 [==============================] - 0s 2ms/step - loss: 0.0273\n",
      "Epoch 81/100\n",
      "33/33 [==============================] - 0s 2ms/step - loss: 0.0258\n",
      "Epoch 82/100\n",
      "33/33 [==============================] - 0s 2ms/step - loss: 0.0327\n",
      "Epoch 83/100\n",
      "33/33 [==============================] - 0s 2ms/step - loss: 0.0421\n",
      "Epoch 84/100\n",
      "33/33 [==============================] - 0s 2ms/step - loss: 0.0401\n",
      "Epoch 85/100\n",
      "33/33 [==============================] - 0s 2ms/step - loss: 0.0398\n",
      "Epoch 86/100\n",
      "33/33 [==============================] - 0s 2ms/step - loss: 0.0477\n",
      "Epoch 87/100\n",
      "33/33 [==============================] - 0s 2ms/step - loss: 0.0362\n",
      "Epoch 88/100\n",
      "33/33 [==============================] - 0s 2ms/step - loss: 0.0379\n",
      "Epoch 89/100\n",
      "33/33 [==============================] - 0s 2ms/step - loss: 0.0340\n",
      "Epoch 90/100\n",
      "33/33 [==============================] - 0s 2ms/step - loss: 0.0310\n",
      "Epoch 91/100\n",
      "33/33 [==============================] - 0s 2ms/step - loss: 0.0668\n",
      "Epoch 92/100\n",
      "33/33 [==============================] - 0s 2ms/step - loss: 0.0345\n",
      "Epoch 93/100\n",
      "33/33 [==============================] - 0s 2ms/step - loss: 0.0318\n",
      "Epoch 94/100\n",
      "33/33 [==============================] - 0s 2ms/step - loss: 0.0343\n",
      "Epoch 95/100\n",
      "33/33 [==============================] - 0s 2ms/step - loss: 0.0267\n",
      "Epoch 96/100\n",
      "33/33 [==============================] - 0s 2ms/step - loss: 0.0518\n",
      "Epoch 97/100\n",
      "33/33 [==============================] - 0s 2ms/step - loss: 0.0266\n",
      "Epoch 98/100\n",
      "33/33 [==============================] - 0s 2ms/step - loss: 0.0253\n",
      "Epoch 99/100\n",
      "33/33 [==============================] - 0s 2ms/step - loss: 0.0293\n",
      "Epoch 100/100\n",
      "33/33 [==============================] - 0s 2ms/step - loss: 0.0347\n",
      "2/2 [==============================] - 0s 2ms/step\n",
      "R-squared: 0.9230394\n",
      "MSE: 0.070449136\n",
      "    ActualValue    Predicted        Diff\n",
      "0        2554.0  2173.337891  380.662109\n",
      "1        1551.0   897.883362  653.116638\n",
      "2         334.0   315.764923   18.235077\n",
      "3         257.0   301.404083   44.404083\n",
      "4         725.0   774.497498   49.497498\n",
      "5         361.0   273.995270   87.004730\n",
      "6         236.0   235.300095    0.699905\n",
      "7         245.0   229.531296   15.468704\n",
      "8         225.0   301.482574   76.482574\n",
      "9         268.0   263.126495    4.873505\n",
      "10        352.0   315.138153   36.861847\n",
      "11        227.0   279.724274   52.724274\n",
      "12        816.0   872.929810   56.929810\n",
      "13        236.0   280.303375   44.303375\n",
      "14        635.0   713.911499   78.911499\n",
      "15        237.0   243.507004    6.507004\n",
      "16       2718.0  2105.789551  612.210449\n",
      "17        453.0   388.683502   64.316498\n",
      "18        422.0   367.851562   54.148438\n",
      "19        221.0   293.499969   72.499969\n",
      "20       1000.0   910.825684   89.174316\n",
      "21        327.0   245.081467   81.918533\n",
      "22        338.0   277.961884   60.038116\n",
      "23       2860.0  2182.665283  677.334717\n",
      "24       2817.0  2439.585938  377.414062\n",
      "25       2644.0  2225.591553  418.408447\n",
      "26        218.0   274.921295   56.921295\n",
      "27        403.0   475.189148   72.189148\n",
      "28        345.0   262.699188   82.300812\n",
      "29        373.0   399.985596   26.985596\n",
      "30        726.0   792.871033   66.871033\n",
      "31        246.0   307.305817   61.305817\n",
      "32        245.0   287.493378   42.493378\n",
      "33        531.0   353.953674  177.046326\n",
      "34        522.0   387.794434  134.205566\n",
      "35        716.0   472.991638  243.008362\n",
      "36        230.0   227.659348    2.340652\n",
      "37       1176.0  1436.213379  260.213379\n",
      "38       1825.0  1574.595825  250.404175\n",
      "39        438.0   328.003174  109.996826\n",
      "40        228.0   255.947372   27.947372\n",
      "        R^2       MSE\n",
      "0  0.923039  0.070449\n"
     ]
    },
    {
     "data": {
      "text/html": [
       "<div>\n",
       "<style scoped>\n",
       "    .dataframe tbody tr th:only-of-type {\n",
       "        vertical-align: middle;\n",
       "    }\n",
       "\n",
       "    .dataframe tbody tr th {\n",
       "        vertical-align: top;\n",
       "    }\n",
       "\n",
       "    .dataframe thead th {\n",
       "        text-align: right;\n",
       "    }\n",
       "</style>\n",
       "<table border=\"1\" class=\"dataframe\">\n",
       "  <thead>\n",
       "    <tr style=\"text-align: right;\">\n",
       "      <th></th>\n",
       "      <th>R^2</th>\n",
       "      <th>MSE</th>\n",
       "    </tr>\n",
       "  </thead>\n",
       "  <tbody>\n",
       "    <tr>\n",
       "      <th>0</th>\n",
       "      <td>0.923039</td>\n",
       "      <td>0.070449</td>\n",
       "    </tr>\n",
       "  </tbody>\n",
       "</table>\n",
       "</div>"
      ],
      "text/plain": [
       "        R^2       MSE\n",
       "0  0.923039  0.070449"
      ]
     },
     "execution_count": 94,
     "metadata": {},
     "output_type": "execute_result"
    }
   ],
   "source": [
    "ANN_model(ger_filter,'Daily ICU occupancy', 'small_ger_data')"
   ]
  },
  {
   "cell_type": "code",
   "execution_count": 95,
   "id": "f54eeaec",
   "metadata": {},
   "outputs": [
    {
     "name": "stdout",
     "output_type": "stream",
     "text": [
      "R-squared: 0.9714648356762114\n",
      "MSE: 0.026120860941048072\n"
     ]
    },
    {
     "name": "stderr",
     "output_type": "stream",
     "text": [
      "C:\\Users\\annac\\anaconda\\lib\\site-packages\\sklearn\\utils\\validation.py:63: DataConversionWarning: A column-vector y was passed when a 1d array was expected. Please change the shape of y to (n_samples, ), for example using ravel().\n",
      "  return f(*args, **kwargs)\n"
     ]
    },
    {
     "data": {
      "text/html": [
       "<div>\n",
       "<style scoped>\n",
       "    .dataframe tbody tr th:only-of-type {\n",
       "        vertical-align: middle;\n",
       "    }\n",
       "\n",
       "    .dataframe tbody tr th {\n",
       "        vertical-align: top;\n",
       "    }\n",
       "\n",
       "    .dataframe thead th {\n",
       "        text-align: right;\n",
       "    }\n",
       "</style>\n",
       "<table border=\"1\" class=\"dataframe\">\n",
       "  <thead>\n",
       "    <tr style=\"text-align: right;\">\n",
       "      <th></th>\n",
       "      <th>R^2</th>\n",
       "      <th>MSE</th>\n",
       "    </tr>\n",
       "  </thead>\n",
       "  <tbody>\n",
       "    <tr>\n",
       "      <th>0</th>\n",
       "      <td>0.971465</td>\n",
       "      <td>0.026121</td>\n",
       "    </tr>\n",
       "  </tbody>\n",
       "</table>\n",
       "</div>"
      ],
      "text/plain": [
       "        R^2       MSE\n",
       "0  0.971465  0.026121"
      ]
     },
     "execution_count": 95,
     "metadata": {},
     "output_type": "execute_result"
    }
   ],
   "source": [
    "SVM_model(ger_filter,'Daily ICU occupancy', 'small_ger_data')"
   ]
  },
  {
   "cell_type": "code",
   "execution_count": 96,
   "id": "f8a51cd5",
   "metadata": {},
   "outputs": [
    {
     "name": "stdout",
     "output_type": "stream",
     "text": [
      "K=2, val_mse=0.02%\n",
      "K=3, val_mse=0.03%\n",
      "K=4, val_mse=0.01%\n",
      "K=5, val_mse=0.02%\n",
      "K=6, val_mse=0.03%\n",
      "K=7, val_mse=0.02%\n",
      "K=8, val_mse=0.02%\n",
      "K=9, val_mse=0.02%\n",
      "K=10, val_mse=0.03%\n",
      "index_mse:2\n",
      "R-squared: 0.9843739458734325\n",
      "MSE: 0.014303964829706268\n"
     ]
    },
    {
     "data": {
      "text/html": [
       "<div>\n",
       "<style scoped>\n",
       "    .dataframe tbody tr th:only-of-type {\n",
       "        vertical-align: middle;\n",
       "    }\n",
       "\n",
       "    .dataframe tbody tr th {\n",
       "        vertical-align: top;\n",
       "    }\n",
       "\n",
       "    .dataframe thead th {\n",
       "        text-align: right;\n",
       "    }\n",
       "</style>\n",
       "<table border=\"1\" class=\"dataframe\">\n",
       "  <thead>\n",
       "    <tr style=\"text-align: right;\">\n",
       "      <th></th>\n",
       "      <th>R^2</th>\n",
       "      <th>MSE</th>\n",
       "    </tr>\n",
       "  </thead>\n",
       "  <tbody>\n",
       "    <tr>\n",
       "      <th>0</th>\n",
       "      <td>0.984374</td>\n",
       "      <td>0.014304</td>\n",
       "    </tr>\n",
       "  </tbody>\n",
       "</table>\n",
       "</div>"
      ],
      "text/plain": [
       "        R^2       MSE\n",
       "0  0.984374  0.014304"
      ]
     },
     "execution_count": 96,
     "metadata": {},
     "output_type": "execute_result"
    }
   ],
   "source": [
    "KNN_model(ger_filter,'Daily ICU occupancy', 'small_ger_data')"
   ]
  },
  {
   "cell_type": "code",
   "execution_count": 64,
   "id": "a0ce3226",
   "metadata": {},
   "outputs": [
    {
     "name": "stdout",
     "output_type": "stream",
     "text": [
      "0.9943009028204428\n",
      "[-0.01095649]\n",
      "R-squared: 0.920466908121284\n",
      "MSE: 0.0728039554846244\n"
     ]
    },
    {
     "data": {
      "text/plain": [
       "(        R^2       MSE\n",
       " 0  0.920467  0.072804,\n",
       "     ActualValue    Predicted        Diff\n",
       " 0        2554.0  2248.812920  305.187080\n",
       " 1        1551.0   902.120113  648.879887\n",
       " 2         334.0    74.806092  259.193908\n",
       " 3         257.0   292.543755   35.543755\n",
       " 4         725.0   459.162094  265.837906\n",
       " 5         361.0   589.621886  228.621886\n",
       " 6         236.0   308.075609   72.075609\n",
       " 7         245.0   196.294570   48.705430\n",
       " 8         225.0    64.934049  160.065951\n",
       " 9         268.0    33.743705  234.256295\n",
       " 10        352.0   576.347637  224.347637\n",
       " 11        227.0    66.161472  160.838528\n",
       " 12        816.0   986.474912  170.474912\n",
       " 13        236.0   264.230033   28.230033\n",
       " 14        635.0   625.816054    9.183946\n",
       " 15        237.0   332.673593   95.673593\n",
       " 16       2718.0  2430.533463  287.466537\n",
       " 17        453.0   680.746233  227.746233\n",
       " 18        422.0   492.453600   70.453600\n",
       " 19        221.0    58.571866  162.428134\n",
       " 20       1000.0   988.554016   11.445984\n",
       " 21        327.0   472.822728  145.822728\n",
       " 22        338.0   448.505723  110.505723\n",
       " 23       2860.0  2312.614832  547.385168\n",
       " 24       2817.0  3419.046644  602.046644\n",
       " 25       2644.0  2456.941692  187.058308\n",
       " 26        218.0   279.058310   61.058310\n",
       " 27        403.0   358.650048   44.349952\n",
       " 28        345.0   342.160571    2.839429\n",
       " 29        373.0   256.056099  116.943901\n",
       " 30        726.0   705.984777   20.015223\n",
       " 31        246.0   290.853493   44.853493\n",
       " 32        245.0   215.026278   29.973722\n",
       " 33        531.0   340.578345  190.421655\n",
       " 34        522.0   451.678203   70.321797\n",
       " 35        716.0   611.298934  104.701066\n",
       " 36        230.0   -27.201587  257.201587\n",
       " 37       1176.0  1571.712509  395.712509\n",
       " 38       1825.0  1771.703344   53.296656\n",
       " 39        438.0   303.995515  134.004485\n",
       " 40        228.0   127.751072  100.248928)"
      ]
     },
     "execution_count": 64,
     "metadata": {},
     "output_type": "execute_result"
    }
   ],
   "source": [
    "LR_model(ger_filter,'Daily ICU occupancy', 'small_ger_data')"
   ]
  },
  {
   "cell_type": "code",
   "execution_count": null,
   "id": "72d19f19",
   "metadata": {},
   "outputs": [],
   "source": []
  },
  {
   "cell_type": "code",
   "execution_count": null,
   "id": "56cc0c58",
   "metadata": {},
   "outputs": [],
   "source": []
  },
  {
   "cell_type": "code",
   "execution_count": null,
   "id": "440e4bd1",
   "metadata": {},
   "outputs": [],
   "source": []
  },
  {
   "cell_type": "code",
   "execution_count": null,
   "id": "5fb36f91",
   "metadata": {},
   "outputs": [],
   "source": []
  },
  {
   "cell_type": "code",
   "execution_count": null,
   "id": "f2befb14",
   "metadata": {},
   "outputs": [],
   "source": []
  },
  {
   "cell_type": "code",
   "execution_count": 97,
   "id": "3be8ab9a",
   "metadata": {},
   "outputs": [],
   "source": [
    "targets_Chil = pd.read_csv('hosp_data_Chil.csv')\n",
    "chil_filter = targets_Chil[['Daily ICU occupancy']].loc[targets_Chil['Daily ICU occupancy']>= 0.0]"
   ]
  },
  {
   "cell_type": "code",
   "execution_count": 98,
   "id": "e1a34a52",
   "metadata": {},
   "outputs": [
    {
     "name": "stdout",
     "output_type": "stream",
     "text": [
      "2/2 [==============================] - 0s 2ms/step\n"
     ]
    },
    {
     "name": "stderr",
     "output_type": "stream",
     "text": [
      "C:\\Users\\annac\\AppData\\Local\\Temp/ipykernel_1956/695762972.py:54: FutureWarning: The frame.append method is deprecated and will be removed from pandas in a future version. Use pandas.concat instead.\n",
      "  SearchResultsData=SearchResultsData.append(pd.DataFrame(data=[[TrialNumber, batch_size_trial, epochs_trial, MSE]],\n"
     ]
    },
    {
     "name": "stdout",
     "output_type": "stream",
     "text": [
      "2/2 [==============================] - 0s 2ms/step\n"
     ]
    },
    {
     "name": "stderr",
     "output_type": "stream",
     "text": [
      "C:\\Users\\annac\\AppData\\Local\\Temp/ipykernel_1956/695762972.py:54: FutureWarning: The frame.append method is deprecated and will be removed from pandas in a future version. Use pandas.concat instead.\n",
      "  SearchResultsData=SearchResultsData.append(pd.DataFrame(data=[[TrialNumber, batch_size_trial, epochs_trial, MSE]],\n"
     ]
    },
    {
     "name": "stdout",
     "output_type": "stream",
     "text": [
      "2/2 [==============================] - 0s 3ms/step\n"
     ]
    },
    {
     "name": "stderr",
     "output_type": "stream",
     "text": [
      "C:\\Users\\annac\\AppData\\Local\\Temp/ipykernel_1956/695762972.py:54: FutureWarning: The frame.append method is deprecated and will be removed from pandas in a future version. Use pandas.concat instead.\n",
      "  SearchResultsData=SearchResultsData.append(pd.DataFrame(data=[[TrialNumber, batch_size_trial, epochs_trial, MSE]],\n"
     ]
    },
    {
     "name": "stdout",
     "output_type": "stream",
     "text": [
      "2/2 [==============================] - 0s 3ms/step\n"
     ]
    },
    {
     "name": "stderr",
     "output_type": "stream",
     "text": [
      "C:\\Users\\annac\\AppData\\Local\\Temp/ipykernel_1956/695762972.py:54: FutureWarning: The frame.append method is deprecated and will be removed from pandas in a future version. Use pandas.concat instead.\n",
      "  SearchResultsData=SearchResultsData.append(pd.DataFrame(data=[[TrialNumber, batch_size_trial, epochs_trial, MSE]],\n"
     ]
    },
    {
     "name": "stdout",
     "output_type": "stream",
     "text": [
      "2/2 [==============================] - 0s 2ms/step\n"
     ]
    },
    {
     "name": "stderr",
     "output_type": "stream",
     "text": [
      "C:\\Users\\annac\\AppData\\Local\\Temp/ipykernel_1956/695762972.py:54: FutureWarning: The frame.append method is deprecated and will be removed from pandas in a future version. Use pandas.concat instead.\n",
      "  SearchResultsData=SearchResultsData.append(pd.DataFrame(data=[[TrialNumber, batch_size_trial, epochs_trial, MSE]],\n"
     ]
    },
    {
     "name": "stdout",
     "output_type": "stream",
     "text": [
      "2/2 [==============================] - 0s 2ms/step\n"
     ]
    },
    {
     "name": "stderr",
     "output_type": "stream",
     "text": [
      "C:\\Users\\annac\\AppData\\Local\\Temp/ipykernel_1956/695762972.py:54: FutureWarning: The frame.append method is deprecated and will be removed from pandas in a future version. Use pandas.concat instead.\n",
      "  SearchResultsData=SearchResultsData.append(pd.DataFrame(data=[[TrialNumber, batch_size_trial, epochs_trial, MSE]],\n"
     ]
    },
    {
     "name": "stdout",
     "output_type": "stream",
     "text": [
      "2/2 [==============================] - 0s 3ms/step\n"
     ]
    },
    {
     "name": "stderr",
     "output_type": "stream",
     "text": [
      "C:\\Users\\annac\\AppData\\Local\\Temp/ipykernel_1956/695762972.py:54: FutureWarning: The frame.append method is deprecated and will be removed from pandas in a future version. Use pandas.concat instead.\n",
      "  SearchResultsData=SearchResultsData.append(pd.DataFrame(data=[[TrialNumber, batch_size_trial, epochs_trial, MSE]],\n"
     ]
    },
    {
     "name": "stdout",
     "output_type": "stream",
     "text": [
      "2/2 [==============================] - 0s 3ms/step\n"
     ]
    },
    {
     "name": "stderr",
     "output_type": "stream",
     "text": [
      "C:\\Users\\annac\\AppData\\Local\\Temp/ipykernel_1956/695762972.py:54: FutureWarning: The frame.append method is deprecated and will be removed from pandas in a future version. Use pandas.concat instead.\n",
      "  SearchResultsData=SearchResultsData.append(pd.DataFrame(data=[[TrialNumber, batch_size_trial, epochs_trial, MSE]],\n"
     ]
    },
    {
     "name": "stdout",
     "output_type": "stream",
     "text": [
      "2/2 [==============================] - 0s 3ms/step\n"
     ]
    },
    {
     "name": "stderr",
     "output_type": "stream",
     "text": [
      "C:\\Users\\annac\\AppData\\Local\\Temp/ipykernel_1956/695762972.py:54: FutureWarning: The frame.append method is deprecated and will be removed from pandas in a future version. Use pandas.concat instead.\n",
      "  SearchResultsData=SearchResultsData.append(pd.DataFrame(data=[[TrialNumber, batch_size_trial, epochs_trial, MSE]],\n"
     ]
    },
    {
     "name": "stdout",
     "output_type": "stream",
     "text": [
      "2/2 [==============================] - 0s 2ms/step\n"
     ]
    },
    {
     "name": "stderr",
     "output_type": "stream",
     "text": [
      "C:\\Users\\annac\\AppData\\Local\\Temp/ipykernel_1956/695762972.py:54: FutureWarning: The frame.append method is deprecated and will be removed from pandas in a future version. Use pandas.concat instead.\n",
      "  SearchResultsData=SearchResultsData.append(pd.DataFrame(data=[[TrialNumber, batch_size_trial, epochs_trial, MSE]],\n"
     ]
    },
    {
     "name": "stdout",
     "output_type": "stream",
     "text": [
      "2/2 [==============================] - 0s 3ms/step\n"
     ]
    },
    {
     "name": "stderr",
     "output_type": "stream",
     "text": [
      "C:\\Users\\annac\\AppData\\Local\\Temp/ipykernel_1956/695762972.py:54: FutureWarning: The frame.append method is deprecated and will be removed from pandas in a future version. Use pandas.concat instead.\n",
      "  SearchResultsData=SearchResultsData.append(pd.DataFrame(data=[[TrialNumber, batch_size_trial, epochs_trial, MSE]],\n"
     ]
    },
    {
     "name": "stdout",
     "output_type": "stream",
     "text": [
      "2/2 [==============================] - 0s 2ms/step\n"
     ]
    },
    {
     "name": "stderr",
     "output_type": "stream",
     "text": [
      "C:\\Users\\annac\\AppData\\Local\\Temp/ipykernel_1956/695762972.py:54: FutureWarning: The frame.append method is deprecated and will be removed from pandas in a future version. Use pandas.concat instead.\n",
      "  SearchResultsData=SearchResultsData.append(pd.DataFrame(data=[[TrialNumber, batch_size_trial, epochs_trial, MSE]],\n"
     ]
    },
    {
     "name": "stdout",
     "output_type": "stream",
     "text": [
      "2/2 [==============================] - 0s 3ms/step\n"
     ]
    },
    {
     "name": "stderr",
     "output_type": "stream",
     "text": [
      "C:\\Users\\annac\\AppData\\Local\\Temp/ipykernel_1956/695762972.py:54: FutureWarning: The frame.append method is deprecated and will be removed from pandas in a future version. Use pandas.concat instead.\n",
      "  SearchResultsData=SearchResultsData.append(pd.DataFrame(data=[[TrialNumber, batch_size_trial, epochs_trial, MSE]],\n"
     ]
    },
    {
     "name": "stdout",
     "output_type": "stream",
     "text": [
      "2/2 [==============================] - 0s 3ms/step\n"
     ]
    },
    {
     "name": "stderr",
     "output_type": "stream",
     "text": [
      "C:\\Users\\annac\\AppData\\Local\\Temp/ipykernel_1956/695762972.py:54: FutureWarning: The frame.append method is deprecated and will be removed from pandas in a future version. Use pandas.concat instead.\n",
      "  SearchResultsData=SearchResultsData.append(pd.DataFrame(data=[[TrialNumber, batch_size_trial, epochs_trial, MSE]],\n"
     ]
    },
    {
     "name": "stdout",
     "output_type": "stream",
     "text": [
      "2/2 [==============================] - 0s 3ms/step\n"
     ]
    },
    {
     "name": "stderr",
     "output_type": "stream",
     "text": [
      "C:\\Users\\annac\\AppData\\Local\\Temp/ipykernel_1956/695762972.py:54: FutureWarning: The frame.append method is deprecated and will be removed from pandas in a future version. Use pandas.concat instead.\n",
      "  SearchResultsData=SearchResultsData.append(pd.DataFrame(data=[[TrialNumber, batch_size_trial, epochs_trial, MSE]],\n"
     ]
    },
    {
     "name": "stdout",
     "output_type": "stream",
     "text": [
      "2/2 [==============================] - 0s 3ms/step\n",
      "  TrialNumber Parameters       MSE  Batch  Epochs\n",
      "0           1        NaN  0.054659    5.0     5.0\n",
      "0           2        NaN  0.058939    5.0    10.0\n",
      "0           3        NaN  0.070115    5.0    50.0\n",
      "0           4        NaN  0.051075    5.0   100.0\n",
      "0           5        NaN  0.074931   10.0     5.0\n",
      "0           6        NaN  0.053638   10.0    10.0\n",
      "0           7        NaN  0.046481   10.0    50.0\n",
      "0           8        NaN  0.059266   10.0   100.0\n",
      "0           9        NaN  0.552207   15.0     5.0\n",
      "0          10        NaN  0.060947   15.0    10.0\n",
      "0          11        NaN  0.046017   15.0    50.0\n",
      "0          12        NaN  0.043147   15.0   100.0\n",
      "0          13        NaN  0.741354   20.0     5.0\n",
      "0          14        NaN  0.091463   20.0    10.0\n",
      "0          15        NaN  0.046258   20.0    50.0\n",
      "0          16        NaN  0.046434   20.0   100.0\n",
      "index_m:11\n",
      "Epoch 1/100\n"
     ]
    },
    {
     "name": "stderr",
     "output_type": "stream",
     "text": [
      "C:\\Users\\annac\\AppData\\Local\\Temp/ipykernel_1956/695762972.py:54: FutureWarning: The frame.append method is deprecated and will be removed from pandas in a future version. Use pandas.concat instead.\n",
      "  SearchResultsData=SearchResultsData.append(pd.DataFrame(data=[[TrialNumber, batch_size_trial, epochs_trial, MSE]],\n"
     ]
    },
    {
     "name": "stdout",
     "output_type": "stream",
     "text": [
      "11/11 [==============================] - 0s 2ms/step - loss: 1.0122\n",
      "Epoch 2/100\n",
      "11/11 [==============================] - 0s 2ms/step - loss: 1.0038\n",
      "Epoch 3/100\n",
      "11/11 [==============================] - 0s 2ms/step - loss: 0.9791\n",
      "Epoch 4/100\n",
      "11/11 [==============================] - 0s 2ms/step - loss: 0.9154\n",
      "Epoch 5/100\n",
      "11/11 [==============================] - 0s 2ms/step - loss: 0.7456\n",
      "Epoch 6/100\n",
      "11/11 [==============================] - 0s 2ms/step - loss: 0.4537\n",
      "Epoch 7/100\n",
      "11/11 [==============================] - 0s 2ms/step - loss: 0.3084\n",
      "Epoch 8/100\n",
      "11/11 [==============================] - 0s 2ms/step - loss: 0.1979\n",
      "Epoch 9/100\n",
      "11/11 [==============================] - 0s 2ms/step - loss: 0.1801\n",
      "Epoch 10/100\n",
      "11/11 [==============================] - 0s 2ms/step - loss: 0.1623\n",
      "Epoch 11/100\n",
      "11/11 [==============================] - 0s 2ms/step - loss: 0.1512\n",
      "Epoch 12/100\n",
      "11/11 [==============================] - 0s 2ms/step - loss: 0.1551\n",
      "Epoch 13/100\n",
      "11/11 [==============================] - 0s 2ms/step - loss: 0.1485\n",
      "Epoch 14/100\n",
      "11/11 [==============================] - 0s 2ms/step - loss: 0.1659\n",
      "Epoch 15/100\n",
      "11/11 [==============================] - 0s 2ms/step - loss: 0.1385\n",
      "Epoch 16/100\n",
      "11/11 [==============================] - 0s 2ms/step - loss: 0.1439\n",
      "Epoch 17/100\n",
      "11/11 [==============================] - 0s 2ms/step - loss: 0.1250\n",
      "Epoch 18/100\n",
      "11/11 [==============================] - 0s 2ms/step - loss: 0.1609\n",
      "Epoch 19/100\n",
      "11/11 [==============================] - 0s 2ms/step - loss: 0.1283\n",
      "Epoch 20/100\n",
      "11/11 [==============================] - 0s 2ms/step - loss: 0.1314\n",
      "Epoch 21/100\n",
      "11/11 [==============================] - 0s 2ms/step - loss: 0.1469\n",
      "Epoch 22/100\n",
      "11/11 [==============================] - 0s 2ms/step - loss: 0.1410\n",
      "Epoch 23/100\n",
      "11/11 [==============================] - 0s 2ms/step - loss: 0.1214\n",
      "Epoch 24/100\n",
      "11/11 [==============================] - 0s 2ms/step - loss: 0.1084\n",
      "Epoch 25/100\n",
      "11/11 [==============================] - 0s 2ms/step - loss: 0.1239\n",
      "Epoch 26/100\n",
      "11/11 [==============================] - 0s 2ms/step - loss: 0.1292\n",
      "Epoch 27/100\n",
      "11/11 [==============================] - 0s 2ms/step - loss: 0.1192\n",
      "Epoch 28/100\n",
      "11/11 [==============================] - 0s 2ms/step - loss: 0.1262\n",
      "Epoch 29/100\n",
      "11/11 [==============================] - 0s 2ms/step - loss: 0.1117\n",
      "Epoch 30/100\n",
      "11/11 [==============================] - 0s 2ms/step - loss: 0.1005\n",
      "Epoch 31/100\n",
      "11/11 [==============================] - 0s 2ms/step - loss: 0.1260\n",
      "Epoch 32/100\n",
      "11/11 [==============================] - 0s 2ms/step - loss: 0.1351\n",
      "Epoch 33/100\n",
      "11/11 [==============================] - 0s 2ms/step - loss: 0.1199\n",
      "Epoch 34/100\n",
      "11/11 [==============================] - 0s 2ms/step - loss: 0.1073\n",
      "Epoch 35/100\n",
      "11/11 [==============================] - 0s 3ms/step - loss: 0.1177\n",
      "Epoch 36/100\n",
      "11/11 [==============================] - 0s 2ms/step - loss: 0.1288\n",
      "Epoch 37/100\n",
      "11/11 [==============================] - 0s 2ms/step - loss: 0.0937\n",
      "Epoch 38/100\n",
      "11/11 [==============================] - 0s 3ms/step - loss: 0.0975\n",
      "Epoch 39/100\n",
      "11/11 [==============================] - 0s 2ms/step - loss: 0.1235\n",
      "Epoch 40/100\n",
      "11/11 [==============================] - 0s 2ms/step - loss: 0.1190\n",
      "Epoch 41/100\n",
      "11/11 [==============================] - 0s 2ms/step - loss: 0.1346\n",
      "Epoch 42/100\n",
      "11/11 [==============================] - 0s 3ms/step - loss: 0.1134\n",
      "Epoch 43/100\n",
      "11/11 [==============================] - 0s 2ms/step - loss: 0.1348\n",
      "Epoch 44/100\n",
      "11/11 [==============================] - 0s 2ms/step - loss: 0.1153\n",
      "Epoch 45/100\n",
      "11/11 [==============================] - 0s 2ms/step - loss: 0.1102\n",
      "Epoch 46/100\n",
      "11/11 [==============================] - 0s 2ms/step - loss: 0.1139\n",
      "Epoch 47/100\n",
      "11/11 [==============================] - 0s 2ms/step - loss: 0.0932\n",
      "Epoch 48/100\n",
      "11/11 [==============================] - 0s 2ms/step - loss: 0.1095\n",
      "Epoch 49/100\n",
      "11/11 [==============================] - 0s 2ms/step - loss: 0.1111\n",
      "Epoch 50/100\n",
      "11/11 [==============================] - 0s 2ms/step - loss: 0.1188\n",
      "Epoch 51/100\n",
      "11/11 [==============================] - 0s 2ms/step - loss: 0.1240\n",
      "Epoch 52/100\n",
      "11/11 [==============================] - 0s 2ms/step - loss: 0.0988\n",
      "Epoch 53/100\n",
      "11/11 [==============================] - 0s 2ms/step - loss: 0.0789\n",
      "Epoch 54/100\n",
      "11/11 [==============================] - 0s 2ms/step - loss: 0.1121\n",
      "Epoch 55/100\n",
      "11/11 [==============================] - 0s 3ms/step - loss: 0.1066\n",
      "Epoch 56/100\n",
      "11/11 [==============================] - 0s 2ms/step - loss: 0.1086\n",
      "Epoch 57/100\n",
      "11/11 [==============================] - 0s 2ms/step - loss: 0.1156\n",
      "Epoch 58/100\n",
      "11/11 [==============================] - 0s 2ms/step - loss: 0.1022\n",
      "Epoch 59/100\n",
      "11/11 [==============================] - 0s 2ms/step - loss: 0.0917\n",
      "Epoch 60/100\n",
      "11/11 [==============================] - 0s 2ms/step - loss: 0.0746\n",
      "Epoch 61/100\n",
      "11/11 [==============================] - 0s 2ms/step - loss: 0.1094\n",
      "Epoch 62/100\n",
      "11/11 [==============================] - 0s 2ms/step - loss: 0.1083\n",
      "Epoch 63/100\n",
      "11/11 [==============================] - 0s 3ms/step - loss: 0.1033\n",
      "Epoch 64/100\n",
      "11/11 [==============================] - 0s 2ms/step - loss: 0.0999\n",
      "Epoch 65/100\n",
      "11/11 [==============================] - 0s 2ms/step - loss: 0.1010\n",
      "Epoch 66/100\n",
      "11/11 [==============================] - 0s 2ms/step - loss: 0.0987\n",
      "Epoch 67/100\n",
      "11/11 [==============================] - 0s 2ms/step - loss: 0.0965\n",
      "Epoch 68/100\n",
      "11/11 [==============================] - 0s 2ms/step - loss: 0.0839\n",
      "Epoch 69/100\n",
      "11/11 [==============================] - 0s 2ms/step - loss: 0.0869\n",
      "Epoch 70/100\n",
      "11/11 [==============================] - 0s 2ms/step - loss: 0.0906\n",
      "Epoch 71/100\n",
      "11/11 [==============================] - 0s 2ms/step - loss: 0.0893\n",
      "Epoch 72/100\n",
      "11/11 [==============================] - 0s 2ms/step - loss: 0.0868\n",
      "Epoch 73/100\n",
      "11/11 [==============================] - 0s 2ms/step - loss: 0.0749\n",
      "Epoch 74/100\n",
      "11/11 [==============================] - 0s 2ms/step - loss: 0.1134\n",
      "Epoch 75/100\n",
      "11/11 [==============================] - 0s 2ms/step - loss: 0.0927\n",
      "Epoch 76/100\n",
      "11/11 [==============================] - 0s 2ms/step - loss: 0.0903\n",
      "Epoch 77/100\n",
      "11/11 [==============================] - 0s 2ms/step - loss: 0.0775\n",
      "Epoch 78/100\n",
      "11/11 [==============================] - 0s 2ms/step - loss: 0.0878\n",
      "Epoch 79/100\n",
      "11/11 [==============================] - 0s 2ms/step - loss: 0.1005\n",
      "Epoch 80/100\n",
      "11/11 [==============================] - 0s 2ms/step - loss: 0.0806\n",
      "Epoch 81/100\n",
      "11/11 [==============================] - 0s 2ms/step - loss: 0.1095\n",
      "Epoch 82/100\n",
      "11/11 [==============================] - 0s 2ms/step - loss: 0.0954\n",
      "Epoch 83/100\n",
      "11/11 [==============================] - 0s 2ms/step - loss: 0.0886\n",
      "Epoch 84/100\n",
      "11/11 [==============================] - 0s 2ms/step - loss: 0.1019\n",
      "Epoch 85/100\n",
      "11/11 [==============================] - 0s 2ms/step - loss: 0.0704\n",
      "Epoch 86/100\n",
      "11/11 [==============================] - 0s 2ms/step - loss: 0.0878\n",
      "Epoch 87/100\n",
      "11/11 [==============================] - 0s 2ms/step - loss: 0.0847\n",
      "Epoch 88/100\n",
      "11/11 [==============================] - 0s 2ms/step - loss: 0.0892\n",
      "Epoch 89/100\n",
      "11/11 [==============================] - 0s 2ms/step - loss: 0.0756\n",
      "Epoch 90/100\n",
      "11/11 [==============================] - 0s 2ms/step - loss: 0.1208\n",
      "Epoch 91/100\n",
      "11/11 [==============================] - 0s 2ms/step - loss: 0.0805\n",
      "Epoch 92/100\n",
      "11/11 [==============================] - 0s 2ms/step - loss: 0.0872\n",
      "Epoch 93/100\n",
      "11/11 [==============================] - 0s 2ms/step - loss: 0.0756\n",
      "Epoch 94/100\n",
      "11/11 [==============================] - 0s 2ms/step - loss: 0.0775\n",
      "Epoch 95/100\n",
      "11/11 [==============================] - 0s 2ms/step - loss: 0.0774\n",
      "Epoch 96/100\n",
      "11/11 [==============================] - 0s 3ms/step - loss: 0.0874\n",
      "Epoch 97/100\n",
      "11/11 [==============================] - 0s 2ms/step - loss: 0.0878\n",
      "Epoch 98/100\n",
      "11/11 [==============================] - 0s 2ms/step - loss: 0.0849\n",
      "Epoch 99/100\n",
      "11/11 [==============================] - 0s 2ms/step - loss: 0.0655\n",
      "Epoch 100/100\n",
      "11/11 [==============================] - 0s 2ms/step - loss: 0.0696\n",
      "2/2 [==============================] - 0s 3ms/step\n",
      "R-squared: 0.95423365\n",
      "MSE: 0.042484418\n",
      "    ActualValue    Predicted        Diff\n",
      "0        1177.0  1090.119263   86.880737\n",
      "1         385.0   467.709137   82.709137\n",
      "2         940.0  1015.255005   75.255005\n",
      "3        2069.0  1827.892822  241.107178\n",
      "4        1581.0  1524.854858   56.145142\n",
      "5         962.0  1015.255005   53.255005\n",
      "6        1202.0  1103.797852   98.202148\n",
      "7         384.0   463.952362   79.952362\n",
      "8        1688.0  1640.747559   47.252441\n",
      "9        1728.0  1687.876709   40.123291\n",
      "10        868.0   988.942688  120.942688\n",
      "11        373.0   501.993927  128.993927\n",
      "12       2014.0  1768.671631  245.328369\n",
      "13        383.0   505.480865  122.480865\n",
      "14        908.0   920.923096   12.923096\n",
      "15       1555.0  1494.123169   60.876831\n",
      "16       1577.0  1466.195068  110.804932\n",
      "17       1670.0  1664.717773    5.282227\n",
      "18        817.0   833.393311   16.393311\n",
      "19       1485.0  1617.559204  132.559204\n",
      "20       1437.0  1447.877319   10.877319\n",
      "21       1027.0  1046.639526   19.639526\n",
      "22       1524.0  1579.902710   55.902710\n",
      "23        751.0   774.951111   23.951111\n",
      "24        909.0   997.956970   88.956970\n",
      "25       1612.0  1543.077515   68.922485\n",
      "26       1558.0  1577.654541   19.654541\n",
      "27       2107.0  1982.713379  124.286621\n",
      "28        428.0   537.445862  109.445862\n",
      "29       1999.0  1672.333984  326.666016\n",
      "30       1529.0  1491.638428   37.361572\n",
      "31       1723.0  1749.973145   26.973145\n",
      "32        418.0   524.943970  106.943970\n",
      "33        901.0   995.091248   94.091248\n",
      "34       1358.0  1489.091187  131.091187\n",
      "35        895.0  1015.244324  120.244324\n",
      "36        377.0   547.906067  170.906067\n",
      "37        898.0  1022.323303  124.323303\n",
      "38       1656.0  1655.119019    0.880981\n",
      "        R^2       MSE\n",
      "0  0.954234  0.042484\n"
     ]
    },
    {
     "data": {
      "text/html": [
       "<div>\n",
       "<style scoped>\n",
       "    .dataframe tbody tr th:only-of-type {\n",
       "        vertical-align: middle;\n",
       "    }\n",
       "\n",
       "    .dataframe tbody tr th {\n",
       "        vertical-align: top;\n",
       "    }\n",
       "\n",
       "    .dataframe thead th {\n",
       "        text-align: right;\n",
       "    }\n",
       "</style>\n",
       "<table border=\"1\" class=\"dataframe\">\n",
       "  <thead>\n",
       "    <tr style=\"text-align: right;\">\n",
       "      <th></th>\n",
       "      <th>R^2</th>\n",
       "      <th>MSE</th>\n",
       "    </tr>\n",
       "  </thead>\n",
       "  <tbody>\n",
       "    <tr>\n",
       "      <th>0</th>\n",
       "      <td>0.954234</td>\n",
       "      <td>0.042484</td>\n",
       "    </tr>\n",
       "  </tbody>\n",
       "</table>\n",
       "</div>"
      ],
      "text/plain": [
       "        R^2       MSE\n",
       "0  0.954234  0.042484"
      ]
     },
     "execution_count": 98,
     "metadata": {},
     "output_type": "execute_result"
    }
   ],
   "source": [
    "ANN_model(chil_filter,'Daily ICU occupancy', 'small_chil_data')"
   ]
  },
  {
   "cell_type": "code",
   "execution_count": 99,
   "id": "7194a27a",
   "metadata": {},
   "outputs": [
    {
     "name": "stdout",
     "output_type": "stream",
     "text": [
      "R-squared: 0.9647216495141918\n",
      "MSE: 0.03274852225213565\n"
     ]
    },
    {
     "name": "stderr",
     "output_type": "stream",
     "text": [
      "C:\\Users\\annac\\anaconda\\lib\\site-packages\\sklearn\\utils\\validation.py:63: DataConversionWarning: A column-vector y was passed when a 1d array was expected. Please change the shape of y to (n_samples, ), for example using ravel().\n",
      "  return f(*args, **kwargs)\n"
     ]
    },
    {
     "data": {
      "text/html": [
       "<div>\n",
       "<style scoped>\n",
       "    .dataframe tbody tr th:only-of-type {\n",
       "        vertical-align: middle;\n",
       "    }\n",
       "\n",
       "    .dataframe tbody tr th {\n",
       "        vertical-align: top;\n",
       "    }\n",
       "\n",
       "    .dataframe thead th {\n",
       "        text-align: right;\n",
       "    }\n",
       "</style>\n",
       "<table border=\"1\" class=\"dataframe\">\n",
       "  <thead>\n",
       "    <tr style=\"text-align: right;\">\n",
       "      <th></th>\n",
       "      <th>R^2</th>\n",
       "      <th>MSE</th>\n",
       "    </tr>\n",
       "  </thead>\n",
       "  <tbody>\n",
       "    <tr>\n",
       "      <th>0</th>\n",
       "      <td>0.964722</td>\n",
       "      <td>0.032749</td>\n",
       "    </tr>\n",
       "  </tbody>\n",
       "</table>\n",
       "</div>"
      ],
      "text/plain": [
       "        R^2       MSE\n",
       "0  0.964722  0.032749"
      ]
     },
     "execution_count": 99,
     "metadata": {},
     "output_type": "execute_result"
    }
   ],
   "source": [
    "SVM_model(chil_filter,'Daily ICU occupancy', 'small_chil_data')"
   ]
  },
  {
   "cell_type": "code",
   "execution_count": 100,
   "id": "58131910",
   "metadata": {},
   "outputs": [
    {
     "name": "stdout",
     "output_type": "stream",
     "text": [
      "K=2, val_mse=0.03%\n",
      "K=3, val_mse=0.03%\n",
      "K=4, val_mse=0.03%\n",
      "K=5, val_mse=0.02%\n",
      "K=6, val_mse=0.03%\n",
      "K=7, val_mse=0.03%\n",
      "K=8, val_mse=0.03%\n",
      "K=9, val_mse=0.04%\n",
      "K=10, val_mse=0.04%\n",
      "index_mse:3\n",
      "R-squared: 0.9739823167496198\n",
      "MSE: 0.024151942115798592\n"
     ]
    },
    {
     "data": {
      "text/html": [
       "<div>\n",
       "<style scoped>\n",
       "    .dataframe tbody tr th:only-of-type {\n",
       "        vertical-align: middle;\n",
       "    }\n",
       "\n",
       "    .dataframe tbody tr th {\n",
       "        vertical-align: top;\n",
       "    }\n",
       "\n",
       "    .dataframe thead th {\n",
       "        text-align: right;\n",
       "    }\n",
       "</style>\n",
       "<table border=\"1\" class=\"dataframe\">\n",
       "  <thead>\n",
       "    <tr style=\"text-align: right;\">\n",
       "      <th></th>\n",
       "      <th>R^2</th>\n",
       "      <th>MSE</th>\n",
       "    </tr>\n",
       "  </thead>\n",
       "  <tbody>\n",
       "    <tr>\n",
       "      <th>0</th>\n",
       "      <td>0.973982</td>\n",
       "      <td>0.024152</td>\n",
       "    </tr>\n",
       "  </tbody>\n",
       "</table>\n",
       "</div>"
      ],
      "text/plain": [
       "        R^2       MSE\n",
       "0  0.973982  0.024152"
      ]
     },
     "execution_count": 100,
     "metadata": {},
     "output_type": "execute_result"
    }
   ],
   "source": [
    "KNN_model(chil_filter,'Daily ICU occupancy', 'small_chil_data')"
   ]
  },
  {
   "cell_type": "code",
   "execution_count": 110,
   "id": "1d4c3ee4",
   "metadata": {},
   "outputs": [
    {
     "name": "stdout",
     "output_type": "stream",
     "text": [
      "0.9603276051543601\n",
      "[-0.00518886]\n",
      "R-squared: 0.9428317951838744\n",
      "MSE: 0.0530686441331399\n"
     ]
    },
    {
     "data": {
      "text/html": [
       "<div>\n",
       "<style scoped>\n",
       "    .dataframe tbody tr th:only-of-type {\n",
       "        vertical-align: middle;\n",
       "    }\n",
       "\n",
       "    .dataframe tbody tr th {\n",
       "        vertical-align: top;\n",
       "    }\n",
       "\n",
       "    .dataframe thead th {\n",
       "        text-align: right;\n",
       "    }\n",
       "</style>\n",
       "<table border=\"1\" class=\"dataframe\">\n",
       "  <thead>\n",
       "    <tr style=\"text-align: right;\">\n",
       "      <th></th>\n",
       "      <th>R^2</th>\n",
       "      <th>MSE</th>\n",
       "    </tr>\n",
       "  </thead>\n",
       "  <tbody>\n",
       "    <tr>\n",
       "      <th>0</th>\n",
       "      <td>0.942832</td>\n",
       "      <td>0.053069</td>\n",
       "    </tr>\n",
       "  </tbody>\n",
       "</table>\n",
       "</div>"
      ],
      "text/plain": [
       "        R^2       MSE\n",
       "0  0.942832  0.053069"
      ]
     },
     "execution_count": 110,
     "metadata": {},
     "output_type": "execute_result"
    }
   ],
   "source": [
    "LR_model(chil_filter,'Daily ICU occupancy', 'small_chil_data')"
   ]
  },
  {
   "cell_type": "code",
   "execution_count": null,
   "id": "f3667431",
   "metadata": {},
   "outputs": [],
   "source": []
  },
  {
   "cell_type": "code",
   "execution_count": 12,
   "id": "8ac5fc37",
   "metadata": {},
   "outputs": [],
   "source": [
    "targets_SA = pd.read_csv('hosp_data_SA.csv')\n",
    "sa_filter = targets_SA[['Daily ICU occupancy']].loc[targets_SA['Daily ICU occupancy']>= 0.0]"
   ]
  },
  {
   "cell_type": "code",
   "execution_count": 102,
   "id": "a67e13a8",
   "metadata": {},
   "outputs": [
    {
     "name": "stdout",
     "output_type": "stream",
     "text": [
      "2/2 [==============================] - 0s 2ms/step\n"
     ]
    },
    {
     "name": "stderr",
     "output_type": "stream",
     "text": [
      "C:\\Users\\annac\\AppData\\Local\\Temp/ipykernel_1956/695762972.py:54: FutureWarning: The frame.append method is deprecated and will be removed from pandas in a future version. Use pandas.concat instead.\n",
      "  SearchResultsData=SearchResultsData.append(pd.DataFrame(data=[[TrialNumber, batch_size_trial, epochs_trial, MSE]],\n"
     ]
    },
    {
     "name": "stdout",
     "output_type": "stream",
     "text": [
      "2/2 [==============================] - 0s 2ms/step\n"
     ]
    },
    {
     "name": "stderr",
     "output_type": "stream",
     "text": [
      "C:\\Users\\annac\\AppData\\Local\\Temp/ipykernel_1956/695762972.py:54: FutureWarning: The frame.append method is deprecated and will be removed from pandas in a future version. Use pandas.concat instead.\n",
      "  SearchResultsData=SearchResultsData.append(pd.DataFrame(data=[[TrialNumber, batch_size_trial, epochs_trial, MSE]],\n"
     ]
    },
    {
     "name": "stdout",
     "output_type": "stream",
     "text": [
      "2/2 [==============================] - 0s 2ms/step\n"
     ]
    },
    {
     "name": "stderr",
     "output_type": "stream",
     "text": [
      "C:\\Users\\annac\\AppData\\Local\\Temp/ipykernel_1956/695762972.py:54: FutureWarning: The frame.append method is deprecated and will be removed from pandas in a future version. Use pandas.concat instead.\n",
      "  SearchResultsData=SearchResultsData.append(pd.DataFrame(data=[[TrialNumber, batch_size_trial, epochs_trial, MSE]],\n"
     ]
    },
    {
     "name": "stdout",
     "output_type": "stream",
     "text": [
      "2/2 [==============================] - 0s 4ms/step\n"
     ]
    },
    {
     "name": "stderr",
     "output_type": "stream",
     "text": [
      "C:\\Users\\annac\\AppData\\Local\\Temp/ipykernel_1956/695762972.py:54: FutureWarning: The frame.append method is deprecated and will be removed from pandas in a future version. Use pandas.concat instead.\n",
      "  SearchResultsData=SearchResultsData.append(pd.DataFrame(data=[[TrialNumber, batch_size_trial, epochs_trial, MSE]],\n"
     ]
    },
    {
     "name": "stdout",
     "output_type": "stream",
     "text": [
      "2/2 [==============================] - 0s 2ms/step\n"
     ]
    },
    {
     "name": "stderr",
     "output_type": "stream",
     "text": [
      "C:\\Users\\annac\\AppData\\Local\\Temp/ipykernel_1956/695762972.py:54: FutureWarning: The frame.append method is deprecated and will be removed from pandas in a future version. Use pandas.concat instead.\n",
      "  SearchResultsData=SearchResultsData.append(pd.DataFrame(data=[[TrialNumber, batch_size_trial, epochs_trial, MSE]],\n"
     ]
    },
    {
     "name": "stdout",
     "output_type": "stream",
     "text": [
      "2/2 [==============================] - 0s 2ms/step\n"
     ]
    },
    {
     "name": "stderr",
     "output_type": "stream",
     "text": [
      "C:\\Users\\annac\\AppData\\Local\\Temp/ipykernel_1956/695762972.py:54: FutureWarning: The frame.append method is deprecated and will be removed from pandas in a future version. Use pandas.concat instead.\n",
      "  SearchResultsData=SearchResultsData.append(pd.DataFrame(data=[[TrialNumber, batch_size_trial, epochs_trial, MSE]],\n"
     ]
    },
    {
     "name": "stdout",
     "output_type": "stream",
     "text": [
      "2/2 [==============================] - 0s 3ms/step\n"
     ]
    },
    {
     "name": "stderr",
     "output_type": "stream",
     "text": [
      "C:\\Users\\annac\\AppData\\Local\\Temp/ipykernel_1956/695762972.py:54: FutureWarning: The frame.append method is deprecated and will be removed from pandas in a future version. Use pandas.concat instead.\n",
      "  SearchResultsData=SearchResultsData.append(pd.DataFrame(data=[[TrialNumber, batch_size_trial, epochs_trial, MSE]],\n"
     ]
    },
    {
     "name": "stdout",
     "output_type": "stream",
     "text": [
      "2/2 [==============================] - 0s 2ms/step\n"
     ]
    },
    {
     "name": "stderr",
     "output_type": "stream",
     "text": [
      "C:\\Users\\annac\\AppData\\Local\\Temp/ipykernel_1956/695762972.py:54: FutureWarning: The frame.append method is deprecated and will be removed from pandas in a future version. Use pandas.concat instead.\n",
      "  SearchResultsData=SearchResultsData.append(pd.DataFrame(data=[[TrialNumber, batch_size_trial, epochs_trial, MSE]],\n"
     ]
    },
    {
     "name": "stdout",
     "output_type": "stream",
     "text": [
      "2/2 [==============================] - 0s 2ms/step\n"
     ]
    },
    {
     "name": "stderr",
     "output_type": "stream",
     "text": [
      "C:\\Users\\annac\\AppData\\Local\\Temp/ipykernel_1956/695762972.py:54: FutureWarning: The frame.append method is deprecated and will be removed from pandas in a future version. Use pandas.concat instead.\n",
      "  SearchResultsData=SearchResultsData.append(pd.DataFrame(data=[[TrialNumber, batch_size_trial, epochs_trial, MSE]],\n"
     ]
    },
    {
     "name": "stdout",
     "output_type": "stream",
     "text": [
      "2/2 [==============================] - 0s 2ms/step\n"
     ]
    },
    {
     "name": "stderr",
     "output_type": "stream",
     "text": [
      "C:\\Users\\annac\\AppData\\Local\\Temp/ipykernel_1956/695762972.py:54: FutureWarning: The frame.append method is deprecated and will be removed from pandas in a future version. Use pandas.concat instead.\n",
      "  SearchResultsData=SearchResultsData.append(pd.DataFrame(data=[[TrialNumber, batch_size_trial, epochs_trial, MSE]],\n"
     ]
    },
    {
     "name": "stdout",
     "output_type": "stream",
     "text": [
      "2/2 [==============================] - 0s 3ms/step\n"
     ]
    },
    {
     "name": "stderr",
     "output_type": "stream",
     "text": [
      "C:\\Users\\annac\\AppData\\Local\\Temp/ipykernel_1956/695762972.py:54: FutureWarning: The frame.append method is deprecated and will be removed from pandas in a future version. Use pandas.concat instead.\n",
      "  SearchResultsData=SearchResultsData.append(pd.DataFrame(data=[[TrialNumber, batch_size_trial, epochs_trial, MSE]],\n"
     ]
    },
    {
     "name": "stdout",
     "output_type": "stream",
     "text": [
      "2/2 [==============================] - 0s 3ms/step\n"
     ]
    },
    {
     "name": "stderr",
     "output_type": "stream",
     "text": [
      "C:\\Users\\annac\\AppData\\Local\\Temp/ipykernel_1956/695762972.py:54: FutureWarning: The frame.append method is deprecated and will be removed from pandas in a future version. Use pandas.concat instead.\n",
      "  SearchResultsData=SearchResultsData.append(pd.DataFrame(data=[[TrialNumber, batch_size_trial, epochs_trial, MSE]],\n"
     ]
    },
    {
     "name": "stdout",
     "output_type": "stream",
     "text": [
      "2/2 [==============================] - 0s 3ms/step\n"
     ]
    },
    {
     "name": "stderr",
     "output_type": "stream",
     "text": [
      "C:\\Users\\annac\\AppData\\Local\\Temp/ipykernel_1956/695762972.py:54: FutureWarning: The frame.append method is deprecated and will be removed from pandas in a future version. Use pandas.concat instead.\n",
      "  SearchResultsData=SearchResultsData.append(pd.DataFrame(data=[[TrialNumber, batch_size_trial, epochs_trial, MSE]],\n"
     ]
    },
    {
     "name": "stdout",
     "output_type": "stream",
     "text": [
      "2/2 [==============================] - 0s 3ms/step\n"
     ]
    },
    {
     "name": "stderr",
     "output_type": "stream",
     "text": [
      "C:\\Users\\annac\\AppData\\Local\\Temp/ipykernel_1956/695762972.py:54: FutureWarning: The frame.append method is deprecated and will be removed from pandas in a future version. Use pandas.concat instead.\n",
      "  SearchResultsData=SearchResultsData.append(pd.DataFrame(data=[[TrialNumber, batch_size_trial, epochs_trial, MSE]],\n"
     ]
    },
    {
     "name": "stdout",
     "output_type": "stream",
     "text": [
      "2/2 [==============================] - 0s 3ms/step\n"
     ]
    },
    {
     "name": "stderr",
     "output_type": "stream",
     "text": [
      "C:\\Users\\annac\\AppData\\Local\\Temp/ipykernel_1956/695762972.py:54: FutureWarning: The frame.append method is deprecated and will be removed from pandas in a future version. Use pandas.concat instead.\n",
      "  SearchResultsData=SearchResultsData.append(pd.DataFrame(data=[[TrialNumber, batch_size_trial, epochs_trial, MSE]],\n"
     ]
    },
    {
     "name": "stdout",
     "output_type": "stream",
     "text": [
      "2/2 [==============================] - 0s 3ms/step\n",
      "  TrialNumber Parameters       MSE  Batch  Epochs\n",
      "0           1        NaN  0.159542    5.0     5.0\n",
      "0           2        NaN  0.094490    5.0    10.0\n",
      "0           3        NaN  0.078940    5.0    50.0\n",
      "0           4        NaN  0.062220    5.0   100.0\n",
      "0           5        NaN  0.188426   10.0     5.0\n",
      "0           6        NaN  0.101773   10.0    10.0\n",
      "0           7        NaN  0.069463   10.0    50.0\n",
      "0           8        NaN  0.111594   10.0   100.0\n",
      "0           9        NaN  0.347046   15.0     5.0\n",
      "0          10        NaN  0.145391   15.0    10.0\n",
      "0          11        NaN  0.070688   15.0    50.0\n",
      "0          12        NaN  0.086129   15.0   100.0\n",
      "0          13        NaN  0.540103   20.0     5.0\n",
      "0          14        NaN  0.207941   20.0    10.0\n",
      "0          15        NaN  0.072300   20.0    50.0\n",
      "0          16        NaN  0.079132   20.0   100.0\n",
      "index_m:3\n",
      "Epoch 1/100\n"
     ]
    },
    {
     "name": "stderr",
     "output_type": "stream",
     "text": [
      "C:\\Users\\annac\\AppData\\Local\\Temp/ipykernel_1956/695762972.py:54: FutureWarning: The frame.append method is deprecated and will be removed from pandas in a future version. Use pandas.concat instead.\n",
      "  SearchResultsData=SearchResultsData.append(pd.DataFrame(data=[[TrialNumber, batch_size_trial, epochs_trial, MSE]],\n"
     ]
    },
    {
     "name": "stdout",
     "output_type": "stream",
     "text": [
      "33/33 [==============================] - 0s 1ms/step - loss: 1.0600\n",
      "Epoch 2/100\n",
      "33/33 [==============================] - 0s 1ms/step - loss: 0.8875\n",
      "Epoch 3/100\n",
      "33/33 [==============================] - 0s 1ms/step - loss: 0.4933\n",
      "Epoch 4/100\n",
      "33/33 [==============================] - 0s 2ms/step - loss: 0.4122\n",
      "Epoch 5/100\n",
      "33/33 [==============================] - 0s 2ms/step - loss: 0.3427\n",
      "Epoch 6/100\n",
      "33/33 [==============================] - 0s 2ms/step - loss: 0.3631\n",
      "Epoch 7/100\n",
      "33/33 [==============================] - 0s 2ms/step - loss: 0.3678\n",
      "Epoch 8/100\n",
      "33/33 [==============================] - 0s 2ms/step - loss: 0.3880\n",
      "Epoch 9/100\n",
      "33/33 [==============================] - 0s 2ms/step - loss: 0.3265\n",
      "Epoch 10/100\n",
      "33/33 [==============================] - 0s 2ms/step - loss: 0.2584\n",
      "Epoch 11/100\n",
      "33/33 [==============================] - 0s 2ms/step - loss: 0.2982\n",
      "Epoch 12/100\n",
      "33/33 [==============================] - 0s 2ms/step - loss: 0.2575\n",
      "Epoch 13/100\n",
      "33/33 [==============================] - 0s 2ms/step - loss: 0.2264\n",
      "Epoch 14/100\n",
      "33/33 [==============================] - 0s 2ms/step - loss: 0.2810\n",
      "Epoch 15/100\n",
      "33/33 [==============================] - 0s 2ms/step - loss: 0.2937\n",
      "Epoch 16/100\n",
      "33/33 [==============================] - 0s 2ms/step - loss: 0.3423\n",
      "Epoch 17/100\n",
      "33/33 [==============================] - 0s 2ms/step - loss: 0.3202\n",
      "Epoch 18/100\n",
      "33/33 [==============================] - 0s 2ms/step - loss: 0.3169\n",
      "Epoch 19/100\n",
      "33/33 [==============================] - 0s 2ms/step - loss: 0.2600\n",
      "Epoch 20/100\n",
      "33/33 [==============================] - 0s 2ms/step - loss: 0.2630\n",
      "Epoch 21/100\n",
      "33/33 [==============================] - 0s 2ms/step - loss: 0.2578\n",
      "Epoch 22/100\n",
      "33/33 [==============================] - 0s 2ms/step - loss: 0.2321\n",
      "Epoch 23/100\n",
      "33/33 [==============================] - 0s 2ms/step - loss: 0.2493\n",
      "Epoch 24/100\n",
      "33/33 [==============================] - 0s 2ms/step - loss: 0.2807\n",
      "Epoch 25/100\n",
      "33/33 [==============================] - 0s 2ms/step - loss: 0.2475\n",
      "Epoch 26/100\n",
      "33/33 [==============================] - 0s 2ms/step - loss: 0.2335\n",
      "Epoch 27/100\n",
      "33/33 [==============================] - 0s 2ms/step - loss: 0.2395\n",
      "Epoch 28/100\n",
      "33/33 [==============================] - 0s 2ms/step - loss: 0.2137\n",
      "Epoch 29/100\n",
      "33/33 [==============================] - 0s 2ms/step - loss: 0.2204\n",
      "Epoch 30/100\n",
      "33/33 [==============================] - 0s 2ms/step - loss: 0.1710\n",
      "Epoch 31/100\n",
      "33/33 [==============================] - 0s 2ms/step - loss: 0.2068\n",
      "Epoch 32/100\n",
      "33/33 [==============================] - 0s 2ms/step - loss: 0.2432\n",
      "Epoch 33/100\n",
      "33/33 [==============================] - 0s 2ms/step - loss: 0.2259\n",
      "Epoch 34/100\n",
      "33/33 [==============================] - 0s 2ms/step - loss: 0.2401\n",
      "Epoch 35/100\n",
      "33/33 [==============================] - 0s 2ms/step - loss: 0.2198\n",
      "Epoch 36/100\n",
      "33/33 [==============================] - 0s 2ms/step - loss: 0.1718\n",
      "Epoch 37/100\n",
      "33/33 [==============================] - 0s 2ms/step - loss: 0.1910\n",
      "Epoch 38/100\n",
      "33/33 [==============================] - 0s 2ms/step - loss: 0.2111\n",
      "Epoch 39/100\n",
      "33/33 [==============================] - 0s 2ms/step - loss: 0.1757\n",
      "Epoch 40/100\n",
      "33/33 [==============================] - 0s 2ms/step - loss: 0.1985\n",
      "Epoch 41/100\n",
      "33/33 [==============================] - 0s 2ms/step - loss: 0.2288\n",
      "Epoch 42/100\n",
      "33/33 [==============================] - 0s 2ms/step - loss: 0.1993\n",
      "Epoch 43/100\n",
      "33/33 [==============================] - 0s 2ms/step - loss: 0.1765\n",
      "Epoch 44/100\n",
      "33/33 [==============================] - 0s 2ms/step - loss: 0.1710\n",
      "Epoch 45/100\n",
      "33/33 [==============================] - 0s 2ms/step - loss: 0.2267\n",
      "Epoch 46/100\n",
      "33/33 [==============================] - 0s 2ms/step - loss: 0.1887\n",
      "Epoch 47/100\n",
      "33/33 [==============================] - 0s 2ms/step - loss: 0.1950\n",
      "Epoch 48/100\n",
      "33/33 [==============================] - 0s 2ms/step - loss: 0.2139\n",
      "Epoch 49/100\n",
      "33/33 [==============================] - 0s 2ms/step - loss: 0.1552\n",
      "Epoch 50/100\n",
      "33/33 [==============================] - 0s 2ms/step - loss: 0.1875\n",
      "Epoch 51/100\n",
      "33/33 [==============================] - 0s 2ms/step - loss: 0.1680\n",
      "Epoch 52/100\n",
      "33/33 [==============================] - 0s 2ms/step - loss: 0.1832\n",
      "Epoch 53/100\n",
      "33/33 [==============================] - 0s 2ms/step - loss: 0.1715\n",
      "Epoch 54/100\n",
      "33/33 [==============================] - 0s 2ms/step - loss: 0.1438\n",
      "Epoch 55/100\n",
      "33/33 [==============================] - 0s 2ms/step - loss: 0.1805\n",
      "Epoch 56/100\n",
      "33/33 [==============================] - 0s 2ms/step - loss: 0.2289\n",
      "Epoch 57/100\n",
      "33/33 [==============================] - 0s 2ms/step - loss: 0.1603\n",
      "Epoch 58/100\n",
      "33/33 [==============================] - 0s 2ms/step - loss: 0.1561\n",
      "Epoch 59/100\n",
      "33/33 [==============================] - 0s 2ms/step - loss: 0.1641\n",
      "Epoch 60/100\n",
      "33/33 [==============================] - 0s 2ms/step - loss: 0.1418\n",
      "Epoch 61/100\n",
      "33/33 [==============================] - 0s 2ms/step - loss: 0.1222\n",
      "Epoch 62/100\n",
      "33/33 [==============================] - 0s 2ms/step - loss: 0.1293\n",
      "Epoch 63/100\n",
      "33/33 [==============================] - 0s 2ms/step - loss: 0.1495\n",
      "Epoch 64/100\n",
      "33/33 [==============================] - 0s 2ms/step - loss: 0.1387\n",
      "Epoch 65/100\n",
      "33/33 [==============================] - 0s 2ms/step - loss: 0.1410\n",
      "Epoch 66/100\n",
      "33/33 [==============================] - 0s 2ms/step - loss: 0.1456\n",
      "Epoch 67/100\n",
      "33/33 [==============================] - 0s 2ms/step - loss: 0.1221\n",
      "Epoch 68/100\n",
      "33/33 [==============================] - 0s 2ms/step - loss: 0.1473\n",
      "Epoch 69/100\n",
      "33/33 [==============================] - 0s 2ms/step - loss: 0.1594\n",
      "Epoch 70/100\n",
      "33/33 [==============================] - 0s 2ms/step - loss: 0.1548\n",
      "Epoch 71/100\n",
      "33/33 [==============================] - 0s 2ms/step - loss: 0.1422\n",
      "Epoch 72/100\n",
      "33/33 [==============================] - 0s 2ms/step - loss: 0.1451\n",
      "Epoch 73/100\n",
      "33/33 [==============================] - 0s 2ms/step - loss: 0.1596\n",
      "Epoch 74/100\n",
      "33/33 [==============================] - 0s 2ms/step - loss: 0.1332\n",
      "Epoch 75/100\n",
      "33/33 [==============================] - 0s 2ms/step - loss: 0.1551\n",
      "Epoch 76/100\n",
      "33/33 [==============================] - 0s 2ms/step - loss: 0.1427\n",
      "Epoch 77/100\n",
      "33/33 [==============================] - 0s 2ms/step - loss: 0.1141\n",
      "Epoch 78/100\n",
      "33/33 [==============================] - 0s 2ms/step - loss: 0.1271\n",
      "Epoch 79/100\n",
      "33/33 [==============================] - 0s 2ms/step - loss: 0.1231\n",
      "Epoch 80/100\n",
      "33/33 [==============================] - 0s 2ms/step - loss: 0.1210\n",
      "Epoch 81/100\n",
      "33/33 [==============================] - 0s 2ms/step - loss: 0.1326\n",
      "Epoch 82/100\n",
      "33/33 [==============================] - 0s 2ms/step - loss: 0.1099\n",
      "Epoch 83/100\n",
      "33/33 [==============================] - 0s 2ms/step - loss: 0.1456\n",
      "Epoch 84/100\n",
      "33/33 [==============================] - 0s 2ms/step - loss: 0.1248\n",
      "Epoch 85/100\n",
      "33/33 [==============================] - 0s 2ms/step - loss: 0.1249\n",
      "Epoch 86/100\n",
      "33/33 [==============================] - 0s 2ms/step - loss: 0.1159\n",
      "Epoch 87/100\n",
      "33/33 [==============================] - 0s 2ms/step - loss: 0.0844\n",
      "Epoch 88/100\n",
      "33/33 [==============================] - 0s 2ms/step - loss: 0.1354\n",
      "Epoch 89/100\n",
      "33/33 [==============================] - 0s 2ms/step - loss: 0.0914\n",
      "Epoch 90/100\n",
      "33/33 [==============================] - 0s 2ms/step - loss: 0.0971\n",
      "Epoch 91/100\n",
      "33/33 [==============================] - 0s 2ms/step - loss: 0.1545\n",
      "Epoch 92/100\n",
      "33/33 [==============================] - 0s 2ms/step - loss: 0.1309\n",
      "Epoch 93/100\n",
      "33/33 [==============================] - 0s 2ms/step - loss: 0.1013\n",
      "Epoch 94/100\n",
      "33/33 [==============================] - 0s 2ms/step - loss: 0.0963\n",
      "Epoch 95/100\n",
      "33/33 [==============================] - 0s 2ms/step - loss: 0.1202\n",
      "Epoch 96/100\n",
      "33/33 [==============================] - 0s 2ms/step - loss: 0.0992\n",
      "Epoch 97/100\n",
      "33/33 [==============================] - 0s 2ms/step - loss: 0.1110\n",
      "Epoch 98/100\n",
      "33/33 [==============================] - 0s 2ms/step - loss: 0.1152\n",
      "Epoch 99/100\n",
      "33/33 [==============================] - 0s 2ms/step - loss: 0.1451\n",
      "Epoch 100/100\n",
      "33/33 [==============================] - 0s 2ms/step - loss: 0.1628\n",
      "2/2 [==============================] - 0s 2ms/step\n",
      "R-squared: 0.7617232\n",
      "MSE: 0.16877013\n",
      "    ActualValue    Predicted        Diff\n",
      "0          10.0   125.769287  115.769287\n",
      "1           7.0   140.880249  133.880249\n",
      "2         721.0   629.988525   91.011475\n",
      "3        2681.0  2417.038086  263.961914\n",
      "4         201.0   279.114563   78.114563\n",
      "5         671.0   556.484131  114.515869\n",
      "6        1209.0  1324.132324  115.132324\n",
      "7        1085.0   995.923096   89.076904\n",
      "8        1447.0  1202.728516  244.271484\n",
      "9         712.0   887.904480  175.904480\n",
      "10        698.0   887.904480  189.904480\n",
      "11       1069.0   887.904480  181.095520\n",
      "12        191.0   216.041229   25.041229\n",
      "13        954.0   994.081177   40.081177\n",
      "14        207.0   284.588440   77.588440\n",
      "15       1343.0  1313.951050   29.048950\n",
      "16         10.0   158.040649  148.040649\n",
      "17        303.0   354.606537   51.606537\n",
      "18        381.0   473.750122   92.750122\n",
      "19       1457.0  1961.600098  504.600098\n",
      "20        156.0   184.058289   28.058289\n",
      "21        708.0   919.674622  211.674622\n",
      "22        721.0  1502.149780  781.149780\n",
      "23         36.0   119.080078   83.080078\n",
      "24         27.0   109.277710   82.277710\n",
      "25         10.0   140.824951  130.824951\n",
      "26        979.0  1019.709412   40.709412\n",
      "27        600.0  1227.563232  627.563232\n",
      "28        654.0  1154.310791  500.310791\n",
      "29        600.0  1326.560547  726.560547\n",
      "30        170.0   280.581970  110.581970\n",
      "31       1157.0  1462.371704  305.371704\n",
      "32       1280.0  1282.463501    2.463501\n",
      "33        530.0  1130.452881  600.452881\n",
      "34        231.0   337.624359  106.624359\n",
      "35        202.0   313.023499  111.023499\n",
      "36       1460.0  1953.338989  493.338989\n",
      "37        121.0   197.073120   76.073120\n",
      "38         65.0   138.202026   73.202026\n",
      "39        296.0   380.335846   84.335846\n"
     ]
    },
    {
     "name": "stdout",
     "output_type": "stream",
     "text": [
      "40       1444.0  1333.040283  110.959717\n",
      "        R^2      MSE\n",
      "0  0.761723  0.16877\n"
     ]
    },
    {
     "data": {
      "text/html": [
       "<div>\n",
       "<style scoped>\n",
       "    .dataframe tbody tr th:only-of-type {\n",
       "        vertical-align: middle;\n",
       "    }\n",
       "\n",
       "    .dataframe tbody tr th {\n",
       "        vertical-align: top;\n",
       "    }\n",
       "\n",
       "    .dataframe thead th {\n",
       "        text-align: right;\n",
       "    }\n",
       "</style>\n",
       "<table border=\"1\" class=\"dataframe\">\n",
       "  <thead>\n",
       "    <tr style=\"text-align: right;\">\n",
       "      <th></th>\n",
       "      <th>R^2</th>\n",
       "      <th>MSE</th>\n",
       "    </tr>\n",
       "  </thead>\n",
       "  <tbody>\n",
       "    <tr>\n",
       "      <th>0</th>\n",
       "      <td>0.761723</td>\n",
       "      <td>0.16877</td>\n",
       "    </tr>\n",
       "  </tbody>\n",
       "</table>\n",
       "</div>"
      ],
      "text/plain": [
       "        R^2      MSE\n",
       "0  0.761723  0.16877"
      ]
     },
     "execution_count": 102,
     "metadata": {},
     "output_type": "execute_result"
    }
   ],
   "source": [
    "ANN_model(sa_filter,'Daily ICU occupancy', 'small_sa_data')"
   ]
  },
  {
   "cell_type": "code",
   "execution_count": 15,
   "id": "fea6006c",
   "metadata": {},
   "outputs": [
    {
     "name": "stdout",
     "output_type": "stream",
     "text": [
      "R-squared: 0.8868019910000305\n",
      "MSE: 0.08017752678291279\n"
     ]
    },
    {
     "name": "stderr",
     "output_type": "stream",
     "text": [
      "C:\\Users\\annac\\anaconda\\lib\\site-packages\\sklearn\\utils\\validation.py:63: DataConversionWarning: A column-vector y was passed when a 1d array was expected. Please change the shape of y to (n_samples, ), for example using ravel().\n",
      "  return f(*args, **kwargs)\n"
     ]
    },
    {
     "data": {
      "text/plain": [
       "(        R^2       MSE\n",
       " 0  0.886802  0.080178,\n",
       "     ActualValue    Predicted         Diff\n",
       " 0          10.0    37.394039    27.394039\n",
       " 1           7.0   -19.029533    26.029533\n",
       " 2         721.0   818.386874    97.386874\n",
       " 3        2681.0  1635.428214  1045.571786\n",
       " 4         201.0   178.944469    22.055531\n",
       " 5         671.0   525.153917   145.846083\n",
       " 6        1209.0  1190.465455    18.534545\n",
       " 7        1085.0  1172.222614    87.222614\n",
       " 8        1447.0  1184.201437   262.798563\n",
       " 9         712.0   730.774076    18.774076\n",
       " 10        698.0   840.743629   142.743629\n",
       " 11       1069.0   978.155041    90.844959\n",
       " 12        191.0   134.315152    56.684848\n",
       " 13        954.0   907.118371    46.881629\n",
       " 14        207.0   215.853599     8.853599\n",
       " 15       1343.0  1332.653664    10.346336\n",
       " 16         10.0    36.940194    26.940194\n",
       " 17        303.0   282.734623    20.265377\n",
       " 18        381.0   465.619536    84.619536\n",
       " 19       1457.0  1667.262450   210.262450\n",
       " 20        156.0   107.901380    48.098620\n",
       " 21        708.0   780.489696    72.489696\n",
       " 22        721.0   707.493882    13.506118\n",
       " 23         36.0   130.436907    94.436907\n",
       " 24         27.0   146.882220   119.882220\n",
       " 25         10.0    37.105616    27.105616\n",
       " 26        979.0   865.458000   113.542000\n",
       " 27        600.0   621.912117    21.912117\n",
       " 28        654.0   687.971302    33.971302\n",
       " 29        600.0   685.241362    85.241362\n",
       " 30        170.0   178.901783     8.901783\n",
       " 31       1157.0  1149.704637     7.295363\n",
       " 32       1280.0  1233.549795    46.450205\n",
       " 33        530.0   801.324020   271.324020\n",
       " 34        231.0   463.286054   232.286054\n",
       " 35        202.0   290.628986    88.628986\n",
       " 36       1460.0  1444.832190    15.167810\n",
       " 37        121.0   161.130197    40.130197\n",
       " 38         65.0    70.237274     5.237274\n",
       " 39        296.0   437.680192   141.680192\n",
       " 40       1444.0  1267.187969   176.812031)"
      ]
     },
     "execution_count": 15,
     "metadata": {},
     "output_type": "execute_result"
    }
   ],
   "source": [
    "SVM_model(sa_filter,'Daily ICU occupancy', 'small_sa_data')"
   ]
  },
  {
   "cell_type": "code",
   "execution_count": 14,
   "id": "03878fe8",
   "metadata": {},
   "outputs": [
    {
     "name": "stdout",
     "output_type": "stream",
     "text": [
      "K=2, val_mse=0.06%\n",
      "K=3, val_mse=0.06%\n",
      "K=4, val_mse=0.06%\n",
      "K=5, val_mse=0.07%\n",
      "K=6, val_mse=0.07%\n",
      "K=7, val_mse=0.06%\n",
      "K=8, val_mse=0.07%\n",
      "K=9, val_mse=0.07%\n",
      "K=10, val_mse=0.08%\n",
      "index_mse:5\n",
      "R-squared: 0.9171458812437823\n",
      "MSE: 0.058685116322612\n"
     ]
    },
    {
     "data": {
      "text/plain": [
       "(        R^2       MSE\n",
       " 0  0.917146  0.058685,\n",
       "     ActualValue    Predicted        Diff\n",
       " 0          10.0     7.428571    2.571429\n",
       " 1           7.0     7.857143    0.857143\n",
       " 2         721.0   578.571429  142.428571\n",
       " 3        2681.0  1845.714286  835.285714\n",
       " 4         201.0   196.000000    5.000000\n",
       " 5         671.0   480.428571  190.571429\n",
       " 6        1209.0  1261.714286   52.714286\n",
       " 7        1085.0  1219.000000  134.000000\n",
       " 8        1447.0  1287.571429  159.428571\n",
       " 9         712.0   781.142857   69.142857\n",
       " 10        698.0   823.285714  125.285714\n",
       " 11       1069.0   963.285714  105.714286\n",
       " 12        191.0   112.142857   78.857143\n",
       " 13        954.0   938.428571   15.571429\n",
       " 14        207.0   215.000000    8.000000\n",
       " 15       1343.0  1290.571429   52.428571\n",
       " 16         10.0     9.142857    0.857143\n",
       " 17        303.0   306.285714    3.285714\n",
       " 18        381.0   309.428571   71.571429\n",
       " 19       1457.0  1660.714286  203.714286\n",
       " 20        156.0   141.571429   14.428571\n",
       " 21        708.0   764.428571   56.428571\n",
       " 22        721.0   597.714286  123.285714\n",
       " 23         36.0    30.285714    5.714286\n",
       " 24         27.0    27.857143    0.857143\n",
       " 25         10.0    11.571429    1.571429\n",
       " 26        979.0   991.000000   12.000000\n",
       " 27        600.0   632.000000   32.000000\n",
       " 28        654.0   567.428571   86.571429\n",
       " 29        600.0   624.142857   24.142857\n",
       " 30        170.0   142.428571   27.571429\n",
       " 31       1157.0  1478.142857  321.142857\n",
       " 32       1280.0  1197.571429   82.428571\n",
       " 33        530.0   683.428571  153.428571\n",
       " 34        231.0   223.428571    7.571429\n",
       " 35        202.0   237.857143   35.857143\n",
       " 36       1460.0  1503.428571   43.428571\n",
       " 37        121.0    99.428571   21.571429\n",
       " 38         65.0    35.714286   29.285714\n",
       " 39        296.0   418.000000  122.000000\n",
       " 40       1444.0  1212.571429  231.428571)"
      ]
     },
     "execution_count": 14,
     "metadata": {},
     "output_type": "execute_result"
    }
   ],
   "source": [
    "KNN_model(sa_filter,'Daily ICU occupancy', 'small_sa_data')"
   ]
  },
  {
   "cell_type": "code",
   "execution_count": 13,
   "id": "fd5289d7",
   "metadata": {},
   "outputs": [
    {
     "name": "stdout",
     "output_type": "stream",
     "text": [
      "0.8556554994042079\n",
      "[0.0078847]\n",
      "R-squared: 0.6903729059678159\n",
      "MSE: 0.21930716665244177\n"
     ]
    },
    {
     "data": {
      "text/plain": [
       "(        R^2       MSE\n",
       " 0  0.690373  0.219307,\n",
       "     ActualValue    Predicted        Diff\n",
       " 0          10.0   125.253907  115.253907\n",
       " 1           7.0    36.337014   29.337014\n",
       " 2         721.0   867.661653  146.661653\n",
       " 3        2681.0  2105.047901  575.952099\n",
       " 4         201.0   148.953733   52.046267\n",
       " 5         671.0   520.655955  150.344045\n",
       " 6        1209.0  1018.017906  190.982094\n",
       " 7        1085.0   610.523308  474.476692\n",
       " 8        1447.0  1477.784113   30.784113\n",
       " 9         712.0   827.270771  115.270771\n",
       " 10        698.0   652.668275   45.331725\n",
       " 11       1069.0  1781.196359  712.196359\n",
       " 12        191.0   188.005836    2.994164\n",
       " 13        954.0   824.604484  129.395516\n",
       " 14        207.0   -90.432297  297.432297\n",
       " 15       1343.0  1106.227649  236.772351\n",
       " 16         10.0   421.747498  411.747498\n",
       " 17        303.0   384.553958   81.553958\n",
       " 18        381.0   205.309124  175.690876\n",
       " 19       1457.0  1826.650318  369.650318\n",
       " 20        156.0  -111.299516  267.299516\n",
       " 21        708.0   925.981935  217.981935\n",
       " 22        721.0   840.923210  119.923210\n",
       " 23         36.0  -183.939106  219.939106\n",
       " 24         27.0  -483.884496  510.884496\n",
       " 25         10.0  -136.801017  146.801017\n",
       " 26        979.0   804.384504  174.615496\n",
       " 27        600.0  1091.571120  491.571120\n",
       " 28        654.0   806.093521  152.093521\n",
       " 29        600.0  1274.076094  674.076094\n",
       " 30        170.0   678.262674  508.262674\n",
       " 31       1157.0  1812.484666  655.484666\n",
       " 32       1280.0   961.518681  318.481319\n",
       " 33        530.0   921.939405  391.939405\n",
       " 34        231.0   503.085825  272.085825\n",
       " 35        202.0   -43.536093  245.536093\n",
       " 36       1460.0  1627.778955  167.778955\n",
       " 37        121.0    26.606976   94.393024\n",
       " 38         65.0  -119.270144  184.270144\n",
       " 39        296.0   537.013318  241.013318\n",
       " 40       1444.0  1137.307692  306.692308)"
      ]
     },
     "execution_count": 13,
     "metadata": {},
     "output_type": "execute_result"
    }
   ],
   "source": [
    "LR_model(sa_filter,'Daily ICU occupancy', 'small_sa_data')"
   ]
  },
  {
   "cell_type": "code",
   "execution_count": null,
   "id": "e24f8c41",
   "metadata": {},
   "outputs": [],
   "source": []
  },
  {
   "cell_type": "code",
   "execution_count": null,
   "id": "1d5dea8b",
   "metadata": {},
   "outputs": [],
   "source": []
  },
  {
   "cell_type": "code",
   "execution_count": null,
   "id": "1ed585e2",
   "metadata": {},
   "outputs": [],
   "source": []
  },
  {
   "cell_type": "code",
   "execution_count": 22,
   "id": "ab689341",
   "metadata": {},
   "outputs": [],
   "source": [
    "def plot_pred_vs_true(predicted_value, true_value):\n",
    "    plt.figure(figsize=(10,10))\n",
    "    plt.scatter(true_value, predicted_value, c='crimson')\n",
    "    plt.yscale('log')\n",
    "    plt.xscale('log')\n",
    "\n",
    "    p1 = max(max(predicted_value), max(true_value))\n",
    "    p2 = min(min(predicted_value), min(true_value))\n",
    "    plt.plot([p1, p2], [p1, p2], 'b-')\n",
    "    plt.xlabel('True Value', fontsize=15)\n",
    "    plt.ylabel('Predictions', fontsize=15)\n",
    "    plt.axis('equal')\n",
    "    plt.show()"
   ]
  },
  {
   "cell_type": "code",
   "execution_count": 23,
   "id": "fab7742e",
   "metadata": {},
   "outputs": [],
   "source": [
    "from matplotlib import pyplot as plt"
   ]
  },
  {
   "cell_type": "code",
   "execution_count": 126,
   "id": "2e998361",
   "metadata": {},
   "outputs": [
    {
     "data": {
      "image/png": "[encoded data removed]",
      "text/plain": [
       "<Figure size 720x720 with 1 Axes>"
      ]
     },
     "metadata": {
      "needs_background": "light"
     },
     "output_type": "display_data"
    }
   ],
   "source": [
    "plot_pred_vs_true(list(pred_SVM['Predicted']), list(pred_SVM['ActualValue']))"
   ]
  },
  {
   "cell_type": "code",
   "execution_count": 127,
   "id": "7a008389",
   "metadata": {},
   "outputs": [
    {
     "data": {
      "image/png": "[encoded data removed]",
      "text/plain": [
       "<Figure size 720x720 with 1 Axes>"
      ]
     },
     "metadata": {
      "needs_background": "light"
     },
     "output_type": "display_data"
    }
   ],
   "source": [
    "plot_pred_vs_true(list(pred_ANN['Predicted']), list(pred_ANN['ActualValue']))"
   ]
  },
  {
   "cell_type": "code",
   "execution_count": 129,
   "id": "7bad4a27",
   "metadata": {},
   "outputs": [
    {
     "data": {
      "image/png": "[encoded data removed]",
      "text/plain": [
       "<Figure size 720x720 with 1 Axes>"
      ]
     },
     "metadata": {
      "needs_background": "light"
     },
     "output_type": "display_data"
    }
   ],
   "source": [
    "plot_pred_vs_true(list(pred_KNN['Predicted']), list(pred_KNN['ActualValue']))"
   ]
  },
  {
   "cell_type": "code",
   "execution_count": 133,
   "id": "1314c465",
   "metadata": {},
   "outputs": [
    {
     "data": {
      "image/png": "[encoded data removed]",
      "text/plain": [
       "<Figure size 720x720 with 1 Axes>"
      ]
     },
     "metadata": {
      "needs_background": "light"
     },
     "output_type": "display_data"
    }
   ],
   "source": [
    "plot_pred_vs_true(list(pred_LR['Predicted']), list(pred_LR['ActualValue']))\n",
    "\n",
    "targets_ICU_day =pd.read_csv('C:/Users/annac/avr_hosp_data.csv')\n",
    "icu_filter = targets_ICU_day[['Daily ICU occupancy']].loc[targets_ICU_day['Daily ICU occupancy']>= 0.0]"
   ]
  },
  {
   "cell_type": "code",
   "execution_count": 20,
   "id": "198b7b4f",
   "metadata": {},
   "outputs": [
    {
     "name": "stdout",
     "output_type": "stream",
     "text": [
      "2/2 [==============================] - 0s 3ms/step\n"
     ]
    },
    {
     "name": "stderr",
     "output_type": "stream",
     "text": [
      "C:\\Users\\annac\\AppData\\Local\\Temp/ipykernel_3592/695762972.py:54: FutureWarning: The frame.append method is deprecated and will be removed from pandas in a future version. Use pandas.concat instead.\n",
      "  SearchResultsData=SearchResultsData.append(pd.DataFrame(data=[[TrialNumber, batch_size_trial, epochs_trial, MSE]],\n"
     ]
    },
    {
     "name": "stdout",
     "output_type": "stream",
     "text": [
      "2/2 [==============================] - 0s 2ms/step\n"
     ]
    },
    {
     "name": "stderr",
     "output_type": "stream",
     "text": [
      "C:\\Users\\annac\\AppData\\Local\\Temp/ipykernel_3592/695762972.py:54: FutureWarning: The frame.append method is deprecated and will be removed from pandas in a future version. Use pandas.concat instead.\n",
      "  SearchResultsData=SearchResultsData.append(pd.DataFrame(data=[[TrialNumber, batch_size_trial, epochs_trial, MSE]],\n"
     ]
    },
    {
     "name": "stdout",
     "output_type": "stream",
     "text": [
      "2/2 [==============================] - 0s 3ms/step\n"
     ]
    },
    {
     "name": "stderr",
     "output_type": "stream",
     "text": [
      "C:\\Users\\annac\\AppData\\Local\\Temp/ipykernel_3592/695762972.py:54: FutureWarning: The frame.append method is deprecated and will be removed from pandas in a future version. Use pandas.concat instead.\n",
      "  SearchResultsData=SearchResultsData.append(pd.DataFrame(data=[[TrialNumber, batch_size_trial, epochs_trial, MSE]],\n"
     ]
    },
    {
     "name": "stdout",
     "output_type": "stream",
     "text": [
      "2/2 [==============================] - 0s 3ms/step\n"
     ]
    },
    {
     "name": "stderr",
     "output_type": "stream",
     "text": [
      "C:\\Users\\annac\\AppData\\Local\\Temp/ipykernel_3592/695762972.py:54: FutureWarning: The frame.append method is deprecated and will be removed from pandas in a future version. Use pandas.concat instead.\n",
      "  SearchResultsData=SearchResultsData.append(pd.DataFrame(data=[[TrialNumber, batch_size_trial, epochs_trial, MSE]],\n"
     ]
    },
    {
     "name": "stdout",
     "output_type": "stream",
     "text": [
      "WARNING:tensorflow:5 out of the last 9 calls to <function Model.make_predict_function.<locals>.predict_function at 0x0000021C83C841F0> triggered tf.function retracing. Tracing is expensive and the excessive number of tracings could be due to (1) creating @tf.function repeatedly in a loop, (2) passing tensors with different shapes, (3) passing Python objects instead of tensors. For (1), please define your @tf.function outside of the loop. For (2), @tf.function has reduce_retracing=True option that can avoid unnecessary retracing. For (3), please refer to https://www.tensorflow.org/guide/function#controlling_retracing and https://www.tensorflow.org/api_docs/python/tf/function for  more details.\n",
      "2/2 [==============================] - 0s 2ms/step\n"
     ]
    },
    {
     "name": "stderr",
     "output_type": "stream",
     "text": [
      "C:\\Users\\annac\\AppData\\Local\\Temp/ipykernel_3592/695762972.py:54: FutureWarning: The frame.append method is deprecated and will be removed from pandas in a future version. Use pandas.concat instead.\n",
      "  SearchResultsData=SearchResultsData.append(pd.DataFrame(data=[[TrialNumber, batch_size_trial, epochs_trial, MSE]],\n"
     ]
    },
    {
     "name": "stdout",
     "output_type": "stream",
     "text": [
      "WARNING:tensorflow:6 out of the last 11 calls to <function Model.make_predict_function.<locals>.predict_function at 0x0000021C84D328B0> triggered tf.function retracing. Tracing is expensive and the excessive number of tracings could be due to (1) creating @tf.function repeatedly in a loop, (2) passing tensors with different shapes, (3) passing Python objects instead of tensors. For (1), please define your @tf.function outside of the loop. For (2), @tf.function has reduce_retracing=True option that can avoid unnecessary retracing. For (3), please refer to https://www.tensorflow.org/guide/function#controlling_retracing and https://www.tensorflow.org/api_docs/python/tf/function for  more details.\n",
      "2/2 [==============================] - 0s 2ms/step\n"
     ]
    },
    {
     "name": "stderr",
     "output_type": "stream",
     "text": [
      "C:\\Users\\annac\\AppData\\Local\\Temp/ipykernel_3592/695762972.py:54: FutureWarning: The frame.append method is deprecated and will be removed from pandas in a future version. Use pandas.concat instead.\n",
      "  SearchResultsData=SearchResultsData.append(pd.DataFrame(data=[[TrialNumber, batch_size_trial, epochs_trial, MSE]],\n"
     ]
    },
    {
     "name": "stdout",
     "output_type": "stream",
     "text": [
      "2/2 [==============================] - 0s 2ms/step\n"
     ]
    },
    {
     "name": "stderr",
     "output_type": "stream",
     "text": [
      "C:\\Users\\annac\\AppData\\Local\\Temp/ipykernel_3592/695762972.py:54: FutureWarning: The frame.append method is deprecated and will be removed from pandas in a future version. Use pandas.concat instead.\n",
      "  SearchResultsData=SearchResultsData.append(pd.DataFrame(data=[[TrialNumber, batch_size_trial, epochs_trial, MSE]],\n"
     ]
    },
    {
     "name": "stdout",
     "output_type": "stream",
     "text": [
      "2/2 [==============================] - 0s 2ms/step\n"
     ]
    },
    {
     "name": "stderr",
     "output_type": "stream",
     "text": [
      "C:\\Users\\annac\\AppData\\Local\\Temp/ipykernel_3592/695762972.py:54: FutureWarning: The frame.append method is deprecated and will be removed from pandas in a future version. Use pandas.concat instead.\n",
      "  SearchResultsData=SearchResultsData.append(pd.DataFrame(data=[[TrialNumber, batch_size_trial, epochs_trial, MSE]],\n"
     ]
    },
    {
     "name": "stdout",
     "output_type": "stream",
     "text": [
      "2/2 [==============================] - 0s 2ms/step\n"
     ]
    },
    {
     "name": "stderr",
     "output_type": "stream",
     "text": [
      "C:\\Users\\annac\\AppData\\Local\\Temp/ipykernel_3592/695762972.py:54: FutureWarning: The frame.append method is deprecated and will be removed from pandas in a future version. Use pandas.concat instead.\n",
      "  SearchResultsData=SearchResultsData.append(pd.DataFrame(data=[[TrialNumber, batch_size_trial, epochs_trial, MSE]],\n"
     ]
    },
    {
     "name": "stdout",
     "output_type": "stream",
     "text": [
      "2/2 [==============================] - 0s 2ms/step\n"
     ]
    },
    {
     "name": "stderr",
     "output_type": "stream",
     "text": [
      "C:\\Users\\annac\\AppData\\Local\\Temp/ipykernel_3592/695762972.py:54: FutureWarning: The frame.append method is deprecated and will be removed from pandas in a future version. Use pandas.concat instead.\n",
      "  SearchResultsData=SearchResultsData.append(pd.DataFrame(data=[[TrialNumber, batch_size_trial, epochs_trial, MSE]],\n"
     ]
    },
    {
     "name": "stdout",
     "output_type": "stream",
     "text": [
      "2/2 [==============================] - 0s 2ms/step\n"
     ]
    },
    {
     "name": "stderr",
     "output_type": "stream",
     "text": [
      "C:\\Users\\annac\\AppData\\Local\\Temp/ipykernel_3592/695762972.py:54: FutureWarning: The frame.append method is deprecated and will be removed from pandas in a future version. Use pandas.concat instead.\n",
      "  SearchResultsData=SearchResultsData.append(pd.DataFrame(data=[[TrialNumber, batch_size_trial, epochs_trial, MSE]],\n"
     ]
    },
    {
     "name": "stdout",
     "output_type": "stream",
     "text": [
      "2/2 [==============================] - 0s 2ms/step\n"
     ]
    },
    {
     "name": "stderr",
     "output_type": "stream",
     "text": [
      "C:\\Users\\annac\\AppData\\Local\\Temp/ipykernel_3592/695762972.py:54: FutureWarning: The frame.append method is deprecated and will be removed from pandas in a future version. Use pandas.concat instead.\n",
      "  SearchResultsData=SearchResultsData.append(pd.DataFrame(data=[[TrialNumber, batch_size_trial, epochs_trial, MSE]],\n"
     ]
    },
    {
     "name": "stdout",
     "output_type": "stream",
     "text": [
      "2/2 [==============================] - 0s 2ms/step\n"
     ]
    },
    {
     "name": "stderr",
     "output_type": "stream",
     "text": [
      "C:\\Users\\annac\\AppData\\Local\\Temp/ipykernel_3592/695762972.py:54: FutureWarning: The frame.append method is deprecated and will be removed from pandas in a future version. Use pandas.concat instead.\n",
      "  SearchResultsData=SearchResultsData.append(pd.DataFrame(data=[[TrialNumber, batch_size_trial, epochs_trial, MSE]],\n"
     ]
    },
    {
     "name": "stdout",
     "output_type": "stream",
     "text": [
      "2/2 [==============================] - 0s 3ms/step\n"
     ]
    },
    {
     "name": "stderr",
     "output_type": "stream",
     "text": [
      "C:\\Users\\annac\\AppData\\Local\\Temp/ipykernel_3592/695762972.py:54: FutureWarning: The frame.append method is deprecated and will be removed from pandas in a future version. Use pandas.concat instead.\n",
      "  SearchResultsData=SearchResultsData.append(pd.DataFrame(data=[[TrialNumber, batch_size_trial, epochs_trial, MSE]],\n"
     ]
    },
    {
     "name": "stdout",
     "output_type": "stream",
     "text": [
      "2/2 [==============================] - 0s 2ms/step\n"
     ]
    },
    {
     "name": "stderr",
     "output_type": "stream",
     "text": [
      "C:\\Users\\annac\\AppData\\Local\\Temp/ipykernel_3592/695762972.py:54: FutureWarning: The frame.append method is deprecated and will be removed from pandas in a future version. Use pandas.concat instead.\n",
      "  SearchResultsData=SearchResultsData.append(pd.DataFrame(data=[[TrialNumber, batch_size_trial, epochs_trial, MSE]],\n"
     ]
    },
    {
     "name": "stdout",
     "output_type": "stream",
     "text": [
      "2/2 [==============================] - 0s 3ms/step\n",
      "  TrialNumber Parameters       MSE  Batch  Epochs\n",
      "0           1        NaN  0.156295    5.0     5.0\n",
      "0           2        NaN  0.111236    5.0    10.0\n",
      "0           3        NaN  0.076921    5.0    50.0\n",
      "0           4        NaN  0.057389    5.0   100.0\n",
      "0           5        NaN  0.233990   10.0     5.0\n",
      "0           6        NaN  0.134526   10.0    10.0\n",
      "0           7        NaN  0.067426   10.0    50.0\n",
      "0           8        NaN  0.063124   10.0   100.0\n",
      "0           9        NaN  0.706901   15.0     5.0\n",
      "0          10        NaN  0.178513   15.0    10.0\n",
      "0          11        NaN  0.087641   15.0    50.0\n",
      "0          12        NaN  0.054543   15.0   100.0\n",
      "0          13        NaN  0.898965   20.0     5.0\n",
      "0          14        NaN  0.156924   20.0    10.0\n",
      "0          15        NaN  0.107767   20.0    50.0\n",
      "0          16        NaN  0.078090   20.0   100.0\n",
      "index_m:11\n",
      "Epoch 1/100\n"
     ]
    },
    {
     "name": "stderr",
     "output_type": "stream",
     "text": [
      "C:\\Users\\annac\\AppData\\Local\\Temp/ipykernel_3592/695762972.py:54: FutureWarning: The frame.append method is deprecated and will be removed from pandas in a future version. Use pandas.concat instead.\n",
      "  SearchResultsData=SearchResultsData.append(pd.DataFrame(data=[[TrialNumber, batch_size_trial, epochs_trial, MSE]],\n"
     ]
    },
    {
     "name": "stdout",
     "output_type": "stream",
     "text": [
      "11/11 [==============================] - 0s 2ms/step - loss: 0.9621\n",
      "Epoch 2/100\n",
      "11/11 [==============================] - 0s 2ms/step - loss: 0.9487\n",
      "Epoch 3/100\n",
      "11/11 [==============================] - 0s 2ms/step - loss: 0.9076\n",
      "Epoch 4/100\n",
      "11/11 [==============================] - 0s 2ms/step - loss: 0.8300\n",
      "Epoch 5/100\n",
      "11/11 [==============================] - 0s 1ms/step - loss: 0.6773\n",
      "Epoch 6/100\n",
      "11/11 [==============================] - 0s 1ms/step - loss: 0.4918\n",
      "Epoch 7/100\n",
      "11/11 [==============================] - 0s 1ms/step - loss: 0.4124\n",
      "Epoch 8/100\n",
      "11/11 [==============================] - 0s 2ms/step - loss: 0.3991\n",
      "Epoch 9/100\n",
      "11/11 [==============================] - 0s 2ms/step - loss: 0.3479\n",
      "Epoch 10/100\n",
      "11/11 [==============================] - 0s 2ms/step - loss: 0.3437\n",
      "Epoch 11/100\n",
      "11/11 [==============================] - 0s 2ms/step - loss: 0.3088\n",
      "Epoch 12/100\n",
      "11/11 [==============================] - 0s 2ms/step - loss: 0.3380\n",
      "Epoch 13/100\n",
      "11/11 [==============================] - 0s 2ms/step - loss: 0.2835\n",
      "Epoch 14/100\n",
      "11/11 [==============================] - 0s 2ms/step - loss: 0.2678\n",
      "Epoch 15/100\n",
      "11/11 [==============================] - 0s 2ms/step - loss: 0.2911\n",
      "Epoch 16/100\n",
      "11/11 [==============================] - 0s 2ms/step - loss: 0.2349\n",
      "Epoch 17/100\n",
      "11/11 [==============================] - 0s 2ms/step - loss: 0.2384\n",
      "Epoch 18/100\n",
      "11/11 [==============================] - 0s 2ms/step - loss: 0.2571\n",
      "Epoch 19/100\n",
      "11/11 [==============================] - 0s 2ms/step - loss: 0.2385\n",
      "Epoch 20/100\n",
      "11/11 [==============================] - 0s 2ms/step - loss: 0.2379\n",
      "Epoch 21/100\n",
      "11/11 [==============================] - 0s 2ms/step - loss: 0.2232\n",
      "Epoch 22/100\n",
      "11/11 [==============================] - 0s 2ms/step - loss: 0.2213\n",
      "Epoch 23/100\n",
      "11/11 [==============================] - 0s 2ms/step - loss: 0.2213\n",
      "Epoch 24/100\n",
      "11/11 [==============================] - 0s 2ms/step - loss: 0.2030\n",
      "Epoch 25/100\n",
      "11/11 [==============================] - 0s 2ms/step - loss: 0.2060\n",
      "Epoch 26/100\n",
      "11/11 [==============================] - 0s 2ms/step - loss: 0.2062\n",
      "Epoch 27/100\n",
      "11/11 [==============================] - 0s 2ms/step - loss: 0.1671\n",
      "Epoch 28/100\n",
      "11/11 [==============================] - 0s 2ms/step - loss: 0.1734\n",
      "Epoch 29/100\n",
      "11/11 [==============================] - 0s 2ms/step - loss: 0.1843\n",
      "Epoch 30/100\n",
      "11/11 [==============================] - 0s 2ms/step - loss: 0.1823\n",
      "Epoch 31/100\n",
      "11/11 [==============================] - 0s 2ms/step - loss: 0.1519\n",
      "Epoch 32/100\n",
      "11/11 [==============================] - 0s 2ms/step - loss: 0.1834\n",
      "Epoch 33/100\n",
      "11/11 [==============================] - 0s 2ms/step - loss: 0.1715\n",
      "Epoch 34/100\n",
      "11/11 [==============================] - 0s 2ms/step - loss: 0.1957\n",
      "Epoch 35/100\n",
      "11/11 [==============================] - 0s 2ms/step - loss: 0.1770\n",
      "Epoch 36/100\n",
      "11/11 [==============================] - 0s 2ms/step - loss: 0.1795\n",
      "Epoch 37/100\n",
      "11/11 [==============================] - 0s 2ms/step - loss: 0.1538\n",
      "Epoch 38/100\n",
      "11/11 [==============================] - 0s 2ms/step - loss: 0.1543\n",
      "Epoch 39/100\n",
      "11/11 [==============================] - 0s 2ms/step - loss: 0.1712\n",
      "Epoch 40/100\n",
      "11/11 [==============================] - 0s 2ms/step - loss: 0.1446\n",
      "Epoch 41/100\n",
      "11/11 [==============================] - 0s 2ms/step - loss: 0.1482\n",
      "Epoch 42/100\n",
      "11/11 [==============================] - 0s 2ms/step - loss: 0.1312\n",
      "Epoch 43/100\n",
      "11/11 [==============================] - 0s 2ms/step - loss: 0.1545\n",
      "Epoch 44/100\n",
      "11/11 [==============================] - 0s 2ms/step - loss: 0.1083\n",
      "Epoch 45/100\n",
      "11/11 [==============================] - 0s 2ms/step - loss: 0.1299\n",
      "Epoch 46/100\n",
      "11/11 [==============================] - 0s 2ms/step - loss: 0.1104\n",
      "Epoch 47/100\n",
      "11/11 [==============================] - 0s 2ms/step - loss: 0.1238\n",
      "Epoch 48/100\n",
      "11/11 [==============================] - 0s 2ms/step - loss: 0.1376\n",
      "Epoch 49/100\n",
      "11/11 [==============================] - 0s 1ms/step - loss: 0.1268\n",
      "Epoch 50/100\n",
      "11/11 [==============================] - 0s 2ms/step - loss: 0.0982\n",
      "Epoch 51/100\n",
      "11/11 [==============================] - 0s 2ms/step - loss: 0.1305\n",
      "Epoch 52/100\n",
      "11/11 [==============================] - 0s 2ms/step - loss: 0.1217\n",
      "Epoch 53/100\n",
      "11/11 [==============================] - 0s 2ms/step - loss: 0.1084\n",
      "Epoch 54/100\n",
      "11/11 [==============================] - 0s 2ms/step - loss: 0.1116\n",
      "Epoch 55/100\n",
      "11/11 [==============================] - 0s 2ms/step - loss: 0.0926\n",
      "Epoch 56/100\n",
      "11/11 [==============================] - 0s 2ms/step - loss: 0.1238\n",
      "Epoch 57/100\n",
      "11/11 [==============================] - 0s 2ms/step - loss: 0.1081\n",
      "Epoch 58/100\n",
      "11/11 [==============================] - 0s 2ms/step - loss: 0.1307\n",
      "Epoch 59/100\n",
      "11/11 [==============================] - 0s 2ms/step - loss: 0.1314\n",
      "Epoch 60/100\n",
      "11/11 [==============================] - 0s 2ms/step - loss: 0.1091\n",
      "Epoch 61/100\n",
      "11/11 [==============================] - 0s 2ms/step - loss: 0.0997\n",
      "Epoch 62/100\n",
      "11/11 [==============================] - 0s 2ms/step - loss: 0.0975\n",
      "Epoch 63/100\n",
      "11/11 [==============================] - 0s 2ms/step - loss: 0.1118\n",
      "Epoch 64/100\n",
      "11/11 [==============================] - 0s 2ms/step - loss: 0.1241\n",
      "Epoch 65/100\n",
      "11/11 [==============================] - 0s 2ms/step - loss: 0.0903\n",
      "Epoch 66/100\n",
      "11/11 [==============================] - 0s 2ms/step - loss: 0.1093\n",
      "Epoch 67/100\n",
      "11/11 [==============================] - 0s 2ms/step - loss: 0.1043\n",
      "Epoch 68/100\n",
      "11/11 [==============================] - 0s 2ms/step - loss: 0.1008\n",
      "Epoch 69/100\n",
      "11/11 [==============================] - 0s 2ms/step - loss: 0.0922\n",
      "Epoch 70/100\n",
      "11/11 [==============================] - 0s 2ms/step - loss: 0.0995\n",
      "Epoch 71/100\n",
      "11/11 [==============================] - 0s 2ms/step - loss: 0.1206\n",
      "Epoch 72/100\n",
      "11/11 [==============================] - 0s 2ms/step - loss: 0.1107\n",
      "Epoch 73/100\n",
      "11/11 [==============================] - 0s 2ms/step - loss: 0.0899\n",
      "Epoch 74/100\n",
      "11/11 [==============================] - 0s 2ms/step - loss: 0.0826\n",
      "Epoch 75/100\n",
      "11/11 [==============================] - 0s 2ms/step - loss: 0.1152\n",
      "Epoch 76/100\n",
      "11/11 [==============================] - 0s 2ms/step - loss: 0.1026\n",
      "Epoch 77/100\n",
      "11/11 [==============================] - 0s 2ms/step - loss: 0.0784\n",
      "Epoch 78/100\n",
      "11/11 [==============================] - 0s 2ms/step - loss: 0.1014\n",
      "Epoch 79/100\n",
      "11/11 [==============================] - 0s 2ms/step - loss: 0.1034\n",
      "Epoch 80/100\n",
      "11/11 [==============================] - 0s 2ms/step - loss: 0.0818\n",
      "Epoch 81/100\n",
      "11/11 [==============================] - 0s 2ms/step - loss: 0.1016\n",
      "Epoch 82/100\n",
      "11/11 [==============================] - 0s 2ms/step - loss: 0.0849\n",
      "Epoch 83/100\n",
      "11/11 [==============================] - 0s 2ms/step - loss: 0.0818\n",
      "Epoch 84/100\n",
      "11/11 [==============================] - 0s 2ms/step - loss: 0.0918\n",
      "Epoch 85/100\n",
      "11/11 [==============================] - 0s 2ms/step - loss: 0.0918\n",
      "Epoch 86/100\n",
      "11/11 [==============================] - 0s 2ms/step - loss: 0.0835\n",
      "Epoch 87/100\n",
      "11/11 [==============================] - 0s 2ms/step - loss: 0.1103\n",
      "Epoch 88/100\n",
      "11/11 [==============================] - 0s 2ms/step - loss: 0.0847\n",
      "Epoch 89/100\n",
      "11/11 [==============================] - 0s 2ms/step - loss: 0.0932\n",
      "Epoch 90/100\n",
      "11/11 [==============================] - 0s 2ms/step - loss: 0.0952\n",
      "Epoch 91/100\n",
      "11/11 [==============================] - 0s 2ms/step - loss: 0.1029\n",
      "Epoch 92/100\n",
      "11/11 [==============================] - 0s 2ms/step - loss: 0.0830\n",
      "Epoch 93/100\n",
      "11/11 [==============================] - 0s 2ms/step - loss: 0.1029\n",
      "Epoch 94/100\n",
      "11/11 [==============================] - 0s 2ms/step - loss: 0.0961\n",
      "Epoch 95/100\n",
      "11/11 [==============================] - 0s 2ms/step - loss: 0.0805\n",
      "Epoch 96/100\n",
      "11/11 [==============================] - 0s 2ms/step - loss: 0.0914\n",
      "Epoch 97/100\n",
      "11/11 [==============================] - 0s 2ms/step - loss: 0.0901\n",
      "Epoch 98/100\n",
      "11/11 [==============================] - 0s 2ms/step - loss: 0.0858\n",
      "Epoch 99/100\n",
      "11/11 [==============================] - 0s 2ms/step - loss: 0.0704\n",
      "Epoch 100/100\n",
      "11/11 [==============================] - 0s 2ms/step - loss: 0.0965\n",
      "2/2 [==============================] - 0s 2ms/step\n",
      "R-squared: 0.9469005\n",
      "MSE: 0.06008337\n",
      "    ActualValue   Predicted        Diff\n",
      "0    804.240000  728.889771   75.350229\n",
      "1    692.100000  676.763184   15.336816\n",
      "2    190.125000  211.697327   21.572327\n",
      "3    757.428571  676.084595   81.343977\n",
      "4    229.760000  171.936188   57.823812\n",
      "5    192.416667  185.133850    7.282817\n",
      "6    559.896552  623.967529   64.070978\n",
      "7    552.965517  661.182617  108.217100\n",
      "8    623.931034  609.882568   14.048466\n",
      "9    551.933333  505.761810   46.171523\n",
      "10   628.275862  614.588196   13.687666\n",
      "11   509.030303  623.687073  114.656770\n",
      "12   248.000000  236.916138   11.083862\n",
      "13   544.800000  602.968445   58.168445\n",
      "14   216.785714  199.193085   17.592630\n",
      "15   589.310345  609.400940   20.090595\n",
      "16   817.160000  805.786377   11.373623\n",
      "17   183.920000  181.642517    2.277483\n",
      "18   179.480000  183.565125    4.085125\n",
      "19   598.468750  618.099609   19.630859\n",
      "20   263.846154  231.829620   32.016533\n",
      "21   186.137931  229.168335   43.030404\n",
      "22   185.240000  186.179504    0.939504\n",
      "23   692.240000  695.184082    2.944082\n",
      "24   761.440000  648.145386  113.294614\n",
      "25   816.520000  790.536255   25.983745\n",
      "26   538.566667  576.665955   38.099288\n",
      "27   637.241379  619.180054   18.061326\n",
      "28   188.250000  137.326904   50.923096\n",
      "29   614.033333  588.464111   25.569222\n",
      "30   233.160000  222.634918   10.525082\n",
      "31   590.107143  601.578064   11.470921\n",
      "32   583.413793  611.499207   28.085413\n",
      "33   702.586207  620.620544   81.965662\n",
      "34   200.083333  232.277740   32.194407\n",
      "35   227.240000  236.716705    9.476705\n",
      "36   641.344828  625.581848   15.762979\n",
      "37   304.200000  354.403076   50.203076\n",
      "38   465.777778  341.374573  124.403205\n",
      "39   176.692308  213.219818   36.527510\n",
      "40   652.535714  590.891968   61.643747\n",
      "      R^2       MSE\n",
      "0  0.9469  0.060083\n"
     ]
    }
   ],
   "source": [
    "scores_ANN, pred_ANN = ANN_model(targets_ICU_day,'Daily ICU occupancy', 'avr_Daily_ICU_occupancy')"
   ]
  },
  {
   "cell_type": "code",
   "execution_count": 24,
   "id": "4e58fa2c",
   "metadata": {},
   "outputs": [
    {
     "data": {
      "image/png": "[encoded data removed]",
      "text/plain": [
       "<Figure size 720x720 with 1 Axes>"
      ]
     },
     "metadata": {
      "needs_background": "light"
     },
     "output_type": "display_data"
    }
   ],
   "source": [
    "plot_pred_vs_true(list(pred_ANN['Predicted']), list(pred_ANN['ActualValue']))"
   ]
  },
  {
   "cell_type": "code",
   "execution_count": 25,
   "id": "a0fd0028",
   "metadata": {},
   "outputs": [
    {
     "name": "stdout",
     "output_type": "stream",
     "text": [
      "R-squared: 0.9382067979656566\n",
      "MSE: 0.06992045826190564\n"
     ]
    },
    {
     "name": "stderr",
     "output_type": "stream",
     "text": [
      "C:\\Users\\annac\\anaconda\\lib\\site-packages\\sklearn\\utils\\validation.py:63: DataConversionWarning: A column-vector y was passed when a 1d array was expected. Please change the shape of y to (n_samples, ), for example using ravel().\n",
      "  return f(*args, **kwargs)\n"
     ]
    }
   ],
   "source": [
    "scores_SVM, pred_SVM = SVM_model(targets_ICU_day,'Daily ICU occupancy', 'avr_Daily_ICU_occupancy')"
   ]
  },
  {
   "cell_type": "code",
   "execution_count": 61,
   "id": "c23c5700",
   "metadata": {},
   "outputs": [
    {
     "data": {
      "text/html": [
       "<div>\n",
       "<style scoped>\n",
       "    .dataframe tbody tr th:only-of-type {\n",
       "        vertical-align: middle;\n",
       "    }\n",
       "\n",
       "    .dataframe tbody tr th {\n",
       "        vertical-align: top;\n",
       "    }\n",
       "\n",
       "    .dataframe thead th {\n",
       "        text-align: right;\n",
       "    }\n",
       "</style>\n",
       "<table border=\"1\" class=\"dataframe\">\n",
       "  <thead>\n",
       "    <tr style=\"text-align: right;\">\n",
       "      <th></th>\n",
       "      <th>ActualValue</th>\n",
       "      <th>Predicted</th>\n",
       "      <th>Diff</th>\n",
       "    </tr>\n",
       "  </thead>\n",
       "  <tbody>\n",
       "    <tr>\n",
       "      <th>0</th>\n",
       "      <td>5430.333333</td>\n",
       "      <td>4826.704573</td>\n",
       "      <td>603.628760</td>\n",
       "    </tr>\n",
       "    <tr>\n",
       "      <th>1</th>\n",
       "      <td>5373.083333</td>\n",
       "      <td>4535.221352</td>\n",
       "      <td>837.861981</td>\n",
       "    </tr>\n",
       "    <tr>\n",
       "      <th>2</th>\n",
       "      <td>577.000000</td>\n",
       "      <td>362.540265</td>\n",
       "      <td>214.459735</td>\n",
       "    </tr>\n",
       "    <tr>\n",
       "      <th>3</th>\n",
       "      <td>3059.294118</td>\n",
       "      <td>2008.312301</td>\n",
       "      <td>1050.981816</td>\n",
       "    </tr>\n",
       "    <tr>\n",
       "      <th>4</th>\n",
       "      <td>913.800000</td>\n",
       "      <td>763.738755</td>\n",
       "      <td>150.061245</td>\n",
       "    </tr>\n",
       "  </tbody>\n",
       "</table>\n",
       "</div>"
      ],
      "text/plain": [
       "   ActualValue    Predicted         Diff\n",
       "0  5430.333333  4826.704573   603.628760\n",
       "1  5373.083333  4535.221352   837.861981\n",
       "2   577.000000   362.540265   214.459735\n",
       "3  3059.294118  2008.312301  1050.981816\n",
       "4   913.800000   763.738755   150.061245"
      ]
     },
     "execution_count": 61,
     "metadata": {},
     "output_type": "execute_result"
    }
   ],
   "source": [
    "pred_SVM.head()"
   ]
  },
  {
   "cell_type": "code",
   "execution_count": 26,
   "id": "545fd802",
   "metadata": {},
   "outputs": [
    {
     "data": {
      "image/png": "[encoded data removed]",
      "text/plain": [
       "<Figure size 720x720 with 1 Axes>"
      ]
     },
     "metadata": {
      "needs_background": "light"
     },
     "output_type": "display_data"
    }
   ],
   "source": [
    "plot_pred_vs_true(list(pred_SVM['Predicted']), list(pred_SVM['ActualValue']))"
   ]
  },
  {
   "cell_type": "code",
   "execution_count": 59,
   "id": "2e984902",
   "metadata": {},
   "outputs": [
    {
     "name": "stdout",
     "output_type": "stream",
     "text": [
      "K=2, val_mse=0.07%\n",
      "K=3, val_mse=0.05%\n",
      "K=4, val_mse=0.07%\n",
      "K=5, val_mse=0.06%\n",
      "K=6, val_mse=0.07%\n",
      "K=7, val_mse=0.06%\n",
      "K=8, val_mse=0.06%\n",
      "K=9, val_mse=0.07%\n",
      "K=10, val_mse=0.06%\n",
      "index_mse:1\n",
      "R-squared: 0.9528204746601497\n",
      "MSE: 0.05338474012898881\n"
     ]
    }
   ],
   "source": [
    "scores_KNN, pred_KNN = KNN_model(targets_ICU_day,'Daily ICU occupancy', 'avr_Daily_ICU_occupancy')"
   ]
  },
  {
   "cell_type": "code",
   "execution_count": 60,
   "id": "1a1a908f",
   "metadata": {},
   "outputs": [
    {
     "data": {
      "text/html": [
       "<div>\n",
       "<style scoped>\n",
       "    .dataframe tbody tr th:only-of-type {\n",
       "        vertical-align: middle;\n",
       "    }\n",
       "\n",
       "    .dataframe tbody tr th {\n",
       "        vertical-align: top;\n",
       "    }\n",
       "\n",
       "    .dataframe thead th {\n",
       "        text-align: right;\n",
       "    }\n",
       "</style>\n",
       "<table border=\"1\" class=\"dataframe\">\n",
       "  <thead>\n",
       "    <tr style=\"text-align: right;\">\n",
       "      <th></th>\n",
       "      <th>ActualValue</th>\n",
       "      <th>Predicted</th>\n",
       "      <th>Diff</th>\n",
       "    </tr>\n",
       "  </thead>\n",
       "  <tbody>\n",
       "    <tr>\n",
       "      <th>0</th>\n",
       "      <td>804.240000</td>\n",
       "      <td>643.986667</td>\n",
       "      <td>160.253333</td>\n",
       "    </tr>\n",
       "    <tr>\n",
       "      <th>1</th>\n",
       "      <td>692.100000</td>\n",
       "      <td>706.403333</td>\n",
       "      <td>14.303333</td>\n",
       "    </tr>\n",
       "    <tr>\n",
       "      <th>2</th>\n",
       "      <td>190.125000</td>\n",
       "      <td>184.455000</td>\n",
       "      <td>5.670000</td>\n",
       "    </tr>\n",
       "    <tr>\n",
       "      <th>3</th>\n",
       "      <td>757.428571</td>\n",
       "      <td>725.110625</td>\n",
       "      <td>32.317947</td>\n",
       "    </tr>\n",
       "    <tr>\n",
       "      <th>4</th>\n",
       "      <td>229.760000</td>\n",
       "      <td>220.675417</td>\n",
       "      <td>9.084583</td>\n",
       "    </tr>\n",
       "  </tbody>\n",
       "</table>\n",
       "</div>"
      ],
      "text/plain": [
       "   ActualValue   Predicted        Diff\n",
       "0   804.240000  643.986667  160.253333\n",
       "1   692.100000  706.403333   14.303333\n",
       "2   190.125000  184.455000    5.670000\n",
       "3   757.428571  725.110625   32.317947\n",
       "4   229.760000  220.675417    9.084583"
      ]
     },
     "execution_count": 60,
     "metadata": {},
     "output_type": "execute_result"
    }
   ],
   "source": [
    "pred_KNN.head()"
   ]
  },
  {
   "cell_type": "code",
   "execution_count": 28,
   "id": "01a0aa6a",
   "metadata": {
    "scrolled": true
   },
   "outputs": [
    {
     "data": {
      "image/png": "[encoded data removed]",
      "text/plain": [
       "<Figure size 720x720 with 1 Axes>"
      ]
     },
     "metadata": {
      "needs_background": "light"
     },
     "output_type": "display_data"
    }
   ],
   "source": [
    "plot_pred_vs_true(list(pred_KNN['Predicted']), list(pred_KNN['ActualValue']))"
   ]
  },
  {
   "cell_type": "code",
   "execution_count": 57,
   "id": "50f01eb6",
   "metadata": {},
   "outputs": [
    {
     "name": "stdout",
     "output_type": "stream",
     "text": [
      "0.8913930105660517\n",
      "[-0.03975652]\n",
      "R-squared: 0.6801342049562251\n",
      "MSE: 0.3619356536879161\n"
     ]
    }
   ],
   "source": [
    "scores_LR, pred_LR = LR_model(targets_ICU_day,'Daily ICU occupancy', 'avr_Daily_ICU_occupancy')"
   ]
  },
  {
   "cell_type": "code",
   "execution_count": 58,
   "id": "f74a1896",
   "metadata": {},
   "outputs": [
    {
     "data": {
      "text/html": [
       "<div>\n",
       "<style scoped>\n",
       "    .dataframe tbody tr th:only-of-type {\n",
       "        vertical-align: middle;\n",
       "    }\n",
       "\n",
       "    .dataframe tbody tr th {\n",
       "        vertical-align: top;\n",
       "    }\n",
       "\n",
       "    .dataframe thead th {\n",
       "        text-align: right;\n",
       "    }\n",
       "</style>\n",
       "<table border=\"1\" class=\"dataframe\">\n",
       "  <thead>\n",
       "    <tr style=\"text-align: right;\">\n",
       "      <th></th>\n",
       "      <th>ActualValue</th>\n",
       "      <th>Predicted</th>\n",
       "      <th>Diff</th>\n",
       "    </tr>\n",
       "  </thead>\n",
       "  <tbody>\n",
       "    <tr>\n",
       "      <th>0</th>\n",
       "      <td>804.240000</td>\n",
       "      <td>759.168122</td>\n",
       "      <td>45.071878</td>\n",
       "    </tr>\n",
       "    <tr>\n",
       "      <th>1</th>\n",
       "      <td>692.100000</td>\n",
       "      <td>665.850791</td>\n",
       "      <td>26.249209</td>\n",
       "    </tr>\n",
       "    <tr>\n",
       "      <th>2</th>\n",
       "      <td>190.125000</td>\n",
       "      <td>101.078080</td>\n",
       "      <td>89.046920</td>\n",
       "    </tr>\n",
       "    <tr>\n",
       "      <th>3</th>\n",
       "      <td>757.428571</td>\n",
       "      <td>794.872144</td>\n",
       "      <td>37.443572</td>\n",
       "    </tr>\n",
       "    <tr>\n",
       "      <th>4</th>\n",
       "      <td>229.760000</td>\n",
       "      <td>-245.413225</td>\n",
       "      <td>475.173225</td>\n",
       "    </tr>\n",
       "  </tbody>\n",
       "</table>\n",
       "</div>"
      ],
      "text/plain": [
       "   ActualValue   Predicted        Diff\n",
       "0   804.240000  759.168122   45.071878\n",
       "1   692.100000  665.850791   26.249209\n",
       "2   190.125000  101.078080   89.046920\n",
       "3   757.428571  794.872144   37.443572\n",
       "4   229.760000 -245.413225  475.173225"
      ]
     },
     "execution_count": 58,
     "metadata": {},
     "output_type": "execute_result"
    }
   ],
   "source": [
    "pred_LR.head()"
   ]
  },
  {
   "cell_type": "code",
   "execution_count": 30,
   "id": "57437dee",
   "metadata": {},
   "outputs": [
    {
     "data": {
      "image/png": "[encoded data removed]",
      "text/plain": [
       "<Figure size 720x720 with 1 Axes>"
      ]
     },
     "metadata": {
      "needs_background": "light"
     },
     "output_type": "display_data"
    }
   ],
   "source": [
    "plot_pred_vs_true(list(pred_LR['Predicted']), list(pred_LR['ActualValue']))"
   ]
  },
  {
   "cell_type": "code",
   "execution_count": null,
   "id": "dc24ddd2",
   "metadata": {},
   "outputs": [],
   "source": []
  },
  {
   "cell_type": "code",
   "execution_count": 31,
   "id": "725a8a62",
   "metadata": {},
   "outputs": [],
   "source": [
    "targets_ICU_week =pd.read_csv('C:/Users/annac/avr_hosp_data.csv')\n",
    "icu_filter = targets_ICU_week[['Weekly new ICU admissions']].loc[targets_ICU_week['Weekly new ICU admissions']>= 0.0]"
   ]
  },
  {
   "cell_type": "code",
   "execution_count": 32,
   "id": "63ed4e0e",
   "metadata": {},
   "outputs": [
    {
     "name": "stdout",
     "output_type": "stream",
     "text": [
      "2/2 [==============================] - 0s 3ms/step\n"
     ]
    },
    {
     "name": "stderr",
     "output_type": "stream",
     "text": [
      "C:\\Users\\annac\\AppData\\Local\\Temp/ipykernel_3592/695762972.py:54: FutureWarning: The frame.append method is deprecated and will be removed from pandas in a future version. Use pandas.concat instead.\n",
      "  SearchResultsData=SearchResultsData.append(pd.DataFrame(data=[[TrialNumber, batch_size_trial, epochs_trial, MSE]],\n"
     ]
    },
    {
     "name": "stdout",
     "output_type": "stream",
     "text": [
      "2/2 [==============================] - 0s 2ms/step\n"
     ]
    },
    {
     "name": "stderr",
     "output_type": "stream",
     "text": [
      "C:\\Users\\annac\\AppData\\Local\\Temp/ipykernel_3592/695762972.py:54: FutureWarning: The frame.append method is deprecated and will be removed from pandas in a future version. Use pandas.concat instead.\n",
      "  SearchResultsData=SearchResultsData.append(pd.DataFrame(data=[[TrialNumber, batch_size_trial, epochs_trial, MSE]],\n"
     ]
    },
    {
     "name": "stdout",
     "output_type": "stream",
     "text": [
      "2/2 [==============================] - 0s 3ms/step\n"
     ]
    },
    {
     "name": "stderr",
     "output_type": "stream",
     "text": [
      "C:\\Users\\annac\\AppData\\Local\\Temp/ipykernel_3592/695762972.py:54: FutureWarning: The frame.append method is deprecated and will be removed from pandas in a future version. Use pandas.concat instead.\n",
      "  SearchResultsData=SearchResultsData.append(pd.DataFrame(data=[[TrialNumber, batch_size_trial, epochs_trial, MSE]],\n"
     ]
    },
    {
     "name": "stdout",
     "output_type": "stream",
     "text": [
      "2/2 [==============================] - 0s 2ms/step\n"
     ]
    },
    {
     "name": "stderr",
     "output_type": "stream",
     "text": [
      "C:\\Users\\annac\\AppData\\Local\\Temp/ipykernel_3592/695762972.py:54: FutureWarning: The frame.append method is deprecated and will be removed from pandas in a future version. Use pandas.concat instead.\n",
      "  SearchResultsData=SearchResultsData.append(pd.DataFrame(data=[[TrialNumber, batch_size_trial, epochs_trial, MSE]],\n"
     ]
    },
    {
     "name": "stdout",
     "output_type": "stream",
     "text": [
      "2/2 [==============================] - 0s 3ms/step\n"
     ]
    },
    {
     "name": "stderr",
     "output_type": "stream",
     "text": [
      "C:\\Users\\annac\\AppData\\Local\\Temp/ipykernel_3592/695762972.py:54: FutureWarning: The frame.append method is deprecated and will be removed from pandas in a future version. Use pandas.concat instead.\n",
      "  SearchResultsData=SearchResultsData.append(pd.DataFrame(data=[[TrialNumber, batch_size_trial, epochs_trial, MSE]],\n"
     ]
    },
    {
     "name": "stdout",
     "output_type": "stream",
     "text": [
      "2/2 [==============================] - 0s 2ms/step\n"
     ]
    },
    {
     "name": "stderr",
     "output_type": "stream",
     "text": [
      "C:\\Users\\annac\\AppData\\Local\\Temp/ipykernel_3592/695762972.py:54: FutureWarning: The frame.append method is deprecated and will be removed from pandas in a future version. Use pandas.concat instead.\n",
      "  SearchResultsData=SearchResultsData.append(pd.DataFrame(data=[[TrialNumber, batch_size_trial, epochs_trial, MSE]],\n"
     ]
    },
    {
     "name": "stdout",
     "output_type": "stream",
     "text": [
      "2/2 [==============================] - 0s 2ms/step\n"
     ]
    },
    {
     "name": "stderr",
     "output_type": "stream",
     "text": [
      "C:\\Users\\annac\\AppData\\Local\\Temp/ipykernel_3592/695762972.py:54: FutureWarning: The frame.append method is deprecated and will be removed from pandas in a future version. Use pandas.concat instead.\n",
      "  SearchResultsData=SearchResultsData.append(pd.DataFrame(data=[[TrialNumber, batch_size_trial, epochs_trial, MSE]],\n"
     ]
    },
    {
     "name": "stdout",
     "output_type": "stream",
     "text": [
      "2/2 [==============================] - 0s 3ms/step\n"
     ]
    },
    {
     "name": "stderr",
     "output_type": "stream",
     "text": [
      "C:\\Users\\annac\\AppData\\Local\\Temp/ipykernel_3592/695762972.py:54: FutureWarning: The frame.append method is deprecated and will be removed from pandas in a future version. Use pandas.concat instead.\n",
      "  SearchResultsData=SearchResultsData.append(pd.DataFrame(data=[[TrialNumber, batch_size_trial, epochs_trial, MSE]],\n"
     ]
    },
    {
     "name": "stdout",
     "output_type": "stream",
     "text": [
      "2/2 [==============================] - 0s 3ms/step\n"
     ]
    },
    {
     "name": "stderr",
     "output_type": "stream",
     "text": [
      "C:\\Users\\annac\\AppData\\Local\\Temp/ipykernel_3592/695762972.py:54: FutureWarning: The frame.append method is deprecated and will be removed from pandas in a future version. Use pandas.concat instead.\n",
      "  SearchResultsData=SearchResultsData.append(pd.DataFrame(data=[[TrialNumber, batch_size_trial, epochs_trial, MSE]],\n"
     ]
    },
    {
     "name": "stdout",
     "output_type": "stream",
     "text": [
      "2/2 [==============================] - 0s 3ms/step\n"
     ]
    },
    {
     "name": "stderr",
     "output_type": "stream",
     "text": [
      "C:\\Users\\annac\\AppData\\Local\\Temp/ipykernel_3592/695762972.py:54: FutureWarning: The frame.append method is deprecated and will be removed from pandas in a future version. Use pandas.concat instead.\n",
      "  SearchResultsData=SearchResultsData.append(pd.DataFrame(data=[[TrialNumber, batch_size_trial, epochs_trial, MSE]],\n"
     ]
    },
    {
     "name": "stdout",
     "output_type": "stream",
     "text": [
      "2/2 [==============================] - 0s 2ms/step\n"
     ]
    },
    {
     "name": "stderr",
     "output_type": "stream",
     "text": [
      "C:\\Users\\annac\\AppData\\Local\\Temp/ipykernel_3592/695762972.py:54: FutureWarning: The frame.append method is deprecated and will be removed from pandas in a future version. Use pandas.concat instead.\n",
      "  SearchResultsData=SearchResultsData.append(pd.DataFrame(data=[[TrialNumber, batch_size_trial, epochs_trial, MSE]],\n"
     ]
    },
    {
     "name": "stdout",
     "output_type": "stream",
     "text": [
      "2/2 [==============================] - 0s 2ms/step\n"
     ]
    },
    {
     "name": "stderr",
     "output_type": "stream",
     "text": [
      "C:\\Users\\annac\\AppData\\Local\\Temp/ipykernel_3592/695762972.py:54: FutureWarning: The frame.append method is deprecated and will be removed from pandas in a future version. Use pandas.concat instead.\n",
      "  SearchResultsData=SearchResultsData.append(pd.DataFrame(data=[[TrialNumber, batch_size_trial, epochs_trial, MSE]],\n"
     ]
    },
    {
     "name": "stdout",
     "output_type": "stream",
     "text": [
      "2/2 [==============================] - 0s 2ms/step\n"
     ]
    },
    {
     "name": "stderr",
     "output_type": "stream",
     "text": [
      "C:\\Users\\annac\\AppData\\Local\\Temp/ipykernel_3592/695762972.py:54: FutureWarning: The frame.append method is deprecated and will be removed from pandas in a future version. Use pandas.concat instead.\n",
      "  SearchResultsData=SearchResultsData.append(pd.DataFrame(data=[[TrialNumber, batch_size_trial, epochs_trial, MSE]],\n"
     ]
    },
    {
     "name": "stdout",
     "output_type": "stream",
     "text": [
      "2/2 [==============================] - 0s 2ms/step\n"
     ]
    },
    {
     "name": "stderr",
     "output_type": "stream",
     "text": [
      "C:\\Users\\annac\\AppData\\Local\\Temp/ipykernel_3592/695762972.py:54: FutureWarning: The frame.append method is deprecated and will be removed from pandas in a future version. Use pandas.concat instead.\n",
      "  SearchResultsData=SearchResultsData.append(pd.DataFrame(data=[[TrialNumber, batch_size_trial, epochs_trial, MSE]],\n"
     ]
    },
    {
     "name": "stdout",
     "output_type": "stream",
     "text": [
      "2/2 [==============================] - 0s 3ms/step\n"
     ]
    },
    {
     "name": "stderr",
     "output_type": "stream",
     "text": [
      "C:\\Users\\annac\\AppData\\Local\\Temp/ipykernel_3592/695762972.py:54: FutureWarning: The frame.append method is deprecated and will be removed from pandas in a future version. Use pandas.concat instead.\n",
      "  SearchResultsData=SearchResultsData.append(pd.DataFrame(data=[[TrialNumber, batch_size_trial, epochs_trial, MSE]],\n"
     ]
    },
    {
     "name": "stdout",
     "output_type": "stream",
     "text": [
      "2/2 [==============================] - 0s 2ms/step\n",
      "  TrialNumber Parameters       MSE  Batch  Epochs\n",
      "0           1        NaN  0.435306    5.0     5.0\n",
      "0           2        NaN  0.334146    5.0    10.0\n",
      "0           3        NaN  0.282218    5.0    50.0\n",
      "0           4        NaN  0.289707    5.0   100.0\n",
      "0           5        NaN  0.530667   10.0     5.0\n",
      "0           6        NaN  0.405478   10.0    10.0\n",
      "0           7        NaN  0.352167   10.0    50.0\n",
      "0           8        NaN  0.252626   10.0   100.0\n",
      "0           9        NaN  0.863609   15.0     5.0\n",
      "0          10        NaN  0.377346   15.0    10.0\n",
      "0          11        NaN  0.459369   15.0    50.0\n",
      "0          12        NaN  0.333323   15.0   100.0\n",
      "0          13        NaN  1.082930   20.0     5.0\n",
      "0          14        NaN  0.418582   20.0    10.0\n",
      "0          15        NaN  0.368330   20.0    50.0\n",
      "0          16        NaN  0.326142   20.0   100.0\n",
      "index_m:7\n",
      "Epoch 1/100\n"
     ]
    },
    {
     "name": "stderr",
     "output_type": "stream",
     "text": [
      "C:\\Users\\annac\\AppData\\Local\\Temp/ipykernel_3592/695762972.py:54: FutureWarning: The frame.append method is deprecated and will be removed from pandas in a future version. Use pandas.concat instead.\n",
      "  SearchResultsData=SearchResultsData.append(pd.DataFrame(data=[[TrialNumber, batch_size_trial, epochs_trial, MSE]],\n"
     ]
    },
    {
     "name": "stdout",
     "output_type": "stream",
     "text": [
      "17/17 [==============================] - 0s 2ms/step - loss: 0.9324\n",
      "Epoch 2/100\n",
      "17/17 [==============================] - 0s 2ms/step - loss: 0.9207\n",
      "Epoch 3/100\n",
      "17/17 [==============================] - 0s 2ms/step - loss: 0.8766\n",
      "Epoch 4/100\n",
      "17/17 [==============================] - 0s 1ms/step - loss: 0.7888\n",
      "Epoch 5/100\n",
      "17/17 [==============================] - 0s 2ms/step - loss: 0.6973\n",
      "Epoch 6/100\n",
      "17/17 [==============================] - 0s 2ms/step - loss: 0.5182\n",
      "Epoch 7/100\n",
      "17/17 [==============================] - 0s 2ms/step - loss: 0.4881\n",
      "Epoch 8/100\n",
      "17/17 [==============================] - 0s 2ms/step - loss: 0.4756\n",
      "Epoch 9/100\n",
      "17/17 [==============================] - 0s 2ms/step - loss: 0.4422\n",
      "Epoch 10/100\n",
      "17/17 [==============================] - 0s 2ms/step - loss: 0.5258\n",
      "Epoch 11/100\n",
      "17/17 [==============================] - 0s 1ms/step - loss: 0.5317\n",
      "Epoch 12/100\n",
      "17/17 [==============================] - 0s 2ms/step - loss: 0.3404\n",
      "Epoch 13/100\n",
      "17/17 [==============================] - 0s 2ms/step - loss: 0.3888\n",
      "Epoch 14/100\n",
      "17/17 [==============================] - 0s 2ms/step - loss: 0.4753\n",
      "Epoch 15/100\n",
      "17/17 [==============================] - 0s 2ms/step - loss: 0.4004\n",
      "Epoch 16/100\n",
      "17/17 [==============================] - 0s 2ms/step - loss: 0.4430\n",
      "Epoch 17/100\n",
      "17/17 [==============================] - 0s 2ms/step - loss: 0.3008\n",
      "Epoch 18/100\n",
      "17/17 [==============================] - 0s 2ms/step - loss: 0.3595\n",
      "Epoch 19/100\n",
      "17/17 [==============================] - 0s 2ms/step - loss: 0.3379\n",
      "Epoch 20/100\n",
      "17/17 [==============================] - 0s 2ms/step - loss: 0.3136\n",
      "Epoch 21/100\n",
      "17/17 [==============================] - 0s 2ms/step - loss: 0.3886\n",
      "Epoch 22/100\n",
      "17/17 [==============================] - 0s 2ms/step - loss: 0.2998\n",
      "Epoch 23/100\n",
      "17/17 [==============================] - 0s 2ms/step - loss: 0.3495\n",
      "Epoch 24/100\n",
      "17/17 [==============================] - 0s 2ms/step - loss: 0.3313\n",
      "Epoch 25/100\n",
      "17/17 [==============================] - 0s 2ms/step - loss: 0.3096\n",
      "Epoch 26/100\n",
      "17/17 [==============================] - 0s 2ms/step - loss: 0.3217\n",
      "Epoch 27/100\n",
      "17/17 [==============================] - 0s 2ms/step - loss: 0.2686\n",
      "Epoch 28/100\n",
      "17/17 [==============================] - 0s 2ms/step - loss: 0.2990\n",
      "Epoch 29/100\n",
      "17/17 [==============================] - 0s 2ms/step - loss: 0.2292\n",
      "Epoch 30/100\n",
      "17/17 [==============================] - 0s 1ms/step - loss: 0.2348\n",
      "Epoch 31/100\n",
      "17/17 [==============================] - 0s 2ms/step - loss: 0.2704\n",
      "Epoch 32/100\n",
      "17/17 [==============================] - 0s 2ms/step - loss: 0.3302\n",
      "Epoch 33/100\n",
      "17/17 [==============================] - 0s 2ms/step - loss: 0.2768\n",
      "Epoch 34/100\n",
      "17/17 [==============================] - 0s 2ms/step - loss: 0.2373\n",
      "Epoch 35/100\n",
      "17/17 [==============================] - 0s 2ms/step - loss: 0.1912\n",
      "Epoch 36/100\n",
      "17/17 [==============================] - 0s 2ms/step - loss: 0.3611\n",
      "Epoch 37/100\n",
      "17/17 [==============================] - 0s 2ms/step - loss: 0.2082\n",
      "Epoch 38/100\n",
      "17/17 [==============================] - 0s 2ms/step - loss: 0.2324\n",
      "Epoch 39/100\n",
      "17/17 [==============================] - 0s 2ms/step - loss: 0.1675\n",
      "Epoch 40/100\n",
      "17/17 [==============================] - 0s 2ms/step - loss: 0.2495\n",
      "Epoch 41/100\n",
      "17/17 [==============================] - 0s 2ms/step - loss: 0.2094\n",
      "Epoch 42/100\n",
      "17/17 [==============================] - 0s 2ms/step - loss: 0.3018\n",
      "Epoch 43/100\n",
      "17/17 [==============================] - 0s 2ms/step - loss: 0.2528\n",
      "Epoch 44/100\n",
      "17/17 [==============================] - 0s 2ms/step - loss: 0.2024\n",
      "Epoch 45/100\n",
      "17/17 [==============================] - 0s 2ms/step - loss: 0.2209\n",
      "Epoch 46/100\n",
      "17/17 [==============================] - 0s 2ms/step - loss: 0.1594\n",
      "Epoch 47/100\n",
      "17/17 [==============================] - 0s 2ms/step - loss: 0.2584\n",
      "Epoch 48/100\n",
      "17/17 [==============================] - 0s 2ms/step - loss: 0.1996\n",
      "Epoch 49/100\n",
      "17/17 [==============================] - 0s 2ms/step - loss: 0.1777\n",
      "Epoch 50/100\n",
      "17/17 [==============================] - 0s 2ms/step - loss: 0.1811\n",
      "Epoch 51/100\n",
      "17/17 [==============================] - 0s 2ms/step - loss: 0.2140\n",
      "Epoch 52/100\n",
      "17/17 [==============================] - 0s 2ms/step - loss: 0.1286\n",
      "Epoch 53/100\n",
      "17/17 [==============================] - 0s 2ms/step - loss: 0.2200\n",
      "Epoch 54/100\n",
      "17/17 [==============================] - 0s 2ms/step - loss: 0.1633\n",
      "Epoch 55/100\n",
      "17/17 [==============================] - 0s 2ms/step - loss: 0.1693\n",
      "Epoch 56/100\n",
      "17/17 [==============================] - 0s 2ms/step - loss: 0.1826\n",
      "Epoch 57/100\n",
      "17/17 [==============================] - 0s 2ms/step - loss: 0.2223\n",
      "Epoch 58/100\n",
      "17/17 [==============================] - 0s 2ms/step - loss: 0.1805\n",
      "Epoch 59/100\n",
      "17/17 [==============================] - 0s 2ms/step - loss: 0.1843\n",
      "Epoch 60/100\n",
      "17/17 [==============================] - 0s 2ms/step - loss: 0.1728\n",
      "Epoch 61/100\n",
      "17/17 [==============================] - 0s 2ms/step - loss: 0.2448\n",
      "Epoch 62/100\n",
      "17/17 [==============================] - 0s 2ms/step - loss: 0.1346\n",
      "Epoch 63/100\n",
      "17/17 [==============================] - 0s 2ms/step - loss: 0.1808\n",
      "Epoch 64/100\n",
      "17/17 [==============================] - 0s 3ms/step - loss: 0.1885\n",
      "Epoch 65/100\n",
      "17/17 [==============================] - 0s 2ms/step - loss: 0.1339\n",
      "Epoch 66/100\n",
      "17/17 [==============================] - 0s 2ms/step - loss: 0.1261\n",
      "Epoch 67/100\n",
      "17/17 [==============================] - 0s 2ms/step - loss: 0.1366\n",
      "Epoch 68/100\n",
      "17/17 [==============================] - 0s 2ms/step - loss: 0.1787\n",
      "Epoch 69/100\n",
      "17/17 [==============================] - 0s 2ms/step - loss: 0.1894\n",
      "Epoch 70/100\n",
      "17/17 [==============================] - 0s 2ms/step - loss: 0.1776\n",
      "Epoch 71/100\n",
      "17/17 [==============================] - 0s 2ms/step - loss: 0.1701\n",
      "Epoch 72/100\n",
      "17/17 [==============================] - 0s 2ms/step - loss: 0.1207\n",
      "Epoch 73/100\n",
      "17/17 [==============================] - 0s 2ms/step - loss: 0.1582\n",
      "Epoch 74/100\n",
      "17/17 [==============================] - 0s 2ms/step - loss: 0.1410\n",
      "Epoch 75/100\n",
      "17/17 [==============================] - 0s 2ms/step - loss: 0.1472\n",
      "Epoch 76/100\n",
      "17/17 [==============================] - 0s 2ms/step - loss: 0.1097\n",
      "Epoch 77/100\n",
      "17/17 [==============================] - 0s 2ms/step - loss: 0.1480\n",
      "Epoch 78/100\n",
      "17/17 [==============================] - 0s 2ms/step - loss: 0.1195\n",
      "Epoch 79/100\n",
      "17/17 [==============================] - 0s 2ms/step - loss: 0.1756\n",
      "Epoch 80/100\n",
      "17/17 [==============================] - 0s 2ms/step - loss: 0.1388\n",
      "Epoch 81/100\n",
      "17/17 [==============================] - 0s 2ms/step - loss: 0.1744\n",
      "Epoch 82/100\n",
      "17/17 [==============================] - 0s 2ms/step - loss: 0.1656\n",
      "Epoch 83/100\n",
      "17/17 [==============================] - 0s 2ms/step - loss: 0.1060\n",
      "Epoch 84/100\n",
      "17/17 [==============================] - 0s 2ms/step - loss: 0.1100\n",
      "Epoch 85/100\n",
      "17/17 [==============================] - 0s 2ms/step - loss: 0.1234\n",
      "Epoch 86/100\n",
      "17/17 [==============================] - 0s 2ms/step - loss: 0.1687\n",
      "Epoch 87/100\n",
      "17/17 [==============================] - 0s 2ms/step - loss: 0.1024\n",
      "Epoch 88/100\n",
      "17/17 [==============================] - 0s 2ms/step - loss: 0.2237\n",
      "Epoch 89/100\n",
      "17/17 [==============================] - 0s 2ms/step - loss: 0.1480\n",
      "Epoch 90/100\n",
      "17/17 [==============================] - 0s 2ms/step - loss: 0.1042\n",
      "Epoch 91/100\n",
      "17/17 [==============================] - 0s 2ms/step - loss: 0.2321\n",
      "Epoch 92/100\n",
      "17/17 [==============================] - 0s 2ms/step - loss: 0.1851\n",
      "Epoch 93/100\n",
      "17/17 [==============================] - 0s 2ms/step - loss: 0.1489\n",
      "Epoch 94/100\n",
      "17/17 [==============================] - 0s 2ms/step - loss: 0.0943\n",
      "Epoch 95/100\n",
      "17/17 [==============================] - 0s 2ms/step - loss: 0.1011\n",
      "Epoch 96/100\n",
      "17/17 [==============================] - 0s 2ms/step - loss: 0.0945\n",
      "Epoch 97/100\n",
      "17/17 [==============================] - 0s 2ms/step - loss: 0.0960\n",
      "Epoch 98/100\n",
      "17/17 [==============================] - 0s 2ms/step - loss: 0.1375\n",
      "Epoch 99/100\n",
      "17/17 [==============================] - 0s 2ms/step - loss: 0.0940\n",
      "Epoch 100/100\n",
      "17/17 [==============================] - 0s 2ms/step - loss: 0.1155\n",
      "2/2 [==============================] - 0s 3ms/step\n",
      "R-squared: 0.68465674\n",
      "MSE: 0.3949949\n",
      "    ActualValue   Predicted        Diff\n",
      "0   1471.333333  800.863403  670.469930\n",
      "1   1543.000000  997.374268  545.625732\n",
      "2    249.750000  285.621613   35.871613\n",
      "3    154.000000  187.567871   33.567871\n",
      "4    257.250000  201.792755   55.457245\n",
      "5    263.750000  246.281357   17.468643\n",
      "6    224.800000  201.035110   23.764890\n",
      "7    226.400000  229.604492    3.204492\n",
      "8     71.461538  159.823669   88.362131\n",
      "9    133.785714  344.938477  211.152762\n",
      "10   426.600000  392.300842   34.299158\n",
      "11   239.200000  231.440903    7.759097\n",
      "12   230.500000  215.535965   14.964035\n",
      "13   123.461538  284.671265  161.209726\n",
      "14   232.500000  207.161407   25.338593\n",
      "15   201.200000  188.437927   12.762073\n",
      "16  1166.333333  528.722046  637.611287\n",
      "17   234.500000  218.171204   16.328796\n",
      "18   246.750000  248.455383    1.705383\n",
      "19   175.400000  155.476501   19.923499\n",
      "20   231.250000  195.849564   35.400436\n",
      "21   233.500000  189.533173   43.966827\n",
      "22    84.833333  173.339050   88.505717\n",
      "23   457.750000  363.225464   94.524536\n",
      "24   560.750000  541.439880   19.310120\n",
      "25  1388.000000  825.205933  562.794067\n",
      "26   105.461538  194.957489   89.495951\n",
      "27   435.200000  274.083710  161.116290\n",
      "28   253.250000  256.919159    3.669159\n",
      "29   432.600000  320.688416  111.911584\n",
      "30   248.500000  223.014297   25.485703\n",
      "31   178.750000  188.968994   10.218994\n",
      "32    76.071429  201.989487  125.918058\n",
      "33   463.600000  309.372986  154.227014\n",
      "34   226.500000  241.167633   14.667633\n",
      "35   248.250000  174.756866   73.493134\n",
      "36   177.000000  183.058334    6.058334\n",
      "37   228.500000  117.058067  111.441933\n",
      "38   218.000000  236.698166   18.698166\n",
      "39    89.818182  180.603485   90.785303\n",
      "40   182.600000  198.248215   15.648215\n",
      "        R^2       MSE\n",
      "0  0.684657  0.394995\n"
     ]
    }
   ],
   "source": [
    "scores_ANN, pred_ANN = ANN_model(icu_filter,'Weekly new ICU admissions', 'avr_weekly_ICU_admissions')"
   ]
  },
  {
   "cell_type": "code",
   "execution_count": 33,
   "id": "8d8b5aa6",
   "metadata": {},
   "outputs": [
    {
     "data": {
      "image/png": "[encoded data removed]",
      "text/plain": [
       "<Figure size 720x720 with 1 Axes>"
      ]
     },
     "metadata": {
      "needs_background": "light"
     },
     "output_type": "display_data"
    }
   ],
   "source": [
    "plot_pred_vs_true(list(pred_ANN['Predicted']), list(pred_ANN['ActualValue']))"
   ]
  },
  {
   "cell_type": "code",
   "execution_count": 37,
   "id": "8d05d77c",
   "metadata": {},
   "outputs": [
    {
     "name": "stdout",
     "output_type": "stream",
     "text": [
      "R-squared: 0.7040290611204156\n",
      "MSE: 0.3707295213229099\n"
     ]
    },
    {
     "name": "stderr",
     "output_type": "stream",
     "text": [
      "C:\\Users\\annac\\anaconda\\lib\\site-packages\\sklearn\\utils\\validation.py:63: DataConversionWarning: A column-vector y was passed when a 1d array was expected. Please change the shape of y to (n_samples, ), for example using ravel().\n",
      "  return f(*args, **kwargs)\n"
     ]
    }
   ],
   "source": [
    "scores_SVM, pred_SVM = SVM_model(icu_filter,'Weekly new ICU admissions', 'avr_weekly_ICU_admissions')"
   ]
  },
  {
   "cell_type": "code",
   "execution_count": 35,
   "id": "ba88a5a5",
   "metadata": {},
   "outputs": [
    {
     "data": {
      "image/png": "[encoded data removed]",
      "text/plain": [
       "<Figure size 720x720 with 1 Axes>"
      ]
     },
     "metadata": {
      "needs_background": "light"
     },
     "output_type": "display_data"
    }
   ],
   "source": [
    "plot_pred_vs_true(list(pred_SVM['Predicted']), list(pred_SVM['ActualValue']))"
   ]
  },
  {
   "cell_type": "code",
   "execution_count": 36,
   "id": "abfcc301",
   "metadata": {},
   "outputs": [
    {
     "name": "stdout",
     "output_type": "stream",
     "text": [
      "K=2, val_mse=0.40%\n",
      "K=3, val_mse=0.42%\n",
      "K=4, val_mse=0.45%\n",
      "K=5, val_mse=0.37%\n",
      "K=6, val_mse=0.42%\n",
      "K=7, val_mse=0.43%\n",
      "K=8, val_mse=0.47%\n",
      "K=9, val_mse=0.50%\n",
      "K=10, val_mse=0.53%\n",
      "index_mse:3\n",
      "R-squared: 0.7042327330368956\n",
      "MSE: 0.3704744044104543\n"
     ]
    }
   ],
   "source": [
    "scores_KNN, pred_KNN = KNN_model(icu_filter,'Weekly new ICU admissions', 'avr_weekly_ICU_admissions')"
   ]
  },
  {
   "cell_type": "code",
   "execution_count": 38,
   "id": "48471dea",
   "metadata": {},
   "outputs": [
    {
     "data": {
      "image/png": "[encoded data removed]",
      "text/plain": [
       "<Figure size 720x720 with 1 Axes>"
      ]
     },
     "metadata": {
      "needs_background": "light"
     },
     "output_type": "display_data"
    }
   ],
   "source": [
    "plot_pred_vs_true(list(pred_KNN['Predicted']), list(pred_KNN['ActualValue']))"
   ]
  },
  {
   "cell_type": "code",
   "execution_count": 39,
   "id": "3d7750d0",
   "metadata": {},
   "outputs": [
    {
     "name": "stdout",
     "output_type": "stream",
     "text": [
      "0.8667863054921379\n",
      "[-0.00144471]\n",
      "R-squared: 0.8225700389052232\n",
      "MSE: 0.2222465651324339\n"
     ]
    }
   ],
   "source": [
    "scores_LR, pred_LR = LR_model(icu_filter,'Weekly new ICU admissions', 'avr_weekly_ICU_admissions')"
   ]
  },
  {
   "cell_type": "code",
   "execution_count": 40,
   "id": "2b7ace16",
   "metadata": {},
   "outputs": [
    {
     "data": {
      "image/png": "[encoded data removed]",
      "text/plain": [
       "<Figure size 720x720 with 1 Axes>"
      ]
     },
     "metadata": {
      "needs_background": "light"
     },
     "output_type": "display_data"
    }
   ],
   "source": [
    "plot_pred_vs_true(list(pred_LR['Predicted']), list(pred_LR['ActualValue']))"
   ]
  },
  {
   "cell_type": "code",
   "execution_count": 41,
   "id": "5f61d93f",
   "metadata": {},
   "outputs": [],
   "source": [
    "targets_hosp_week =pd.read_csv('C:/Users/annac/avr_hosp_data.csv')\n",
    "hosp_filter = targets_hosp_week[['Weekly new hospital admissions']].loc[targets_hosp_week['Weekly new hospital admissions']>= 0.0]"
   ]
  },
  {
   "cell_type": "code",
   "execution_count": 43,
   "id": "de1f6304",
   "metadata": {},
   "outputs": [
    {
     "name": "stdout",
     "output_type": "stream",
     "text": [
      "2/2 [==============================] - 0s 2ms/step\n"
     ]
    },
    {
     "name": "stderr",
     "output_type": "stream",
     "text": [
      "C:\\Users\\annac\\AppData\\Local\\Temp/ipykernel_3592/695762972.py:54: FutureWarning: The frame.append method is deprecated and will be removed from pandas in a future version. Use pandas.concat instead.\n",
      "  SearchResultsData=SearchResultsData.append(pd.DataFrame(data=[[TrialNumber, batch_size_trial, epochs_trial, MSE]],\n"
     ]
    },
    {
     "name": "stdout",
     "output_type": "stream",
     "text": [
      "2/2 [==============================] - 0s 3ms/step\n"
     ]
    },
    {
     "name": "stderr",
     "output_type": "stream",
     "text": [
      "C:\\Users\\annac\\AppData\\Local\\Temp/ipykernel_3592/695762972.py:54: FutureWarning: The frame.append method is deprecated and will be removed from pandas in a future version. Use pandas.concat instead.\n",
      "  SearchResultsData=SearchResultsData.append(pd.DataFrame(data=[[TrialNumber, batch_size_trial, epochs_trial, MSE]],\n"
     ]
    },
    {
     "name": "stdout",
     "output_type": "stream",
     "text": [
      "2/2 [==============================] - 0s 3ms/step\n"
     ]
    },
    {
     "name": "stderr",
     "output_type": "stream",
     "text": [
      "C:\\Users\\annac\\AppData\\Local\\Temp/ipykernel_3592/695762972.py:54: FutureWarning: The frame.append method is deprecated and will be removed from pandas in a future version. Use pandas.concat instead.\n",
      "  SearchResultsData=SearchResultsData.append(pd.DataFrame(data=[[TrialNumber, batch_size_trial, epochs_trial, MSE]],\n"
     ]
    },
    {
     "name": "stdout",
     "output_type": "stream",
     "text": [
      "2/2 [==============================] - 0s 2ms/step\n"
     ]
    },
    {
     "name": "stderr",
     "output_type": "stream",
     "text": [
      "C:\\Users\\annac\\AppData\\Local\\Temp/ipykernel_3592/695762972.py:54: FutureWarning: The frame.append method is deprecated and will be removed from pandas in a future version. Use pandas.concat instead.\n",
      "  SearchResultsData=SearchResultsData.append(pd.DataFrame(data=[[TrialNumber, batch_size_trial, epochs_trial, MSE]],\n"
     ]
    },
    {
     "name": "stdout",
     "output_type": "stream",
     "text": [
      "2/2 [==============================] - 0s 2ms/step\n"
     ]
    },
    {
     "name": "stderr",
     "output_type": "stream",
     "text": [
      "C:\\Users\\annac\\AppData\\Local\\Temp/ipykernel_3592/695762972.py:54: FutureWarning: The frame.append method is deprecated and will be removed from pandas in a future version. Use pandas.concat instead.\n",
      "  SearchResultsData=SearchResultsData.append(pd.DataFrame(data=[[TrialNumber, batch_size_trial, epochs_trial, MSE]],\n"
     ]
    },
    {
     "name": "stdout",
     "output_type": "stream",
     "text": [
      "2/2 [==============================] - 0s 3ms/step\n"
     ]
    },
    {
     "name": "stderr",
     "output_type": "stream",
     "text": [
      "C:\\Users\\annac\\AppData\\Local\\Temp/ipykernel_3592/695762972.py:54: FutureWarning: The frame.append method is deprecated and will be removed from pandas in a future version. Use pandas.concat instead.\n",
      "  SearchResultsData=SearchResultsData.append(pd.DataFrame(data=[[TrialNumber, batch_size_trial, epochs_trial, MSE]],\n"
     ]
    },
    {
     "name": "stdout",
     "output_type": "stream",
     "text": [
      "2/2 [==============================] - 0s 2ms/step\n"
     ]
    },
    {
     "name": "stderr",
     "output_type": "stream",
     "text": [
      "C:\\Users\\annac\\AppData\\Local\\Temp/ipykernel_3592/695762972.py:54: FutureWarning: The frame.append method is deprecated and will be removed from pandas in a future version. Use pandas.concat instead.\n",
      "  SearchResultsData=SearchResultsData.append(pd.DataFrame(data=[[TrialNumber, batch_size_trial, epochs_trial, MSE]],\n"
     ]
    },
    {
     "name": "stdout",
     "output_type": "stream",
     "text": [
      "2/2 [==============================] - 0s 2ms/step\n"
     ]
    },
    {
     "name": "stderr",
     "output_type": "stream",
     "text": [
      "C:\\Users\\annac\\AppData\\Local\\Temp/ipykernel_3592/695762972.py:54: FutureWarning: The frame.append method is deprecated and will be removed from pandas in a future version. Use pandas.concat instead.\n",
      "  SearchResultsData=SearchResultsData.append(pd.DataFrame(data=[[TrialNumber, batch_size_trial, epochs_trial, MSE]],\n"
     ]
    },
    {
     "name": "stdout",
     "output_type": "stream",
     "text": [
      "2/2 [==============================] - 0s 3ms/step\n"
     ]
    },
    {
     "name": "stderr",
     "output_type": "stream",
     "text": [
      "C:\\Users\\annac\\AppData\\Local\\Temp/ipykernel_3592/695762972.py:54: FutureWarning: The frame.append method is deprecated and will be removed from pandas in a future version. Use pandas.concat instead.\n",
      "  SearchResultsData=SearchResultsData.append(pd.DataFrame(data=[[TrialNumber, batch_size_trial, epochs_trial, MSE]],\n"
     ]
    },
    {
     "name": "stdout",
     "output_type": "stream",
     "text": [
      "2/2 [==============================] - 0s 2ms/step\n"
     ]
    },
    {
     "name": "stderr",
     "output_type": "stream",
     "text": [
      "C:\\Users\\annac\\AppData\\Local\\Temp/ipykernel_3592/695762972.py:54: FutureWarning: The frame.append method is deprecated and will be removed from pandas in a future version. Use pandas.concat instead.\n",
      "  SearchResultsData=SearchResultsData.append(pd.DataFrame(data=[[TrialNumber, batch_size_trial, epochs_trial, MSE]],\n"
     ]
    },
    {
     "name": "stdout",
     "output_type": "stream",
     "text": [
      "2/2 [==============================] - 0s 3ms/step\n"
     ]
    },
    {
     "name": "stderr",
     "output_type": "stream",
     "text": [
      "C:\\Users\\annac\\AppData\\Local\\Temp/ipykernel_3592/695762972.py:54: FutureWarning: The frame.append method is deprecated and will be removed from pandas in a future version. Use pandas.concat instead.\n",
      "  SearchResultsData=SearchResultsData.append(pd.DataFrame(data=[[TrialNumber, batch_size_trial, epochs_trial, MSE]],\n"
     ]
    },
    {
     "name": "stdout",
     "output_type": "stream",
     "text": [
      "2/2 [==============================] - 0s 2ms/step\n"
     ]
    },
    {
     "name": "stderr",
     "output_type": "stream",
     "text": [
      "C:\\Users\\annac\\AppData\\Local\\Temp/ipykernel_3592/695762972.py:54: FutureWarning: The frame.append method is deprecated and will be removed from pandas in a future version. Use pandas.concat instead.\n",
      "  SearchResultsData=SearchResultsData.append(pd.DataFrame(data=[[TrialNumber, batch_size_trial, epochs_trial, MSE]],\n"
     ]
    },
    {
     "name": "stdout",
     "output_type": "stream",
     "text": [
      "2/2 [==============================] - 0s 3ms/step\n"
     ]
    },
    {
     "name": "stderr",
     "output_type": "stream",
     "text": [
      "C:\\Users\\annac\\AppData\\Local\\Temp/ipykernel_3592/695762972.py:54: FutureWarning: The frame.append method is deprecated and will be removed from pandas in a future version. Use pandas.concat instead.\n",
      "  SearchResultsData=SearchResultsData.append(pd.DataFrame(data=[[TrialNumber, batch_size_trial, epochs_trial, MSE]],\n"
     ]
    },
    {
     "name": "stdout",
     "output_type": "stream",
     "text": [
      "2/2 [==============================] - 0s 2ms/step\n"
     ]
    },
    {
     "name": "stderr",
     "output_type": "stream",
     "text": [
      "C:\\Users\\annac\\AppData\\Local\\Temp/ipykernel_3592/695762972.py:54: FutureWarning: The frame.append method is deprecated and will be removed from pandas in a future version. Use pandas.concat instead.\n",
      "  SearchResultsData=SearchResultsData.append(pd.DataFrame(data=[[TrialNumber, batch_size_trial, epochs_trial, MSE]],\n"
     ]
    },
    {
     "name": "stdout",
     "output_type": "stream",
     "text": [
      "2/2 [==============================] - 0s 3ms/step\n"
     ]
    },
    {
     "name": "stderr",
     "output_type": "stream",
     "text": [
      "C:\\Users\\annac\\AppData\\Local\\Temp/ipykernel_3592/695762972.py:54: FutureWarning: The frame.append method is deprecated and will be removed from pandas in a future version. Use pandas.concat instead.\n",
      "  SearchResultsData=SearchResultsData.append(pd.DataFrame(data=[[TrialNumber, batch_size_trial, epochs_trial, MSE]],\n"
     ]
    },
    {
     "name": "stdout",
     "output_type": "stream",
     "text": [
      "2/2 [==============================] - 0s 2ms/step\n",
      "  TrialNumber Parameters       MSE  Batch  Epochs\n",
      "0           1        NaN  0.301975    5.0     5.0\n",
      "0           2        NaN  0.277401    5.0    10.0\n",
      "0           3        NaN  0.158200    5.0    50.0\n",
      "0           4        NaN  0.164317    5.0   100.0\n",
      "0           5        NaN  0.487980   10.0     5.0\n",
      "0           6        NaN  0.293060   10.0    10.0\n",
      "0           7        NaN  0.173388   10.0    50.0\n",
      "0           8        NaN  0.174582   10.0   100.0\n",
      "0           9        NaN  0.705128   15.0     5.0\n",
      "0          10        NaN  0.334079   15.0    10.0\n",
      "0          11        NaN  0.196708   15.0    50.0\n",
      "0          12        NaN  0.193183   15.0   100.0\n",
      "0          13        NaN  0.953179   20.0     5.0\n",
      "0          14        NaN  0.284347   20.0    10.0\n",
      "0          15        NaN  0.186005   20.0    50.0\n",
      "0          16        NaN  0.185024   20.0   100.0\n",
      "index_m:2\n",
      "Epoch 1/50\n"
     ]
    },
    {
     "name": "stderr",
     "output_type": "stream",
     "text": [
      "C:\\Users\\annac\\AppData\\Local\\Temp/ipykernel_3592/695762972.py:54: FutureWarning: The frame.append method is deprecated and will be removed from pandas in a future version. Use pandas.concat instead.\n",
      "  SearchResultsData=SearchResultsData.append(pd.DataFrame(data=[[TrialNumber, batch_size_trial, epochs_trial, MSE]],\n"
     ]
    },
    {
     "name": "stdout",
     "output_type": "stream",
     "text": [
      "33/33 [==============================] - 0s 1ms/step - loss: 0.9542\n",
      "Epoch 2/50\n",
      "33/33 [==============================] - 0s 1ms/step - loss: 0.8372\n",
      "Epoch 3/50\n",
      "33/33 [==============================] - 0s 1ms/step - loss: 0.5449\n",
      "Epoch 4/50\n",
      "33/33 [==============================] - 0s 1ms/step - loss: 0.4528\n",
      "Epoch 5/50\n",
      "33/33 [==============================] - 0s 1ms/step - loss: 0.4231\n",
      "Epoch 6/50\n",
      "33/33 [==============================] - 0s 2ms/step - loss: 0.3814\n",
      "Epoch 7/50\n",
      "33/33 [==============================] - 0s 2ms/step - loss: 0.3511\n",
      "Epoch 8/50\n",
      "33/33 [==============================] - 0s 1ms/step - loss: 0.3499\n",
      "Epoch 9/50\n",
      "33/33 [==============================] - 0s 1ms/step - loss: 0.3049\n",
      "Epoch 10/50\n",
      "33/33 [==============================] - 0s 1ms/step - loss: 0.2907\n",
      "Epoch 11/50\n",
      "33/33 [==============================] - 0s 2ms/step - loss: 0.2826\n",
      "Epoch 12/50\n",
      "33/33 [==============================] - 0s 2ms/step - loss: 0.3046\n",
      "Epoch 13/50\n",
      "33/33 [==============================] - 0s 2ms/step - loss: 0.3060\n",
      "Epoch 14/50\n",
      "33/33 [==============================] - 0s 1ms/step - loss: 0.2445\n",
      "Epoch 15/50\n",
      "33/33 [==============================] - 0s 2ms/step - loss: 0.2931\n",
      "Epoch 16/50\n",
      "33/33 [==============================] - 0s 2ms/step - loss: 0.2372\n",
      "Epoch 17/50\n",
      "33/33 [==============================] - 0s 2ms/step - loss: 0.2697\n",
      "Epoch 18/50\n",
      "33/33 [==============================] - 0s 2ms/step - loss: 0.2509\n",
      "Epoch 19/50\n",
      "33/33 [==============================] - 0s 2ms/step - loss: 0.2736\n",
      "Epoch 20/50\n",
      "33/33 [==============================] - 0s 2ms/step - loss: 0.2474\n",
      "Epoch 21/50\n",
      "33/33 [==============================] - 0s 2ms/step - loss: 0.2353\n",
      "Epoch 22/50\n",
      "33/33 [==============================] - 0s 1ms/step - loss: 0.2155\n",
      "Epoch 23/50\n",
      "33/33 [==============================] - 0s 1ms/step - loss: 0.2221\n",
      "Epoch 24/50\n",
      "33/33 [==============================] - 0s 1ms/step - loss: 0.2656\n",
      "Epoch 25/50\n",
      "33/33 [==============================] - 0s 2ms/step - loss: 0.2143\n",
      "Epoch 26/50\n",
      "33/33 [==============================] - 0s 1ms/step - loss: 0.2003\n",
      "Epoch 27/50\n",
      "33/33 [==============================] - 0s 2ms/step - loss: 0.2112\n",
      "Epoch 28/50\n",
      "33/33 [==============================] - 0s 1ms/step - loss: 0.1721\n",
      "Epoch 29/50\n",
      "33/33 [==============================] - 0s 2ms/step - loss: 0.2033\n",
      "Epoch 30/50\n",
      "33/33 [==============================] - 0s 2ms/step - loss: 0.1862\n",
      "Epoch 31/50\n",
      "33/33 [==============================] - 0s 1ms/step - loss: 0.2254\n",
      "Epoch 32/50\n",
      "33/33 [==============================] - 0s 2ms/step - loss: 0.1513\n",
      "Epoch 33/50\n",
      "33/33 [==============================] - 0s 2ms/step - loss: 0.1987\n",
      "Epoch 34/50\n",
      "33/33 [==============================] - 0s 1ms/step - loss: 0.1527\n",
      "Epoch 35/50\n",
      "33/33 [==============================] - 0s 1ms/step - loss: 0.1811\n",
      "Epoch 36/50\n",
      "33/33 [==============================] - 0s 1ms/step - loss: 0.1532\n",
      "Epoch 37/50\n",
      "33/33 [==============================] - 0s 1ms/step - loss: 0.1946\n",
      "Epoch 38/50\n",
      "33/33 [==============================] - 0s 1ms/step - loss: 0.1580\n",
      "Epoch 39/50\n",
      "33/33 [==============================] - 0s 1ms/step - loss: 0.1426\n",
      "Epoch 40/50\n",
      "33/33 [==============================] - 0s 2ms/step - loss: 0.1772\n",
      "Epoch 41/50\n",
      "33/33 [==============================] - 0s 2ms/step - loss: 0.1634\n",
      "Epoch 42/50\n",
      "33/33 [==============================] - 0s 2ms/step - loss: 0.1123\n",
      "Epoch 43/50\n",
      "33/33 [==============================] - 0s 2ms/step - loss: 0.1666\n",
      "Epoch 44/50\n",
      "33/33 [==============================] - 0s 1ms/step - loss: 0.1258\n",
      "Epoch 45/50\n",
      "33/33 [==============================] - 0s 1ms/step - loss: 0.1555\n",
      "Epoch 46/50\n",
      "33/33 [==============================] - 0s 1ms/step - loss: 0.1441\n",
      "Epoch 47/50\n",
      "33/33 [==============================] - 0s 1ms/step - loss: 0.1369\n",
      "Epoch 48/50\n",
      "33/33 [==============================] - 0s 2ms/step - loss: 0.1247\n",
      "Epoch 49/50\n",
      "33/33 [==============================] - 0s 2ms/step - loss: 0.1324\n",
      "Epoch 50/50\n",
      "33/33 [==============================] - 0s 2ms/step - loss: 0.1368\n",
      "2/2 [==============================] - 0s 2ms/step\n",
      "R-squared: 0.8190105\n",
      "MSE: 0.20763148\n",
      "    ActualValue    Predicted         Diff\n",
      "0   5430.333333  4248.561035  1181.772298\n",
      "1   5373.083333  4512.442871   860.640462\n",
      "2    577.000000   704.716797   127.716797\n",
      "3   3059.294118  2049.698730  1009.595387\n",
      "4    913.800000  -213.500259  1127.300259\n",
      "5    595.866667   251.141220   344.725447\n",
      "6   2464.470588  2676.970947   212.500359\n",
      "7   2514.176471  2639.745117   125.568647\n",
      "8   1549.962963  2525.454346   975.491383\n",
      "9   1639.571429  2106.926758   467.355329\n",
      "10  2852.235294  2460.496094   391.739200\n",
      "11  2515.058824  2514.853760     0.205064\n",
      "12   969.000000   737.325928   231.674072\n",
      "13  1645.000000  2365.756348   720.756348\n",
      "14   838.466667   372.713257   465.753410\n",
      "15  2470.764706  2435.153076    35.611630\n",
      "16  4575.461538  4010.498779   564.962759\n",
      "17   704.600000   425.828979   278.771021\n",
      "18   683.066667   668.158936    14.907731\n",
      "19  2418.705882  2432.943848    14.237965\n",
      "20  1038.200000   852.030884   186.169116\n",
      "21   521.133333   418.055664   103.077669\n",
      "22   349.280000   507.245850   157.965850\n",
      "23  2648.933333  3426.920410   777.987077\n",
      "24  3078.800000  2711.972900   366.827100\n",
      "25  4963.307692  4433.156738   530.150954\n",
      "26  1490.035714  1707.898926   217.863211\n",
      "27  2963.944444  2894.789551    69.154894\n",
      "28   917.000000    98.986809   818.013191\n",
      "29  2980.294118  2257.057861   723.236256\n",
      "30   924.266667   139.296738   784.969929\n",
      "31   424.400000  1048.132568   623.732568\n",
      "32  1546.000000  2513.547852   967.547852\n",
      "33  3663.000000  2198.472900  1464.527100\n",
      "34   768.266667   922.199341   153.932674\n",
      "35   978.125000   742.305054   235.819946\n",
      "36  2425.705882  2450.305176    24.599293\n",
      "37  1133.375000  1003.208130   130.166870\n",
      "38  1437.533333  1327.437988   110.095345\n",
      "39   434.583333   903.865601   469.282267\n",
      "40  2556.166667  2372.359619   183.807048\n",
      "       R^2       MSE\n",
      "0  0.81901  0.207631\n"
     ]
    }
   ],
   "source": [
    "scores_ANN, pred_ANN = ANN_model(hosp_filter,'Weekly new hospital admissions', 'avr_weekly_hosp_admissions')"
   ]
  },
  {
   "cell_type": "code",
   "execution_count": 44,
   "id": "60a80dda",
   "metadata": {},
   "outputs": [
    {
     "data": {
      "image/png": "[encoded data removed]",
      "text/plain": [
       "<Figure size 720x720 with 1 Axes>"
      ]
     },
     "metadata": {
      "needs_background": "light"
     },
     "output_type": "display_data"
    }
   ],
   "source": [
    "plot_pred_vs_true(list(pred_ANN['Predicted']), list(pred_ANN['ActualValue']))"
   ]
  },
  {
   "cell_type": "code",
   "execution_count": 45,
   "id": "691575d4",
   "metadata": {},
   "outputs": [
    {
     "name": "stdout",
     "output_type": "stream",
     "text": [
      "R-squared: 0.8654805408603721\n",
      "MSE: 0.15432095638176144\n"
     ]
    },
    {
     "name": "stderr",
     "output_type": "stream",
     "text": [
      "C:\\Users\\annac\\anaconda\\lib\\site-packages\\sklearn\\utils\\validation.py:63: DataConversionWarning: A column-vector y was passed when a 1d array was expected. Please change the shape of y to (n_samples, ), for example using ravel().\n",
      "  return f(*args, **kwargs)\n"
     ]
    }
   ],
   "source": [
    "scores_SVM, pred_SVM = SVM_model(hosp_filter,'Weekly new hospital admissions', 'avr_weekly_hosp_admissions')"
   ]
  },
  {
   "cell_type": "code",
   "execution_count": 55,
   "id": "cdd8560d",
   "metadata": {},
   "outputs": [
    {
     "data": {
      "text/html": [
       "<div>\n",
       "<style scoped>\n",
       "    .dataframe tbody tr th:only-of-type {\n",
       "        vertical-align: middle;\n",
       "    }\n",
       "\n",
       "    .dataframe tbody tr th {\n",
       "        vertical-align: top;\n",
       "    }\n",
       "\n",
       "    .dataframe thead th {\n",
       "        text-align: right;\n",
       "    }\n",
       "</style>\n",
       "<table border=\"1\" class=\"dataframe\">\n",
       "  <thead>\n",
       "    <tr style=\"text-align: right;\">\n",
       "      <th></th>\n",
       "      <th>ActualValue</th>\n",
       "      <th>Predicted</th>\n",
       "      <th>Diff</th>\n",
       "    </tr>\n",
       "  </thead>\n",
       "  <tbody>\n",
       "    <tr>\n",
       "      <th>0</th>\n",
       "      <td>5430.333333</td>\n",
       "      <td>4826.704573</td>\n",
       "      <td>603.628760</td>\n",
       "    </tr>\n",
       "    <tr>\n",
       "      <th>1</th>\n",
       "      <td>5373.083333</td>\n",
       "      <td>4535.221352</td>\n",
       "      <td>837.861981</td>\n",
       "    </tr>\n",
       "    <tr>\n",
       "      <th>2</th>\n",
       "      <td>577.000000</td>\n",
       "      <td>362.540265</td>\n",
       "      <td>214.459735</td>\n",
       "    </tr>\n",
       "    <tr>\n",
       "      <th>3</th>\n",
       "      <td>3059.294118</td>\n",
       "      <td>2008.312301</td>\n",
       "      <td>1050.981816</td>\n",
       "    </tr>\n",
       "    <tr>\n",
       "      <th>4</th>\n",
       "      <td>913.800000</td>\n",
       "      <td>763.738755</td>\n",
       "      <td>150.061245</td>\n",
       "    </tr>\n",
       "  </tbody>\n",
       "</table>\n",
       "</div>"
      ],
      "text/plain": [
       "   ActualValue    Predicted         Diff\n",
       "0  5430.333333  4826.704573   603.628760\n",
       "1  5373.083333  4535.221352   837.861981\n",
       "2   577.000000   362.540265   214.459735\n",
       "3  3059.294118  2008.312301  1050.981816\n",
       "4   913.800000   763.738755   150.061245"
      ]
     },
     "execution_count": 55,
     "metadata": {},
     "output_type": "execute_result"
    }
   ],
   "source": [
    "pred_SVM.head()"
   ]
  },
  {
   "cell_type": "code",
   "execution_count": 48,
   "id": "f341394c",
   "metadata": {},
   "outputs": [
    {
     "data": {
      "image/png": "[encoded data removed]",
      "text/plain": [
       "<Figure size 720x720 with 1 Axes>"
      ]
     },
     "metadata": {
      "needs_background": "light"
     },
     "output_type": "display_data"
    }
   ],
   "source": [
    "plot_pred_vs_true(list(pred_SVM['Predicted']), list(pred_SVM['ActualValue']))"
   ]
  },
  {
   "cell_type": "code",
   "execution_count": 49,
   "id": "1fead6ce",
   "metadata": {},
   "outputs": [
    {
     "name": "stdout",
     "output_type": "stream",
     "text": [
      "K=2, val_mse=0.13%\n",
      "K=3, val_mse=0.11%\n",
      "K=4, val_mse=0.12%\n",
      "K=5, val_mse=0.11%\n",
      "K=6, val_mse=0.11%\n",
      "K=7, val_mse=0.12%\n",
      "K=8, val_mse=0.13%\n",
      "K=9, val_mse=0.14%\n",
      "K=10, val_mse=0.15%\n",
      "index_mse:3\n",
      "R-squared: 0.9052264599260736\n",
      "MSE: 0.1087243692283401\n"
     ]
    }
   ],
   "source": [
    "scores_KNN, pred_KNN = KNN_model(hosp_filter,'Weekly new hospital admissions', 'avr_weekly_hosp_admissions')"
   ]
  },
  {
   "cell_type": "code",
   "execution_count": 54,
   "id": "991f7c0a",
   "metadata": {},
   "outputs": [
    {
     "data": {
      "text/html": [
       "<div>\n",
       "<style scoped>\n",
       "    .dataframe tbody tr th:only-of-type {\n",
       "        vertical-align: middle;\n",
       "    }\n",
       "\n",
       "    .dataframe tbody tr th {\n",
       "        vertical-align: top;\n",
       "    }\n",
       "\n",
       "    .dataframe thead th {\n",
       "        text-align: right;\n",
       "    }\n",
       "</style>\n",
       "<table border=\"1\" class=\"dataframe\">\n",
       "  <thead>\n",
       "    <tr style=\"text-align: right;\">\n",
       "      <th></th>\n",
       "      <th>ActualValue</th>\n",
       "      <th>Predicted</th>\n",
       "      <th>Diff</th>\n",
       "    </tr>\n",
       "  </thead>\n",
       "  <tbody>\n",
       "    <tr>\n",
       "      <th>0</th>\n",
       "      <td>5430.333333</td>\n",
       "      <td>5001.467576</td>\n",
       "      <td>428.865758</td>\n",
       "    </tr>\n",
       "    <tr>\n",
       "      <th>1</th>\n",
       "      <td>5373.083333</td>\n",
       "      <td>5001.467576</td>\n",
       "      <td>371.615758</td>\n",
       "    </tr>\n",
       "    <tr>\n",
       "      <th>2</th>\n",
       "      <td>577.000000</td>\n",
       "      <td>510.874286</td>\n",
       "      <td>66.125714</td>\n",
       "    </tr>\n",
       "    <tr>\n",
       "      <th>3</th>\n",
       "      <td>3059.294118</td>\n",
       "      <td>2287.644796</td>\n",
       "      <td>771.649321</td>\n",
       "    </tr>\n",
       "    <tr>\n",
       "      <th>4</th>\n",
       "      <td>913.800000</td>\n",
       "      <td>846.946667</td>\n",
       "      <td>66.853333</td>\n",
       "    </tr>\n",
       "  </tbody>\n",
       "</table>\n",
       "</div>"
      ],
      "text/plain": [
       "   ActualValue    Predicted        Diff\n",
       "0  5430.333333  5001.467576  428.865758\n",
       "1  5373.083333  5001.467576  371.615758\n",
       "2   577.000000   510.874286   66.125714\n",
       "3  3059.294118  2287.644796  771.649321\n",
       "4   913.800000   846.946667   66.853333"
      ]
     },
     "execution_count": 54,
     "metadata": {},
     "output_type": "execute_result"
    }
   ],
   "source": [
    "pred_KNN.head()"
   ]
  },
  {
   "cell_type": "code",
   "execution_count": 50,
   "id": "d8eb0358",
   "metadata": {},
   "outputs": [
    {
     "data": {
      "image/png": "[encoded data removed]",
      "text/plain": [
       "<Figure size 720x720 with 1 Axes>"
      ]
     },
     "metadata": {
      "needs_background": "light"
     },
     "output_type": "display_data"
    }
   ],
   "source": [
    "plot_pred_vs_true(list(pred_KNN['Predicted']), list(pred_KNN['ActualValue']))"
   ]
  },
  {
   "cell_type": "code",
   "execution_count": 47,
   "id": "23106dd5",
   "metadata": {},
   "outputs": [
    {
     "name": "stdout",
     "output_type": "stream",
     "text": [
      "0.909132164511277\n",
      "[0.00041717]\n",
      "R-squared: 0.7893593281376068\n",
      "MSE: 0.24164734338517227\n"
     ]
    }
   ],
   "source": [
    "scores_LR, pred_LR = LR_model(hosp_filter,'Weekly new hospital admissions', 'avr_weekly_hosp_admissions')"
   ]
  },
  {
   "cell_type": "code",
   "execution_count": 53,
   "id": "8e7f5a4c",
   "metadata": {},
   "outputs": [
    {
     "data": {
      "text/html": [
       "<div>\n",
       "<style scoped>\n",
       "    .dataframe tbody tr th:only-of-type {\n",
       "        vertical-align: middle;\n",
       "    }\n",
       "\n",
       "    .dataframe tbody tr th {\n",
       "        vertical-align: top;\n",
       "    }\n",
       "\n",
       "    .dataframe thead th {\n",
       "        text-align: right;\n",
       "    }\n",
       "</style>\n",
       "<table border=\"1\" class=\"dataframe\">\n",
       "  <thead>\n",
       "    <tr style=\"text-align: right;\">\n",
       "      <th></th>\n",
       "      <th>ActualValue</th>\n",
       "      <th>Predicted</th>\n",
       "      <th>Diff</th>\n",
       "    </tr>\n",
       "  </thead>\n",
       "  <tbody>\n",
       "    <tr>\n",
       "      <th>0</th>\n",
       "      <td>5430.333333</td>\n",
       "      <td>4459.335710</td>\n",
       "      <td>970.997624</td>\n",
       "    </tr>\n",
       "    <tr>\n",
       "      <th>1</th>\n",
       "      <td>5373.083333</td>\n",
       "      <td>5412.574911</td>\n",
       "      <td>39.491577</td>\n",
       "    </tr>\n",
       "    <tr>\n",
       "      <th>2</th>\n",
       "      <td>577.000000</td>\n",
       "      <td>-378.372304</td>\n",
       "      <td>955.372304</td>\n",
       "    </tr>\n",
       "    <tr>\n",
       "      <th>3</th>\n",
       "      <td>3059.294118</td>\n",
       "      <td>2510.044546</td>\n",
       "      <td>549.249572</td>\n",
       "    </tr>\n",
       "    <tr>\n",
       "      <th>4</th>\n",
       "      <td>913.800000</td>\n",
       "      <td>501.454848</td>\n",
       "      <td>412.345152</td>\n",
       "    </tr>\n",
       "  </tbody>\n",
       "</table>\n",
       "</div>"
      ],
      "text/plain": [
       "   ActualValue    Predicted        Diff\n",
       "0  5430.333333  4459.335710  970.997624\n",
       "1  5373.083333  5412.574911   39.491577\n",
       "2   577.000000  -378.372304  955.372304\n",
       "3  3059.294118  2510.044546  549.249572\n",
       "4   913.800000   501.454848  412.345152"
      ]
     },
     "execution_count": 53,
     "metadata": {},
     "output_type": "execute_result"
    }
   ],
   "source": [
    "pred_LR.head()"
   ]
  },
  {
   "cell_type": "code",
   "execution_count": 51,
   "id": "4aee2731",
   "metadata": {},
   "outputs": [
    {
     "data": {
      "image/png": "[encoded data removed]",
      "text/plain": [
       "<Figure size 720x720 with 1 Axes>"
      ]
     },
     "metadata": {
      "needs_background": "light"
     },
     "output_type": "display_data"
    }
   ],
   "source": [
    "plot_pred_vs_true(list(pred_LR['Predicted']), list(pred_LR['ActualValue']))"
   ]
  },
  {
   "cell_type": "code",
   "execution_count": null,
   "id": "8be58408",
   "metadata": {},
   "outputs": [],
   "source": []
  }
 ],
 "metadata": {
  "kernelspec": {
   "display_name": "Python 3 (ipykernel)",
   "language": "python",
   "name": "python3"
  },
  "language_info": {
   "codemirror_mode": {
    "name": "ipython",
    "version": 3
   },
   "file_extension": ".py",
   "mimetype": "text/x-python",
   "name": "python",
   "nbconvert_exporter": "python",
   "pygments_lexer": "ipython3",
   "version": "3.9.7"
  }
 },
 "nbformat": 4,
 "nbformat_minor": 5
}
